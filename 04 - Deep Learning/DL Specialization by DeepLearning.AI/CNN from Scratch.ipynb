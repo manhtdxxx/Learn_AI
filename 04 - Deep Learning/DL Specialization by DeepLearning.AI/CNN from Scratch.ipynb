{
 "cells": [
  {
   "cell_type": "code",
   "execution_count": 1,
   "id": "1b007bf9-5739-4c81-aed3-2513c3ded80e",
   "metadata": {},
   "outputs": [],
   "source": [
    "import numpy as np\n",
    "import matplotlib.pyplot as plt"
   ]
  },
  {
   "cell_type": "markdown",
   "id": "9a68f48f-6ac1-4d58-8f5d-b7dcbf1af5ba",
   "metadata": {},
   "source": [
    "# Padding"
   ]
  },
  {
   "cell_type": "code",
   "execution_count": 2,
   "id": "fa71817b-30a2-49e1-946e-5d6cf2720de2",
   "metadata": {},
   "outputs": [],
   "source": [
    "def pad_with_zeros(X, n_pads):\n",
    "    \"\"\"\n",
    "    Argument:\n",
    "    X -- python numpy array of shape (m, n_H, n_W, n_C) representing a batch of m images\n",
    "    n_pads -- integer, amount of padding around each image on vertical and horizontal dimensions\n",
    "    \n",
    "    Returns:\n",
    "    X_padded -- padded image of shape (m, n_H + 2 * n_pads, n_W + 2 * n_pads, n_C)\n",
    "    \"\"\"\n",
    "\n",
    "    X_padded = np.pad(X, ((0,0), (n_pads,n_pads), (n_pads,n_pads), (0,0)), mode='constant', constant_values = (0,0))\n",
    "    return X_padded"
   ]
  },
  {
   "cell_type": "code",
   "execution_count": 3,
   "id": "bb864039-bfbd-4f43-a211-c43ba55ff5f7",
   "metadata": {},
   "outputs": [
    {
     "name": "stdout",
     "output_type": "stream",
     "text": [
      "x.shape = (1, 3, 3, 3)\n",
      "x_padded.shape = (1, 9, 9, 3)\n"
     ]
    },
    {
     "data": {
      "image/png": "[encoded data removed]",
      "text/plain": [
       "<Figure size 1200x800 with 6 Axes>"
      ]
     },
     "metadata": {},
     "output_type": "display_data"
    }
   ],
   "source": [
    "x = np.random.randn(1, 3, 3, 3)\n",
    "x = (x - np.min(x)) / (np.max(x) - np.min(x))\n",
    "x_padded = pad_with_zeros(x, n_pads=3)\n",
    "\n",
    "print('x.shape =', x.shape)\n",
    "print('x_padded.shape =', x_padded.shape)\n",
    "\n",
    "fig, axes = plt.subplots(1, 6, figsize=(12, 8))\n",
    "axes = axes.flatten()  # Flatten the 2D array of axes\n",
    "\n",
    "for i in range(3):\n",
    "    axes[i*2].set_title(f'x - channel {i+1}')\n",
    "    axes[i*2].imshow(x[0, :, :, i], cmap='gray', vmin=0, vmax=1)\n",
    "    \n",
    "    axes[i*2+1].set_title(f'x_pad - channel {i+1}')\n",
    "    axes[i*2+1].imshow(x_padded[0, :, :, i], cmap='gray', vmin=0, vmax=1)\n",
    "\n",
    "plt.tight_layout()\n",
    "plt.show()"
   ]
  },
  {
   "cell_type": "markdown",
   "id": "e8d9ac4a-fdc1-4e1f-aedb-da03e6dac19b",
   "metadata": {},
   "source": [
    "# Forward Pass of Conv_Layer"
   ]
  },
  {
   "cell_type": "code",
   "execution_count": 4,
   "id": "f295437e-3333-4a55-b311-d801466df3ce",
   "metadata": {},
   "outputs": [],
   "source": [
    "def convolute(a_sliced_prev, w, b):\n",
    "    \"\"\"\n",
    "    Arguments:\n",
    "    a_sliced_prev -- slice of input data of shape (f, f, n_C_prev)\n",
    "    w -- Weights in a window - matrix of shape (f, f, n_C_prev)\n",
    "    b -- Bias in a window - matrix of shape (1, 1, 1)\n",
    "    \n",
    "    Returns:\n",
    "    z -- a scalar value, the result of convolving the sliding window (W, b) on a slice x of the input data\n",
    "    \"\"\"\n",
    "\n",
    "    z = np.sum(a_sliced_prev * w) + b.item()  # Extract the scalar value from the array b\n",
    "    return z"
   ]
  },
  {
   "cell_type": "code",
   "execution_count": 5,
   "id": "b5a8c130-a283-4689-bbac-6d169419a13f",
   "metadata": {},
   "outputs": [
    {
     "name": "stdout",
     "output_type": "stream",
     "text": [
      "Z = -6.999089450680221\n"
     ]
    }
   ],
   "source": [
    "np.random.seed(1)\n",
    "a_slice_prev = np.random.randn(4, 4, 3)\n",
    "w = np.random.randn(4, 4, 3)\n",
    "b = np.random.randn(1, 1, 1)\n",
    "\n",
    "z = convolute(a_slice_prev, w, b)\n",
    "print(\"Z =\", z)"
   ]
  },
  {
   "cell_type": "markdown",
   "id": "bc12548b-a5d8-4705-bb7c-c2caef08140b",
   "metadata": {},
   "source": [
    "The formulas relating the output shape of the convolution to the input shape are:\n",
    "    \n",
    "$$n_H = \\Bigl\\lfloor \\frac{n_{H_{prev}} - f + 2 \\times pad}{stride} \\Bigr\\rfloor +1$$\n",
    "$$n_W = \\Bigl\\lfloor \\frac{n_{W_{prev}} - f + 2 \\times pad}{stride} \\Bigr\\rfloor +1$$\n",
    "$$n_C = \\text{number of filters used in the convolution}$$\n",
    "    \n",
    "\n",
    "\n",
    "\n",
    "For this exercise, don't worry about vectorization! Just implement everything with for-loops."
   ]
  },
  {
   "cell_type": "code",
   "execution_count": 6,
   "id": "fe5793c2-08c6-44b5-aa76-a707a2bab437",
   "metadata": {},
   "outputs": [],
   "source": [
    "def forward_conv(A_prev, W, B, padding, strides):\n",
    "    \"\"\"\n",
    "    Arguments:\n",
    "    A_prev -- output of the previous layer, numpy array of shape (m, n_H_prev, n_W_prev, n_C_prev)\n",
    "    W -- Weights, numpy array of shape (f, f, n_C_prev, n_C)\n",
    "    B -- Biases, numpy array of shape (1, 1, 1, n_C)\n",
    "    padding -- int, the amount of zero-padding to add around the border\n",
    "    strides -- tuple of two ints, (stride_h, stride_w), the strides for height and width\n",
    "    \n",
    "    Returns:\n",
    "    Z -- conv output, numpy array of shape (m, n_H, n_W, n_C)\n",
    "    cache -- cache of values needed for the backward_conv() function\n",
    "    \"\"\"\n",
    "    m, n_H_prev, n_W_prev, n_C_prev = A_prev.shape\n",
    "    f, _, _, n_C = W.shape\n",
    "    stride_H, stride_W = strides\n",
    "    \n",
    "    n_H = int((n_H_prev - f + 2*padding) / stride_H) + 1\n",
    "    n_W = int((n_W_prev - f + 2*padding) / stride_W) + 1\n",
    "\n",
    "    A_prev = pad_with_zeros(A_prev, n_pads=padding)\n",
    "\n",
    "    Z = np.zeros((m, n_H, n_W, n_C))\n",
    "    \n",
    "    for i in range(m):\n",
    "        a_prev = A_prev[i]  # take 1 sample\n",
    "        \n",
    "        for h in range(n_H):\n",
    "            start_H = h * stride_H\n",
    "            end_H = start_H + f\n",
    "\n",
    "            for w in range(n_W):\n",
    "                start_W = w * stride_W\n",
    "                end_W = start_W + f\n",
    "\n",
    "                for c in range(n_C):\n",
    "                    a_sliced = a_prev[start_H:end_H, start_W:end_W, :]  # take a slice across 3D of 1 sample\n",
    "                    Z[i, h, w, c] = convolute(a_sliced, W[..., c], B[..., c])\n",
    "\n",
    "    cache = (A_prev, W, B, padding, strides)\n",
    "    return Z, cache"
   ]
  },
  {
   "cell_type": "code",
   "execution_count": 7,
   "id": "47970005-85a2-445b-8ad6-d6d9f7c74a1f",
   "metadata": {},
   "outputs": [
    {
     "name": "stdout",
     "output_type": "stream",
     "text": [
      "Z.shape = (2, 3, 4, 8)\n"
     ]
    },
    {
     "data": {
      "text/plain": [
       "array([-2.17796037,  8.07171329, -0.5772704 ,  3.36286738,  4.48113645,\n",
       "       -2.89198428, 10.99288867,  3.03171932])"
      ]
     },
     "execution_count": 7,
     "metadata": {},
     "output_type": "execute_result"
    }
   ],
   "source": [
    "np.random.seed(1)\n",
    "A_prev = np.random.randn(2, 5, 7, 4)\n",
    "W = np.random.randn(3, 3, 4, 8)\n",
    "B = np.random.randn(1, 1, 1, 8)\n",
    "\n",
    "padding = 1\n",
    "strides = (2,2)\n",
    "\n",
    "Z, _ = forward_conv(A_prev, W, B, padding, strides)\n",
    "print('Z.shape =', Z.shape)\n",
    "Z[0, 2, 1]"
   ]
  },
  {
   "cell_type": "markdown",
   "id": "683cbabd-da3f-4131-87ab-0f866c3742dc",
   "metadata": {},
   "source": [
    "# Forward Pass of Pooling Layer"
   ]
  },
  {
   "cell_type": "markdown",
   "id": "234e058a-fda6-46f5-a08e-0e73bd380a0a",
   "metadata": {},
   "source": [
    "As there's no padding, the formulas binding the output shape of the pooling to the input shape is:\n",
    "\n",
    "$$n_H = \\Bigl\\lfloor \\frac{n_{H_{prev}} - f}{stride} \\Bigr\\rfloor +1$$\n",
    "\n",
    "$$n_W = \\Bigl\\lfloor \\frac{n_{W_{prev}} - f}{stride} \\Bigr\\rfloor +1$$\n",
    "\n",
    "$$n_C = n_{C_{prev}}$$"
   ]
  },
  {
   "cell_type": "code",
   "execution_count": 11,
   "id": "e53c1269-3a96-4870-8b14-9486f710ac29",
   "metadata": {},
   "outputs": [],
   "source": [
    "def forward_pool(A_prev, f, strides, mode='max'):\n",
    "    m, n_H_prev, n_W_prev, n_C_prev = A_prev.shape\n",
    "    stride_H, stride_W = strides\n",
    "\n",
    "    n_H = int((n_H_prev - f) / stride_H) + 1\n",
    "    n_W = int((n_W_prev - f) / stride_W) + 1\n",
    "    n_C = n_C_prev\n",
    "\n",
    "    A = np.zeros((m, n_H, n_W, n_C))\n",
    "    \n",
    "    for i in range(m):\n",
    "        a_prev = A_prev[i]  # take 1 sample\n",
    "    \n",
    "        for h in range(n_H):\n",
    "            start_H = h * stride_H\n",
    "            end_H = start_H + f\n",
    "    \n",
    "            for w in range(n_W):\n",
    "                start_W = w * stride_W\n",
    "                end_W = start_W + f\n",
    "    \n",
    "                for c in range(n_C):\n",
    "                    a_sliced = a_prev[start_H:end_H, start_W:end_W, c]  # take a slice across a channel of 1 sample\n",
    "    \n",
    "                    if mode == 'max':\n",
    "                        A[i, h, w, c] = np.max(a_sliced)\n",
    "                    elif mode == 'average':\n",
    "                        A[i, h, w, c] = np.mean(a_sliced)\n",
    "\n",
    "    cache = (A_prev, f, strides)\n",
    "    return A, cache"
   ]
  },
  {
   "cell_type": "code",
   "execution_count": 15,
   "id": "e90e5234-4f0b-4f41-9b8c-1a785ed8c0c7",
   "metadata": {},
   "outputs": [
    {
     "name": "stdout",
     "output_type": "stream",
     "text": [
      "A_max.shape = (2, 3, 3, 3)\n",
      "A_average.shape = (2, 3, 3, 3)\n"
     ]
    },
    {
     "data": {
      "text/plain": [
       "(array([[1.96710175, 0.84616065, 1.27375593],\n",
       "        [1.96710175, 0.84616065, 1.23616403],\n",
       "        [1.62765075, 1.12141771, 1.2245077 ]]),\n",
       " array([[ 0.44497696, -0.00261695, -0.31040307],\n",
       "        [ 0.50811474, -0.23493734, -0.23961183],\n",
       "        [ 0.11872677,  0.17255229, -0.22112197]]))"
      ]
     },
     "execution_count": 15,
     "metadata": {},
     "output_type": "execute_result"
    }
   ],
   "source": [
    "# Case 1: stride of 1\n",
    "np.random.seed(1)\n",
    "A_prev = np.random.randn(2, 5, 5, 3)\n",
    "\n",
    "f = 3\n",
    "strides = (1,1)\n",
    "\n",
    "A_max, _ = forward_pool(A_prev, f, strides, mode='max')\n",
    "A_average, _ = forward_pool(A_prev, f, strides, mode='average')\n",
    "print('A_max.shape =', A_max.shape)\n",
    "print('A_average.shape =', A_average.shape)\n",
    "A_max[1,1], A_average[1,1]"
   ]
  },
  {
   "cell_type": "code",
   "execution_count": 17,
   "id": "c2ed7901-b778-43af-8939-a1ce7a8d5eb8",
   "metadata": {},
   "outputs": [
    {
     "name": "stdout",
     "output_type": "stream",
     "text": [
      "A_max.shape = (2, 2, 2, 3)\n",
      "A_average.shape = (2, 2, 2, 3)\n"
     ]
    },
    {
     "data": {
      "text/plain": [
       "(array([[[1.74481176, 0.90159072, 1.65980218],\n",
       "         [1.74481176, 1.6924546 , 1.65980218]],\n",
       " \n",
       "        [[1.13162939, 1.51981682, 2.18557541],\n",
       "         [1.13162939, 1.6924546 , 2.18557541]]]),\n",
       " array([[[-0.17313416,  0.32377198, -0.34317572],\n",
       "         [ 0.02030094,  0.14141479, -0.01231585]],\n",
       " \n",
       "        [[ 0.42944926,  0.08446996, -0.27290905],\n",
       "         [ 0.15077452,  0.28911175,  0.00123239]]]))"
      ]
     },
     "execution_count": 17,
     "metadata": {},
     "output_type": "execute_result"
    }
   ],
   "source": [
    "# Case 2: stride of 2\n",
    "np.random.seed(1)\n",
    "A_prev = np.random.randn(2, 5, 5, 3)\n",
    "\n",
    "f = 3\n",
    "strides = (2,2)\n",
    "\n",
    "A_max, _ = forward_pool(A_prev, f, strides, mode='max')\n",
    "A_average, _ = forward_pool(A_prev, f, strides, mode='average')\n",
    "print('A_max.shape =', A_max.shape)\n",
    "print('A_average.shape =', A_average.shape)\n",
    "A_max[0], A_average[1]"
   ]
  },
  {
   "cell_type": "markdown",
   "id": "f417af27-2640-4bab-878d-dd6cc80f1c73",
   "metadata": {},
   "source": [
    "# Backpropagation"
   ]
  },
  {
   "cell_type": "code",
   "execution_count": null,
   "id": "76b991f4-44fd-448b-889c-3d2772d48baf",
   "metadata": {},
   "outputs": [],
   "source": []
  }
 ],
 "metadata": {
  "kernelspec": {
   "display_name": "Python 3 (ipykernel)",
   "language": "python",
   "name": "python3"
  },
  "language_info": {
   "codemirror_mode": {
    "name": "ipython",
    "version": 3
   },
   "file_extension": ".py",
   "mimetype": "text/x-python",
   "name": "python",
   "nbconvert_exporter": "python",
   "pygments_lexer": "ipython3",
   "version": "3.11.7"
  }
 },
 "nbformat": 4,
 "nbformat_minor": 5
}
