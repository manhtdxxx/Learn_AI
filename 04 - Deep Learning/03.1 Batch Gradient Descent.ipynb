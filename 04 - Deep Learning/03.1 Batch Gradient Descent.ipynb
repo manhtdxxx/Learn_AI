{
 "cells": [
  {
   "cell_type": "code",
   "execution_count": 1,
   "id": "8c630966",
   "metadata": {},
   "outputs": [],
   "source": [
    "import pandas as pd\n",
    "import numpy as np\n",
    "from matplotlib import pyplot as plt\n",
    "from sklearn.preprocessing import StandardScaler, MinMaxScaler\n",
    "from sklearn.model_selection import train_test_split"
   ]
  },
  {
   "cell_type": "code",
   "execution_count": 2,
   "id": "a2f20486",
   "metadata": {},
   "outputs": [
    {
     "data": {
      "text/html": [
       "<div>\n",
       "<style scoped>\n",
       "    .dataframe tbody tr th:only-of-type {\n",
       "        vertical-align: middle;\n",
       "    }\n",
       "\n",
       "    .dataframe tbody tr th {\n",
       "        vertical-align: top;\n",
       "    }\n",
       "\n",
       "    .dataframe thead th {\n",
       "        text-align: right;\n",
       "    }\n",
       "</style>\n",
       "<table border=\"1\" class=\"dataframe\">\n",
       "  <thead>\n",
       "    <tr style=\"text-align: right;\">\n",
       "      <th></th>\n",
       "      <th>area</th>\n",
       "      <th>bedrooms</th>\n",
       "      <th>price</th>\n",
       "    </tr>\n",
       "  </thead>\n",
       "  <tbody>\n",
       "    <tr>\n",
       "      <th>4</th>\n",
       "      <td>1200</td>\n",
       "      <td>2</td>\n",
       "      <td>51.00</td>\n",
       "    </tr>\n",
       "    <tr>\n",
       "      <th>0</th>\n",
       "      <td>1056</td>\n",
       "      <td>2</td>\n",
       "      <td>39.07</td>\n",
       "    </tr>\n",
       "    <tr>\n",
       "      <th>9</th>\n",
       "      <td>3700</td>\n",
       "      <td>5</td>\n",
       "      <td>167.00</td>\n",
       "    </tr>\n",
       "    <tr>\n",
       "      <th>13</th>\n",
       "      <td>1100</td>\n",
       "      <td>2</td>\n",
       "      <td>40.00</td>\n",
       "    </tr>\n",
       "    <tr>\n",
       "      <th>10</th>\n",
       "      <td>1800</td>\n",
       "      <td>3</td>\n",
       "      <td>82.00</td>\n",
       "    </tr>\n",
       "  </tbody>\n",
       "</table>\n",
       "</div>"
      ],
      "text/plain": [
       "    area  bedrooms   price\n",
       "4   1200         2   51.00\n",
       "0   1056         2   39.07\n",
       "9   3700         5  167.00\n",
       "13  1100         2   40.00\n",
       "10  1800         3   82.00"
      ]
     },
     "execution_count": 2,
     "metadata": {},
     "output_type": "execute_result"
    }
   ],
   "source": [
    "df = pd.read_csv(\"homeprices_banglore.csv\")\n",
    "df.sample(5)"
   ]
  },
  {
   "cell_type": "code",
   "execution_count": 3,
   "id": "1b3a0525",
   "metadata": {},
   "outputs": [
    {
     "data": {
      "text/html": [
       "<div>\n",
       "<style scoped>\n",
       "    .dataframe tbody tr th:only-of-type {\n",
       "        vertical-align: middle;\n",
       "    }\n",
       "\n",
       "    .dataframe tbody tr th {\n",
       "        vertical-align: top;\n",
       "    }\n",
       "\n",
       "    .dataframe thead th {\n",
       "        text-align: right;\n",
       "    }\n",
       "</style>\n",
       "<table border=\"1\" class=\"dataframe\">\n",
       "  <thead>\n",
       "    <tr style=\"text-align: right;\">\n",
       "      <th></th>\n",
       "      <th>area</th>\n",
       "      <th>bedrooms</th>\n",
       "      <th>price</th>\n",
       "    </tr>\n",
       "  </thead>\n",
       "  <tbody>\n",
       "    <tr>\n",
       "      <th>count</th>\n",
       "      <td>20.000000</td>\n",
       "      <td>20.000000</td>\n",
       "      <td>20.000000</td>\n",
       "    </tr>\n",
       "    <tr>\n",
       "      <th>mean</th>\n",
       "      <td>1821.450000</td>\n",
       "      <td>2.900000</td>\n",
       "      <td>78.853500</td>\n",
       "    </tr>\n",
       "    <tr>\n",
       "      <th>std</th>\n",
       "      <td>864.615794</td>\n",
       "      <td>0.967906</td>\n",
       "      <td>43.761901</td>\n",
       "    </tr>\n",
       "    <tr>\n",
       "      <th>min</th>\n",
       "      <td>800.000000</td>\n",
       "      <td>1.000000</td>\n",
       "      <td>32.000000</td>\n",
       "    </tr>\n",
       "    <tr>\n",
       "      <th>25%</th>\n",
       "      <td>1173.750000</td>\n",
       "      <td>2.000000</td>\n",
       "      <td>41.500000</td>\n",
       "    </tr>\n",
       "    <tr>\n",
       "      <th>50%</th>\n",
       "      <td>1480.500000</td>\n",
       "      <td>3.000000</td>\n",
       "      <td>61.000000</td>\n",
       "    </tr>\n",
       "    <tr>\n",
       "      <th>75%</th>\n",
       "      <td>2633.000000</td>\n",
       "      <td>3.250000</td>\n",
       "      <td>106.500000</td>\n",
       "    </tr>\n",
       "    <tr>\n",
       "      <th>max</th>\n",
       "      <td>3700.000000</td>\n",
       "      <td>5.000000</td>\n",
       "      <td>167.000000</td>\n",
       "    </tr>\n",
       "  </tbody>\n",
       "</table>\n",
       "</div>"
      ],
      "text/plain": [
       "              area   bedrooms       price\n",
       "count    20.000000  20.000000   20.000000\n",
       "mean   1821.450000   2.900000   78.853500\n",
       "std     864.615794   0.967906   43.761901\n",
       "min     800.000000   1.000000   32.000000\n",
       "25%    1173.750000   2.000000   41.500000\n",
       "50%    1480.500000   3.000000   61.000000\n",
       "75%    2633.000000   3.250000  106.500000\n",
       "max    3700.000000   5.000000  167.000000"
      ]
     },
     "execution_count": 3,
     "metadata": {},
     "output_type": "execute_result"
    }
   ],
   "source": [
    "df.describe()"
   ]
  },
  {
   "cell_type": "code",
   "execution_count": 4,
   "id": "dd21b01e",
   "metadata": {},
   "outputs": [
    {
     "data": {
      "text/plain": [
       "((20, 2), (20, 1))"
      ]
     },
     "execution_count": 4,
     "metadata": {},
     "output_type": "execute_result"
    }
   ],
   "source": [
    "X = df.drop('price', axis=1).values\n",
    "Y = df.price.values.reshape(df.shape[0],1)  # ma trận (20x1)\n",
    "X.shape, Y.shape"
   ]
  },
  {
   "cell_type": "code",
   "execution_count": 5,
   "id": "5929138b",
   "metadata": {},
   "outputs": [],
   "source": [
    "scalerX = MinMaxScaler()\n",
    "scalerY = MinMaxScaler()\n",
    "\n",
    "X_scaled = scalerX.fit_transform(X)\n",
    "Y_scaled = scalerY.fit_transform(Y)"
   ]
  },
  {
   "cell_type": "markdown",
   "id": "0727bdd8",
   "metadata": {},
   "source": [
    "# Batch Gradien Descent"
   ]
  },
  {
   "cell_type": "code",
   "execution_count": 6,
   "id": "3e9dc54f",
   "metadata": {},
   "outputs": [],
   "source": [
    "def batch_gradient_descent(X, y_true, epochs, learning_rate = 0.01):\n",
    "    features = X.shape[1]\n",
    "    samples = X.shape[0]\n",
    "    \n",
    "    w = np.ones(shape=(features, 1)) # matrix (2x1)\n",
    "    bias = 0\n",
    "    \n",
    "    list_loss = []\n",
    "    list_epoch = []\n",
    "    \n",
    "    for i in range(epochs):\n",
    "        weighted_sum = (X @ w) + bias # (20x2) @ (2x1) + 1 số = (20x1)\n",
    "        y_pred = weighted_sum   # no activation function\n",
    "        \n",
    "        loss = np.mean(np.square(y_true - y_pred))  # mean squared error\n",
    "        \n",
    "        if i % 5 == 0:\n",
    "            list_loss.append(loss)\n",
    "            list_epoch.append(i)\n",
    "\n",
    "        d_w = (-2/samples) * (X.T @ (y_true - y_pred))  # 1 số * (2x20) @ (20x1) = (2x1)\n",
    "        d_bias = (-2/samples) * np.sum(y_true - y_pred)\n",
    "        \n",
    "        w = w - learning_rate * d_w  # return matrix (2x1)\n",
    "        bias = bias - learning_rate * d_bias\n",
    "    \n",
    "    return w, bias, loss, list_loss, list_epoch"
   ]
  },
  {
   "cell_type": "code",
   "execution_count": 7,
   "id": "2f1857a7",
   "metadata": {},
   "outputs": [
    {
     "data": {
      "text/plain": [
       "0.011596714354952787"
      ]
     },
     "execution_count": 7,
     "metadata": {},
     "output_type": "execute_result"
    }
   ],
   "source": [
    "w, bias, loss, list_loss, list_epoch = batch_gradient_descent(X_scaled, Y_scaled, 200)\n",
    "loss"
   ]
  },
  {
   "cell_type": "code",
   "execution_count": 8,
   "id": "447282ca",
   "metadata": {},
   "outputs": [
    {
     "data": {
      "text/plain": [
       "[<matplotlib.lines.Line2D at 0x2d26758fdd0>]"
      ]
     },
     "execution_count": 8,
     "metadata": {},
     "output_type": "execute_result"
    },
    {
     "data": {
      "image/png": "[encoded data removed]",
      "text/plain": [
       "<Figure size 640x480 with 1 Axes>"
      ]
     },
     "metadata": {},
     "output_type": "display_data"
    }
   ],
   "source": [
    "plt.plot(list_epoch, list_loss)  # epochs = 50 là đẹp r!!!"
   ]
  },
  {
   "cell_type": "markdown",
   "id": "834dc5b8-ae2e-47c0-a1dd-dd08dffdbe50",
   "metadata": {},
   "source": [
    "### Predict"
   ]
  },
  {
   "cell_type": "code",
   "execution_count": 9,
   "id": "8421f276-d89c-43d1-8b51-4dfe88deb747",
   "metadata": {},
   "outputs": [
    {
     "data": {
      "text/plain": [
       "(array([[0.77641934],\n",
       "        [0.745817  ]]),\n",
       " -0.29270697048396327)"
      ]
     },
     "execution_count": 9,
     "metadata": {},
     "output_type": "execute_result"
    }
   ],
   "source": [
    "w, bias"
   ]
  },
  {
   "cell_type": "code",
   "execution_count": 10,
   "id": "6b1f46a3",
   "metadata": {},
   "outputs": [],
   "source": [
    "def predict(X, w, bias):\n",
    "    weighted_sum = X @ w + bias  # (20x2) @ (2x1) = (20x1)\n",
    "    y_pred = weighted_sum\n",
    "    return y_pred"
   ]
  },
  {
   "cell_type": "code",
   "execution_count": 11,
   "id": "bca2bf2e",
   "metadata": {},
   "outputs": [],
   "source": [
    "X_train, X_test, y_train, y_test = train_test_split(X_scaled, Y_scaled, train_size=0.7, random_state=1)"
   ]
  },
  {
   "cell_type": "code",
   "execution_count": 12,
   "id": "7ee1f1fc",
   "metadata": {},
   "outputs": [],
   "source": [
    "yp_test = predict(X_test, w, bias)"
   ]
  },
  {
   "cell_type": "code",
   "execution_count": 13,
   "id": "72d2c0b4",
   "metadata": {},
   "outputs": [
    {
     "data": {
      "text/plain": [
       "array([[ 68.88678413],\n",
       "       [ 56.5617965 ],\n",
       "       [137.82807848],\n",
       "       [ 78.97086493],\n",
       "       [ 65.95914778],\n",
       "       [ 95.23551137]])"
      ]
     },
     "execution_count": 13,
     "metadata": {},
     "output_type": "execute_result"
    }
   ],
   "source": [
    "scalerY.inverse_transform(yp_test)"
   ]
  },
  {
   "cell_type": "code",
   "execution_count": 14,
   "id": "aa400cf1",
   "metadata": {},
   "outputs": [
    {
     "data": {
      "text/plain": [
       "array([[ 75.],\n",
       "       [ 48.],\n",
       "       [135.],\n",
       "       [ 82.],\n",
       "       [ 62.],\n",
       "       [101.]])"
      ]
     },
     "execution_count": 14,
     "metadata": {},
     "output_type": "execute_result"
    }
   ],
   "source": [
    "scalerY.inverse_transform(y_test)"
   ]
  },
  {
   "cell_type": "code",
   "execution_count": null,
   "id": "7701ec9f",
   "metadata": {},
   "outputs": [],
   "source": []
  }
 ],
 "metadata": {
  "kernelspec": {
   "display_name": "Python 3 (ipykernel)",
   "language": "python",
   "name": "python3"
  },
  "language_info": {
   "codemirror_mode": {
    "name": "ipython",
    "version": 3
   },
   "file_extension": ".py",
   "mimetype": "text/x-python",
   "name": "python",
   "nbconvert_exporter": "python",
   "pygments_lexer": "ipython3",
   "version": "3.11.7"
  }
 },
 "nbformat": 4,
 "nbformat_minor": 5
}
