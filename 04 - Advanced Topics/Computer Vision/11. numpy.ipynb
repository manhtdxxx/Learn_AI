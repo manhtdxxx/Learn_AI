{
 "cells": [
  {
   "cell_type": "code",
   "execution_count": 1,
   "id": "1e333e72-ea41-42d5-a706-bc75eb469689",
   "metadata": {},
   "outputs": [],
   "source": [
    "import numpy as np"
   ]
  },
  {
   "cell_type": "code",
   "execution_count": 2,
   "id": "8b3efc45-2013-4e1e-b1fb-1bd7a37b17ac",
   "metadata": {},
   "outputs": [
    {
     "data": {
      "text/plain": [
       "array([[8, 1, 2],\n",
       "       [3, 2, 8],\n",
       "       [8, 6, 1]], dtype=int64)"
      ]
     },
     "execution_count": 2,
     "metadata": {},
     "output_type": "execute_result"
    }
   ],
   "source": [
    "seed = np.random.default_rng(3)\n",
    "arr = seed.integers(1, 10, (3, 3))\n",
    "arr"
   ]
  },
  {
   "cell_type": "markdown",
   "id": "3a04ad77-c09d-4bc9-9162-ea394be21611",
   "metadata": {},
   "source": [
    "# Thuộc tính"
   ]
  },
  {
   "cell_type": "code",
   "execution_count": 3,
   "id": "67f2e92a-2341-47be-98bc-7b0428c270da",
   "metadata": {},
   "outputs": [
    {
     "name": "stdout",
     "output_type": "stream",
     "text": [
      "(3, 3)\n",
      "9\n",
      "2\n"
     ]
    }
   ],
   "source": [
    "print(arr.shape)  # mảng 2 chiều chứa 3 mảng 1 chiều, mỗi mảng chứa 3 phần tử\n",
    "print(arr.size)  # tổng phần tử 3x3\n",
    "print(arr.ndim)  # số chiều"
   ]
  },
  {
   "cell_type": "markdown",
   "id": "ab8dd471-38bc-450d-877f-cbe58c5538fe",
   "metadata": {},
   "source": [
    "# ÉP KIỂU DỮ LIỆU"
   ]
  },
  {
   "cell_type": "code",
   "execution_count": 4,
   "id": "9d162316-8f6d-4079-8603-3edfc07f0bad",
   "metadata": {},
   "outputs": [
    {
     "data": {
      "text/plain": [
       "array([[8., 1., 2.],\n",
       "       [3., 2., 8.],\n",
       "       [8., 6., 1.]])"
      ]
     },
     "execution_count": 4,
     "metadata": {},
     "output_type": "execute_result"
    }
   ],
   "source": [
    "float_arr = arr.astype(float)  # others: complex, ...\n",
    "float_arr"
   ]
  },
  {
   "cell_type": "markdown",
   "id": "92921114-8570-4ec7-aa4c-bcdd4e5408f7",
   "metadata": {},
   "source": [
    "# THAY ĐỔI SHAPE"
   ]
  },
  {
   "cell_type": "code",
   "execution_count": 5,
   "id": "01f53282-b7b5-4281-b27a-aa4dcab774dc",
   "metadata": {},
   "outputs": [
    {
     "data": {
      "text/plain": [
       "array([[8],\n",
       "       [1],\n",
       "       [2],\n",
       "       [3],\n",
       "       [2],\n",
       "       [8],\n",
       "       [8],\n",
       "       [6],\n",
       "       [1]], dtype=int64)"
      ]
     },
     "execution_count": 5,
     "metadata": {},
     "output_type": "execute_result"
    }
   ],
   "source": [
    "reshaped_arr = arr.reshape(9, -1)\n",
    "# mảng 2 chiều gồm 9 mảng 1 chiều, mỗi mảng chứa ... phần tử\n",
    "reshaped_arr"
   ]
  },
  {
   "cell_type": "code",
   "execution_count": 15,
   "id": "f9bf3b31-e39a-4681-bcd2-54c6cc70e806",
   "metadata": {},
   "outputs": [
    {
     "data": {
      "text/plain": [
       "array([8, 1, 2, 3, 2, 8, 8, 6, 1], dtype=int64)"
      ]
     },
     "execution_count": 15,
     "metadata": {},
     "output_type": "execute_result"
    }
   ],
   "source": [
    "flattened_arr = reshaped_arr.flatten()\n",
    "flattened_arr"
   ]
  },
  {
   "cell_type": "markdown",
   "id": "6a28d4f1-0c35-495f-9907-cccee50253b3",
   "metadata": {},
   "source": [
    "# Sắp xếp"
   ]
  },
  {
   "cell_type": "code",
   "execution_count": 6,
   "id": "e34e1363-dde1-44cb-96f7-a52ce8ff6bf5",
   "metadata": {},
   "outputs": [
    {
     "data": {
      "text/plain": [
       "array([[3, 1, 1],\n",
       "       [8, 2, 2],\n",
       "       [8, 6, 8]], dtype=int64)"
      ]
     },
     "execution_count": 6,
     "metadata": {},
     "output_type": "execute_result"
    }
   ],
   "source": [
    "sort_column = np.sort(arr, axis=0)\n",
    "sort_column"
   ]
  },
  {
   "cell_type": "code",
   "execution_count": 7,
   "id": "b231ab0b-2ce5-4763-a0a2-b04f9d1c8a3f",
   "metadata": {},
   "outputs": [
    {
     "data": {
      "text/plain": [
       "array([[1, 2, 8],\n",
       "       [2, 3, 8],\n",
       "       [1, 6, 8]], dtype=int64)"
      ]
     },
     "execution_count": 7,
     "metadata": {},
     "output_type": "execute_result"
    }
   ],
   "source": [
    "sort_row = np.sort(arr, axis=1)\n",
    "sort_row"
   ]
  },
  {
   "cell_type": "code",
   "execution_count": 8,
   "id": "26bd64a3-7fa9-46ec-9f5c-d6e15a27464f",
   "metadata": {},
   "outputs": [
    {
     "data": {
      "text/plain": [
       "array([[8, 2, 1],\n",
       "       [8, 3, 2],\n",
       "       [8, 6, 1]], dtype=int64)"
      ]
     },
     "execution_count": 8,
     "metadata": {},
     "output_type": "execute_result"
    }
   ],
   "source": [
    "reverse_sort_row = -np.sort(-arr, axis=1)  \n",
    "# sắp xếp tăng dần th arr ÂM và thêm dấu - để đổi ngược lại thành arr DƯƠNG\n",
    "reverse_sort_row"
   ]
  },
  {
   "cell_type": "markdown",
   "id": "9b3d14a4-ecd1-4ca6-9ad3-c9d9c7fbb5e6",
   "metadata": {},
   "source": [
    "# Thêm"
   ]
  },
  {
   "cell_type": "code",
   "execution_count": 9,
   "id": "7f57e2df-d897-4ccc-8ea7-f6131b4335c2",
   "metadata": {},
   "outputs": [
    {
     "data": {
      "text/plain": [
       "array([  8,   1,   2,   3,   2,   8,   8,   6,   1, 100, 100, 100],\n",
       "      dtype=int64)"
      ]
     },
     "execution_count": 9,
     "metadata": {},
     "output_type": "execute_result"
    }
   ],
   "source": [
    "append_flatten = np.append(arr, [[100], [100], [100]], axis=None)\n",
    "append_flatten"
   ]
  },
  {
   "cell_type": "code",
   "execution_count": 10,
   "id": "70af9ae6-7ea5-49e2-adaf-b813cbf3dad6",
   "metadata": {},
   "outputs": [
    {
     "data": {
      "text/plain": [
       "array([[  8,   1,   2],\n",
       "       [  3,   2,   8],\n",
       "       [  8,   6,   1],\n",
       "       [100, 100, 100]], dtype=int64)"
      ]
     },
     "execution_count": 10,
     "metadata": {},
     "output_type": "execute_result"
    }
   ],
   "source": [
    "append_row = np.append(arr, [[100, 100, 100]], axis=0)\n",
    "append_row"
   ]
  },
  {
   "cell_type": "code",
   "execution_count": 11,
   "id": "006ae1bd-1cb2-4d1f-8718-90e1e18624c1",
   "metadata": {},
   "outputs": [
    {
     "data": {
      "text/plain": [
       "array([[  8,   1,   2, 100],\n",
       "       [  3,   2,   8, 100],\n",
       "       [  8,   6,   1, 100]], dtype=int64)"
      ]
     },
     "execution_count": 11,
     "metadata": {},
     "output_type": "execute_result"
    }
   ],
   "source": [
    "append_column = np.append(arr, [[100], [100], [100]], axis=1)\n",
    "append_column"
   ]
  },
  {
   "cell_type": "markdown",
   "id": "28eabd0c-c343-4201-b9cf-da6e9d38be01",
   "metadata": {},
   "source": [
    "# Xóa"
   ]
  },
  {
   "cell_type": "code",
   "execution_count": 12,
   "id": "1ec726cf-25b3-43d2-a2fe-c2dc13be25ad",
   "metadata": {},
   "outputs": [
    {
     "data": {
      "text/plain": [
       "array([  3,   2,   8,   8,   6,   1, 100, 100, 100], dtype=int64)"
      ]
     },
     "execution_count": 12,
     "metadata": {},
     "output_type": "execute_result"
    }
   ],
   "source": [
    "delete_flatten = np.delete(append_flatten, [0, 1, 2], axis=None)\n",
    "delete_flatten"
   ]
  },
  {
   "cell_type": "code",
   "execution_count": 13,
   "id": "528c9886-853c-4f86-a446-32446311aa2a",
   "metadata": {},
   "outputs": [
    {
     "data": {
      "text/plain": [
       "array([[  8,   2, 100],\n",
       "       [  3,   8, 100],\n",
       "       [  8,   1, 100]], dtype=int64)"
      ]
     },
     "execution_count": 13,
     "metadata": {},
     "output_type": "execute_result"
    }
   ],
   "source": [
    "delete_column = np.delete(append_column, 1, axis=1)  # index 3 of column\n",
    "delete_column"
   ]
  },
  {
   "cell_type": "code",
   "execution_count": 14,
   "id": "b51afce0-797d-4942-98da-3f6d1db77cd9",
   "metadata": {},
   "outputs": [
    {
     "data": {
      "text/plain": [
       "array([[  8,   1,   2],\n",
       "       [  3,   2,   8],\n",
       "       [100, 100, 100]], dtype=int64)"
      ]
     },
     "execution_count": 14,
     "metadata": {},
     "output_type": "execute_result"
    }
   ],
   "source": [
    "delete_row = np.delete(append_row, 2, axis=0)  # index 2 of row\n",
    "delete_row"
   ]
  }
 ],
 "metadata": {
  "kernelspec": {
   "display_name": "Python 3 (ipykernel)",
   "language": "python",
   "name": "python3"
  },
  "language_info": {
   "codemirror_mode": {
    "name": "ipython",
    "version": 3
   },
   "file_extension": ".py",
   "mimetype": "text/x-python",
   "name": "python",
   "nbconvert_exporter": "python",
   "pygments_lexer": "ipython3",
   "version": "3.11.7"
  }
 },
 "nbformat": 4,
 "nbformat_minor": 5
}
