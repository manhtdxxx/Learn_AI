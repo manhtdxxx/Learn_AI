{
 "cells": [
  {
   "cell_type": "markdown",
   "id": "88c6d20a-c7af-4c5a-806b-eb7acc633f1d",
   "metadata": {},
   "source": [
    "# Haar Cascade: https://github.com/opencv/opencv/tree/master/data/haarcascades"
   ]
  },
  {
   "cell_type": "code",
   "execution_count": 1,
   "id": "a0bd887f-a3b1-44f2-9311-6f2bb689f124",
   "metadata": {
    "tags": []
   },
   "outputs": [],
   "source": [
    "import cv2"
   ]
  },
  {
   "cell_type": "code",
   "execution_count": 2,
   "id": "1092f5d9-7d7e-4d67-9c34-457037332e1c",
   "metadata": {},
   "outputs": [],
   "source": [
    "im_path = './my_camera/the 900th frame.jpg'\n",
    "arr = cv2.imread(im_path)\n",
    "gray_arr = cv2.cvtColor(arr, cv2.COLOR_BGR2GRAY)"
   ]
  },
  {
   "cell_type": "code",
   "execution_count": 3,
   "id": "f570ef7c-457b-400d-8300-be19881a46f7",
   "metadata": {},
   "outputs": [
    {
     "data": {
      "text/plain": [
       "< cv2.CascadeClassifier 000001897BDC8890>"
      ]
     },
     "execution_count": 3,
     "metadata": {},
     "output_type": "execute_result"
    }
   ],
   "source": [
    "face_cascade_path = './haarcascade/haarcascade_frontalface_default.xml'\n",
    "face_cascade = cv2.CascadeClassifier(face_cascade_path)\n",
    "face_cascade"
   ]
  },
  {
   "cell_type": "code",
   "execution_count": 4,
   "id": "11c3d221-ab9f-4d45-8996-b63515dd4ae7",
   "metadata": {},
   "outputs": [
    {
     "data": {
      "text/plain": [
       "< cv2.CascadeClassifier 000001897BDCB2B0>"
      ]
     },
     "execution_count": 4,
     "metadata": {},
     "output_type": "execute_result"
    }
   ],
   "source": [
    "eye_cascade_path = './haarcascade/haarcascade_eye_tree_eyeglasses.xml'\n",
    "eye_cascade = cv2.CascadeClassifier(eye_cascade_path)\n",
    "eye_cascade"
   ]
  },
  {
   "cell_type": "code",
   "execution_count": 5,
   "id": "9727446d-18e9-4b01-aa2a-db620633d13c",
   "metadata": {},
   "outputs": [
    {
     "data": {
      "text/plain": [
       "array([[268, 223, 242, 242]])"
      ]
     },
     "execution_count": 5,
     "metadata": {},
     "output_type": "execute_result"
    }
   ],
   "source": [
    "face_box = face_cascade.detectMultiScale(gray_arr, scaleFactor= 1.1, minNeighbors = 5, minSize=(30, 30))\n",
    "face_box"
   ]
  },
  {
   "cell_type": "code",
   "execution_count": 6,
   "id": "7f4ca95c-898c-4a7d-b1ec-bed2017feb2b",
   "metadata": {},
   "outputs": [
    {
     "data": {
      "text/plain": [
       "array([[414, 279,  52,  52],\n",
       "       [303, 265,  68,  68]])"
      ]
     },
     "execution_count": 6,
     "metadata": {},
     "output_type": "execute_result"
    }
   ],
   "source": [
    "eye_box = eye_cascade.detectMultiScale(gray_arr, scaleFactor= 1.1, minNeighbors = 1, minSize=(5, 5))\n",
    "eye_box"
   ]
  },
  {
   "cell_type": "code",
   "execution_count": 7,
   "id": "66bf5251-5bfe-4322-b080-bf70da9b36c2",
   "metadata": {},
   "outputs": [],
   "source": [
    "# Vẽ box chứa mặt vào ảnh gốc có màu BGR nhé!!! k phải ảnh xám đâu\n",
    "for x, y, height, width in face_box:\n",
    "    start_point = (x, y)\n",
    "    end_point = (x + width, y + height)\n",
    "    cv2.rectangle(arr, start_point, end_point, (0, 255, 0), 3)\n",
    "\n",
    "# Vẽ box chứa mắt vào ảnh gốc có màu BGR nhé!!! k phải ảnh xám đâu\n",
    "for x, y, height, width in eye_box:\n",
    "    start_point = (x, y)\n",
    "    end_point = (x + width, y + height)\n",
    "    cv2.rectangle(arr, start_point, end_point, (255, 0, 0), 3)\n",
    "\n",
    "\n",
    "# Hiện ảnh BGR nhé!!!\n",
    "cv2.imshow('MY FACE', arr)\n",
    "cv2.waitKey(5000)\n",
    "cv2.destroyAllWindows()"
   ]
  },
  {
   "cell_type": "code",
   "execution_count": null,
   "id": "9f75cabd-3594-45e6-b2dd-bbc86ad49ef3",
   "metadata": {},
   "outputs": [],
   "source": []
  }
 ],
 "metadata": {
  "kernelspec": {
   "display_name": "Python 3 (ipykernel)",
   "language": "python",
   "name": "python3"
  },
  "language_info": {
   "codemirror_mode": {
    "name": "ipython",
    "version": 3
   },
   "file_extension": ".py",
   "mimetype": "text/x-python",
   "name": "python",
   "nbconvert_exporter": "python",
   "pygments_lexer": "ipython3",
   "version": "3.11.7"
  }
 },
 "nbformat": 4,
 "nbformat_minor": 5
}
