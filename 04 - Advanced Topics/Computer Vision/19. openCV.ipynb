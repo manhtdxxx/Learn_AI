{
 "cells": [
  {
   "cell_type": "raw",
   "id": "defb48f6-b447-40a7-bc68-22dde77957da",
   "metadata": {},
   "source": [
    "• Pixel (viết tắt của \"picture element\") trong ảnh là đơn vị cơ bản\n",
    "nhỏ nhất của một hình ảnh kỹ thuật số.\n",
    "• Mỗi pixel đại diện cho một MÀU SẮC hoặc ĐỘ SÁNG cụ thể tại một\n",
    "vị trí cụ thể trên một hình ảnh.\n",
    "• Các pixel kết hợp lại tạo nên hình ảnh hoàn chỉnh"
   ]
  },
  {
   "cell_type": "code",
   "execution_count": 1,
   "id": "1b698aba-7b68-4e3b-a38a-05bc66f9501b",
   "metadata": {},
   "outputs": [],
   "source": [
    "import cv2\n",
    "from PIL import Image\n",
    "import numpy as np\n",
    "import matplotlib.pyplot as plt"
   ]
  },
  {
   "cell_type": "code",
   "execution_count": 2,
   "id": "e3422f58-2623-4de0-91c4-8798138f639b",
   "metadata": {},
   "outputs": [],
   "source": [
    "path = './img/animal02.jpg'"
   ]
  },
  {
   "cell_type": "code",
   "execution_count": 3,
   "id": "4b40f23c-810c-43c8-848f-c1c6fa9ef66e",
   "metadata": {
    "scrolled": true
   },
   "outputs": [
    {
     "data": {
      "text/plain": [
       "((371, 508, 3), array([255, 254, 255], dtype=uint8))"
      ]
     },
     "execution_count": 3,
     "metadata": {},
     "output_type": "execute_result"
    }
   ],
   "source": [
    "im1 = Image.open(path)  \n",
    "arr1 = np.array(im1)\n",
    "arr1.shape, arr1[0, 0]  # RGB"
   ]
  },
  {
   "cell_type": "code",
   "execution_count": 4,
   "id": "1484acfe-5b11-41af-83ab-7efa6dc9774e",
   "metadata": {},
   "outputs": [
    {
     "data": {
      "text/plain": [
       "((371, 508, 3), array([255, 254, 255], dtype=uint8))"
      ]
     },
     "execution_count": 4,
     "metadata": {},
     "output_type": "execute_result"
    }
   ],
   "source": [
    "arr2 = cv2.imread(path)  # hiển thị mảng trước\n",
    "arr2.shape, arr2[0, 0]  # BGR"
   ]
  },
  {
   "cell_type": "raw",
   "id": "4e3f4437-88ad-4143-8369-a2ca00b98330",
   "metadata": {},
   "source": [
    "### Pixel\r\n",
    "• Pixel (viết tắt của \"picture element\") trong ảnh là đơn vị cơ bản\r\n",
    "nhỏ nhất của một hình ảnh kỹ thuật số.\r\n",
    "• Mỗi pixel đại diện cho một màu sắc hoặc độ sáng cụ thể tại một\r\n",
    "vị trí cụ thể trên một hình ảnh.\r\n",
    "• Các pixel kết hợp lại tạo nên hình ảnh hoàn chỉnh."
   ]
  },
  {
   "cell_type": "raw",
   "id": "3fc7f3eb-87b1-4e4e-bc8d-dd227a7b9031",
   "metadata": {},
   "source": [
    "### Color\n",
    "• Mỗi pixel thường được biểu thị bằng các giá trị số, đại diện cho\n",
    "MÀU SẮC hoặc ĐỘ SÁNG của nó.\n",
    "• Trong hình ảnh RGB (Red-Green-Blue), mỗi pixel có thể được biểu thị \n",
    "bằng ba giá trị số, tương ứng với màu đỏ, xanh lá cây và xanh dương.\n",
    "• Đối với hình ảnh đen trắng, mỗi pixel chỉ có giá trị độ sáng. (0-255)"
   ]
  },
  {
   "cell_type": "markdown",
   "id": "9fe7f0bc-3d22-426e-b32e-0e53688e86af",
   "metadata": {},
   "source": [
    "### Hiện ảnh bằng openCV"
   ]
  },
  {
   "cell_type": "code",
   "execution_count": 5,
   "id": "1c424c33-73b3-4c94-a573-4bf502638b05",
   "metadata": {},
   "outputs": [],
   "source": [
    "cv2.imshow('CON VẸT', arr2)  # hiển thị ảnh\n",
    "cv2.waitKey(5000)  # đợi trong 5s hoặc ấn nút bất kì thì sẽ thực hiện câu lệnh bên dưới\n",
    "cv2.destroyWindow('CON VẸT')  # sau 5s hoặc ấn nút bất kì sẽ đóng window"
   ]
  },
  {
   "cell_type": "markdown",
   "id": "0bb9b895-b850-4c4b-a58a-deb19622f80d",
   "metadata": {},
   "source": [
    "### Tách màu"
   ]
  },
  {
   "cell_type": "code",
   "execution_count": 6,
   "id": "a2a23baa-9429-40e9-874b-4d5f02e6e5fb",
   "metadata": {
    "scrolled": true
   },
   "outputs": [
    {
     "data": {
      "text/plain": [
       "((371, 508), (371, 508), (371, 508))"
      ]
     },
     "execution_count": 6,
     "metadata": {},
     "output_type": "execute_result"
    }
   ],
   "source": [
    "b, g, r = cv2.split(arr2)\n",
    "b.shape, g.shape, r.shape"
   ]
  },
  {
   "cell_type": "code",
   "execution_count": 7,
   "id": "8baaecd8-81a5-4749-85f1-a68f8e046aac",
   "metadata": {},
   "outputs": [],
   "source": [
    "cv2.imshow('RED', r)\n",
    "cv2.imshow('GREEN', g)\n",
    "cv2.imshow('BLUE', b)\n",
    "\n",
    "cv2.waitKey(10000)\n",
    "cv2.destroyAllWindows()"
   ]
  },
  {
   "cell_type": "markdown",
   "id": "47cf9f62-a170-4043-b6a1-71f6836064a1",
   "metadata": {},
   "source": [
    "### Đổi màu"
   ]
  },
  {
   "cell_type": "code",
   "execution_count": 8,
   "id": "62ea858f-27d7-4517-aae4-7135beca23f7",
   "metadata": {},
   "outputs": [
    {
     "data": {
      "text/plain": [
       "(371, 508)"
      ]
     },
     "execution_count": 8,
     "metadata": {},
     "output_type": "execute_result"
    }
   ],
   "source": [
    "gray_arr2 = cv2.cvtColor(arr2, cv2.COLOR_BGR2GRAY)\n",
    "gray_arr2.shape"
   ]
  },
  {
   "cell_type": "code",
   "execution_count": 9,
   "id": "7e72aafe-e23b-45b5-8823-b869236862ee",
   "metadata": {},
   "outputs": [],
   "source": [
    "cv2.imshow('GRAY', gray_arr2)\n",
    "cv2.waitKey(5000)\n",
    "cv2.destroyWindow('GRAY')"
   ]
  },
  {
   "cell_type": "markdown",
   "id": "576862eb-f9a9-4177-b29c-6f27ed72f13b",
   "metadata": {},
   "source": [
    "### Đổi màu tại điểm ảnh nhất định"
   ]
  },
  {
   "cell_type": "code",
   "execution_count": 10,
   "id": "75c075a0-f430-4aae-abd0-0933905def34",
   "metadata": {},
   "outputs": [],
   "source": [
    "copied_arr2 = arr2.copy()\n",
    "\n",
    "height, width, bgr = arr2.shape\n",
    "\n",
    "half_h = int(height/2)\n",
    "half_w = int(width/2)\n",
    "\n",
    "green_color = (0, 255, 0)\n",
    "\n",
    "# Thay đổi màu tại góc 1/4 thứ nhất:\n",
    "for i in range(half_h):\n",
    "    for j in range(half_w):\n",
    "        copied_arr2[i, j] = green_color\n",
    "\n",
    "\n",
    "cv2.imshow('copied_im', copied_arr2)\n",
    "cv2.waitKey(5000)\n",
    "cv2.destroyAllWindows()"
   ]
  },
  {
   "cell_type": "code",
   "execution_count": null,
   "id": "b08a345a-3018-43f7-989e-f9b2d686c42a",
   "metadata": {},
   "outputs": [],
   "source": []
  }
 ],
 "metadata": {
  "kernelspec": {
   "display_name": "Python 3 (ipykernel)",
   "language": "python",
   "name": "python3"
  },
  "language_info": {
   "codemirror_mode": {
    "name": "ipython",
    "version": 3
   },
   "file_extension": ".py",
   "mimetype": "text/x-python",
   "name": "python",
   "nbconvert_exporter": "python",
   "pygments_lexer": "ipython3",
   "version": "3.11.7"
  }
 },
 "nbformat": 4,
 "nbformat_minor": 5
}
