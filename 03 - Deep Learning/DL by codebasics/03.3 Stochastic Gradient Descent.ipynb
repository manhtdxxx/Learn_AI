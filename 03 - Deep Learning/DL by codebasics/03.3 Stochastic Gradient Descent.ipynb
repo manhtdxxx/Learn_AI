{
 "cells": [
  {
   "cell_type": "code",
   "execution_count": 1,
   "id": "8c630966",
   "metadata": {},
   "outputs": [],
   "source": [
    "import pandas as pd\n",
    "import numpy as np\n",
    "from matplotlib import pyplot as plt\n",
    "from sklearn.preprocessing import StandardScaler, MinMaxScaler\n",
    "from sklearn.model_selection import train_test_split\n",
    "import random"
   ]
  },
  {
   "cell_type": "code",
   "execution_count": 2,
   "id": "a2f20486",
   "metadata": {},
   "outputs": [
    {
     "data": {
      "text/html": [
       "<div>\n",
       "<style scoped>\n",
       "    .dataframe tbody tr th:only-of-type {\n",
       "        vertical-align: middle;\n",
       "    }\n",
       "\n",
       "    .dataframe tbody tr th {\n",
       "        vertical-align: top;\n",
       "    }\n",
       "\n",
       "    .dataframe thead th {\n",
       "        text-align: right;\n",
       "    }\n",
       "</style>\n",
       "<table border=\"1\" class=\"dataframe\">\n",
       "  <thead>\n",
       "    <tr style=\"text-align: right;\">\n",
       "      <th></th>\n",
       "      <th>area</th>\n",
       "      <th>bedrooms</th>\n",
       "      <th>price</th>\n",
       "    </tr>\n",
       "  </thead>\n",
       "  <tbody>\n",
       "    <tr>\n",
       "      <th>1</th>\n",
       "      <td>2600</td>\n",
       "      <td>4</td>\n",
       "      <td>120.0</td>\n",
       "    </tr>\n",
       "    <tr>\n",
       "      <th>19</th>\n",
       "      <td>800</td>\n",
       "      <td>1</td>\n",
       "      <td>32.0</td>\n",
       "    </tr>\n",
       "    <tr>\n",
       "      <th>9</th>\n",
       "      <td>3700</td>\n",
       "      <td>5</td>\n",
       "      <td>167.0</td>\n",
       "    </tr>\n",
       "    <tr>\n",
       "      <th>4</th>\n",
       "      <td>1200</td>\n",
       "      <td>2</td>\n",
       "      <td>51.0</td>\n",
       "    </tr>\n",
       "    <tr>\n",
       "      <th>16</th>\n",
       "      <td>1180</td>\n",
       "      <td>3</td>\n",
       "      <td>48.0</td>\n",
       "    </tr>\n",
       "  </tbody>\n",
       "</table>\n",
       "</div>"
      ],
      "text/plain": [
       "    area  bedrooms  price\n",
       "1   2600         4  120.0\n",
       "19   800         1   32.0\n",
       "9   3700         5  167.0\n",
       "4   1200         2   51.0\n",
       "16  1180         3   48.0"
      ]
     },
     "execution_count": 2,
     "metadata": {},
     "output_type": "execute_result"
    }
   ],
   "source": [
    "df = pd.read_csv(\"homeprices_banglore.csv\")\n",
    "df.sample(5)"
   ]
  },
  {
   "cell_type": "code",
   "execution_count": 3,
   "id": "1b3a0525",
   "metadata": {},
   "outputs": [
    {
     "data": {
      "text/html": [
       "<div>\n",
       "<style scoped>\n",
       "    .dataframe tbody tr th:only-of-type {\n",
       "        vertical-align: middle;\n",
       "    }\n",
       "\n",
       "    .dataframe tbody tr th {\n",
       "        vertical-align: top;\n",
       "    }\n",
       "\n",
       "    .dataframe thead th {\n",
       "        text-align: right;\n",
       "    }\n",
       "</style>\n",
       "<table border=\"1\" class=\"dataframe\">\n",
       "  <thead>\n",
       "    <tr style=\"text-align: right;\">\n",
       "      <th></th>\n",
       "      <th>area</th>\n",
       "      <th>bedrooms</th>\n",
       "      <th>price</th>\n",
       "    </tr>\n",
       "  </thead>\n",
       "  <tbody>\n",
       "    <tr>\n",
       "      <th>count</th>\n",
       "      <td>20.000000</td>\n",
       "      <td>20.000000</td>\n",
       "      <td>20.000000</td>\n",
       "    </tr>\n",
       "    <tr>\n",
       "      <th>mean</th>\n",
       "      <td>1821.450000</td>\n",
       "      <td>2.900000</td>\n",
       "      <td>78.853500</td>\n",
       "    </tr>\n",
       "    <tr>\n",
       "      <th>std</th>\n",
       "      <td>864.615794</td>\n",
       "      <td>0.967906</td>\n",
       "      <td>43.761901</td>\n",
       "    </tr>\n",
       "    <tr>\n",
       "      <th>min</th>\n",
       "      <td>800.000000</td>\n",
       "      <td>1.000000</td>\n",
       "      <td>32.000000</td>\n",
       "    </tr>\n",
       "    <tr>\n",
       "      <th>25%</th>\n",
       "      <td>1173.750000</td>\n",
       "      <td>2.000000</td>\n",
       "      <td>41.500000</td>\n",
       "    </tr>\n",
       "    <tr>\n",
       "      <th>50%</th>\n",
       "      <td>1480.500000</td>\n",
       "      <td>3.000000</td>\n",
       "      <td>61.000000</td>\n",
       "    </tr>\n",
       "    <tr>\n",
       "      <th>75%</th>\n",
       "      <td>2633.000000</td>\n",
       "      <td>3.250000</td>\n",
       "      <td>106.500000</td>\n",
       "    </tr>\n",
       "    <tr>\n",
       "      <th>max</th>\n",
       "      <td>3700.000000</td>\n",
       "      <td>5.000000</td>\n",
       "      <td>167.000000</td>\n",
       "    </tr>\n",
       "  </tbody>\n",
       "</table>\n",
       "</div>"
      ],
      "text/plain": [
       "              area   bedrooms       price\n",
       "count    20.000000  20.000000   20.000000\n",
       "mean   1821.450000   2.900000   78.853500\n",
       "std     864.615794   0.967906   43.761901\n",
       "min     800.000000   1.000000   32.000000\n",
       "25%    1173.750000   2.000000   41.500000\n",
       "50%    1480.500000   3.000000   61.000000\n",
       "75%    2633.000000   3.250000  106.500000\n",
       "max    3700.000000   5.000000  167.000000"
      ]
     },
     "execution_count": 3,
     "metadata": {},
     "output_type": "execute_result"
    }
   ],
   "source": [
    "df.describe()"
   ]
  },
  {
   "cell_type": "code",
   "execution_count": 4,
   "id": "0a95810c",
   "metadata": {},
   "outputs": [
    {
     "data": {
      "text/plain": [
       "(20, 3)"
      ]
     },
     "execution_count": 4,
     "metadata": {},
     "output_type": "execute_result"
    }
   ],
   "source": [
    "df.shape"
   ]
  },
  {
   "cell_type": "code",
   "execution_count": 5,
   "id": "dd21b01e",
   "metadata": {},
   "outputs": [
    {
     "data": {
      "text/plain": [
       "((20, 2), (20, 1))"
      ]
     },
     "execution_count": 5,
     "metadata": {},
     "output_type": "execute_result"
    }
   ],
   "source": [
    "X = df.drop('price', axis=1).values\n",
    "Y = df.price.values.reshape(df.shape[0],1)  # ma trận (20x1)\n",
    "X.shape, Y.shape"
   ]
  },
  {
   "cell_type": "code",
   "execution_count": 6,
   "id": "5929138b",
   "metadata": {},
   "outputs": [],
   "source": [
    "scalerX = MinMaxScaler()\n",
    "scalerY = MinMaxScaler()\n",
    "\n",
    "X_scaled = scalerX.fit_transform(X)\n",
    "Y_scaled = scalerY.fit_transform(Y)"
   ]
  },
  {
   "cell_type": "code",
   "execution_count": 7,
   "id": "6ad367be",
   "metadata": {},
   "outputs": [
    {
     "data": {
      "text/plain": [
       "(array([[0.13103448, 0.5       ]]), array([[0.11851852]]))"
      ]
     },
     "execution_count": 7,
     "metadata": {},
     "output_type": "execute_result"
    }
   ],
   "source": [
    "random_index = random.randint(0, df.shape[0]-1)\n",
    "randX= X_scaled[random_index].reshape(1,-1)\n",
    "randY = Y_scaled[random_index].reshape(1,-1)\n",
    "randX, randY"
   ]
  },
  {
   "cell_type": "markdown",
   "id": "0727bdd8",
   "metadata": {},
   "source": [
    "# Stochastic Gradien Descent"
   ]
  },
  {
   "cell_type": "code",
   "execution_count": 8,
   "id": "3e9dc54f",
   "metadata": {},
   "outputs": [],
   "source": [
    "def stochastic_gradient_descent(X, y_true, epochs, learning_rate = 0.01):\n",
    "    features = X.shape[1]  # 2\n",
    "    samples = X.shape[0]  # 20\n",
    "    \n",
    "    w = np.ones(shape=(features, 1))  # matrix (2x1)\n",
    "    bias = 0\n",
    "    \n",
    "    list_loss = []\n",
    "    list_epoch = []\n",
    "    \n",
    "    for i in range(epochs):\n",
    "        rand_idx = random.randint(0, samples-1)  # take a random sample \n",
    "        rand_X = X[rand_idx].reshape(1,-1)  # matrix (1x2)\n",
    "        rand_Y = y_true[rand_idx].reshape(1,-1)  # matrix (1x1)\n",
    "        \n",
    "        weighted_sum = (rand_X @ w) + bias  # (1x2) @ (2x1) + 1 số = (1x1)\n",
    "        rand_Y_pred = weighted_sum\n",
    "        \n",
    "        loss = np.mean(np.square(rand_Y - rand_Y_pred))\n",
    "        \n",
    "        if i % 5 == 0:\n",
    "            list_loss.append(loss)\n",
    "            list_epoch.append(i)\n",
    "        \n",
    "        d_w = -(2/1) * (rand_X.T @ (rand_Y - rand_Y_pred))  # 1 số * (2x1) @ (1x1) = (2x1)\n",
    "        d_bias = -(2/1) * np.sum(rand_Y - rand_Y_pred)\n",
    "        \n",
    "        w = w - learning_rate * d_w  # returns matrix (2x1)\n",
    "        bias = bias - learning_rate * d_bias\n",
    "    \n",
    "    return w, bias, loss, list_loss, list_epoch"
   ]
  },
  {
   "cell_type": "code",
   "execution_count": 9,
   "id": "2f1857a7",
   "metadata": {},
   "outputs": [
    {
     "data": {
      "text/plain": [
       "0.01041180705122151"
      ]
     },
     "execution_count": 9,
     "metadata": {},
     "output_type": "execute_result"
    }
   ],
   "source": [
    "w, bias, loss, list_loss, list_epoch = stochastic_gradient_descent(X_scaled, Y_scaled, 3000)\n",
    "loss"
   ]
  },
  {
   "cell_type": "code",
   "execution_count": 10,
   "id": "447282ca",
   "metadata": {},
   "outputs": [
    {
     "data": {
      "text/plain": [
       "[<matplotlib.lines.Line2D at 0x159eda406d0>]"
      ]
     },
     "execution_count": 10,
     "metadata": {},
     "output_type": "execute_result"
    },
    {
     "data": {
      "image/png": "[encoded data removed]",
      "text/plain": [
       "<Figure size 640x480 with 1 Axes>"
      ]
     },
     "metadata": {},
     "output_type": "display_data"
    }
   ],
   "source": [
    "plt.plot(list_epoch, list_loss)"
   ]
  },
  {
   "cell_type": "markdown",
   "id": "f306dac6-fbc3-4c46-97a2-f8b564fea62b",
   "metadata": {},
   "source": [
    "### Predict"
   ]
  },
  {
   "cell_type": "code",
   "execution_count": 11,
   "id": "66d69c5e-0dc4-4fb0-b1f4-f62f2fcedd55",
   "metadata": {},
   "outputs": [
    {
     "data": {
      "text/plain": [
       "(array([[0.70092641],\n",
       "        [0.48679333]]),\n",
       " -0.13390551089953928)"
      ]
     },
     "execution_count": 11,
     "metadata": {},
     "output_type": "execute_result"
    }
   ],
   "source": [
    "w, bias"
   ]
  },
  {
   "cell_type": "code",
   "execution_count": 12,
   "id": "6b1f46a3",
   "metadata": {},
   "outputs": [],
   "source": [
    "def predict(X, w, bias):\n",
    "    weighted_sum = X @ w + bias\n",
    "    y_pred = weighted_sum\n",
    "    return y_pred"
   ]
  },
  {
   "cell_type": "code",
   "execution_count": 13,
   "id": "bca2bf2e",
   "metadata": {},
   "outputs": [],
   "source": [
    "X_train, X_test, y_train, y_test = train_test_split(X_scaled, Y_scaled, train_size=0.7, random_state=1)"
   ]
  },
  {
   "cell_type": "code",
   "execution_count": 14,
   "id": "7ee1f1fc",
   "metadata": {},
   "outputs": [],
   "source": [
    "yp_test = predict(X_test, w, bias)"
   ]
  },
  {
   "cell_type": "code",
   "execution_count": 15,
   "id": "72d2c0b4",
   "metadata": {},
   "outputs": [
    {
     "data": {
      "text/plain": [
       "array([[ 70.30705492],\n",
       "       [ 59.18045245],\n",
       "       [126.25045186],\n",
       "       [ 79.41063875],\n",
       "       [ 67.66407896],\n",
       "       [ 94.09383849]])"
      ]
     },
     "execution_count": 15,
     "metadata": {},
     "output_type": "execute_result"
    }
   ],
   "source": [
    "scalerY.inverse_transform(yp_test)"
   ]
  },
  {
   "cell_type": "code",
   "execution_count": 16,
   "id": "aa400cf1",
   "metadata": {},
   "outputs": [
    {
     "data": {
      "text/plain": [
       "array([[ 75.],\n",
       "       [ 48.],\n",
       "       [135.],\n",
       "       [ 82.],\n",
       "       [ 62.],\n",
       "       [101.]])"
      ]
     },
     "execution_count": 16,
     "metadata": {},
     "output_type": "execute_result"
    }
   ],
   "source": [
    "scalerY.inverse_transform(y_test)"
   ]
  },
  {
   "cell_type": "code",
   "execution_count": null,
   "id": "7701ec9f",
   "metadata": {},
   "outputs": [],
   "source": []
  }
 ],
 "metadata": {
  "kernelspec": {
   "display_name": "Python 3 (ipykernel)",
   "language": "python",
   "name": "python3"
  },
  "language_info": {
   "codemirror_mode": {
    "name": "ipython",
    "version": 3
   },
   "file_extension": ".py",
   "mimetype": "text/x-python",
   "name": "python",
   "nbconvert_exporter": "python",
   "pygments_lexer": "ipython3",
   "version": "3.11.7"
  }
 },
 "nbformat": 4,
 "nbformat_minor": 5
}
