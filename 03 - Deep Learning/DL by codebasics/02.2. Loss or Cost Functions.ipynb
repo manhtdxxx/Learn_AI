{
 "cells": [
  {
   "cell_type": "code",
   "execution_count": 3,
   "id": "516a89ab",
   "metadata": {},
   "outputs": [],
   "source": [
    "import numpy as np\n",
    "import matplotlib.pyplot as plt"
   ]
  },
  {
   "cell_type": "markdown",
   "id": "b1cb60f4",
   "metadata": {},
   "source": [
    "# mean_absolute_error"
   ]
  },
  {
   "cell_type": "code",
   "execution_count": 4,
   "id": "a90f734b",
   "metadata": {},
   "outputs": [],
   "source": [
    "def mean_absolute_error(y_true, y_pred):\n",
    "    sum = 0\n",
    "    n = len(y_pred)\n",
    "    for i in range(n):\n",
    "        abs_error = abs(y_true[i] - y_pred[i])\n",
    "        sum += abs_error\n",
    "    return sum / n"
   ]
  },
  {
   "cell_type": "code",
   "execution_count": 5,
   "id": "0d74e07c",
   "metadata": {},
   "outputs": [],
   "source": [
    "y_pred = np.array([1,1,0,0,1])\n",
    "y_true = np.array([0.3,0.7,1,0,0.5])"
   ]
  },
  {
   "cell_type": "code",
   "execution_count": 6,
   "id": "e516f31a",
   "metadata": {},
   "outputs": [
    {
     "data": {
      "text/plain": [
       "0.5"
      ]
     },
     "execution_count": 6,
     "metadata": {},
     "output_type": "execute_result"
    }
   ],
   "source": [
    "mean_absolute_error(y_true, y_pred)"
   ]
  },
  {
   "cell_type": "markdown",
   "id": "bb2f9f54",
   "metadata": {},
   "source": [
    "# mean_squared_error"
   ]
  },
  {
   "cell_type": "code",
   "execution_count": 7,
   "id": "ab55db81",
   "metadata": {},
   "outputs": [],
   "source": [
    "def mean_squared_error(y_true, y_pred):\n",
    "    sum = 0\n",
    "    n = len(y_pred)\n",
    "    for i in range(n):\n",
    "        squared_error = (y_true[i] - y_pred[i])**2\n",
    "        sum += squared_error\n",
    "    return sum / n"
   ]
  },
  {
   "cell_type": "code",
   "execution_count": 8,
   "id": "0a6b3928",
   "metadata": {},
   "outputs": [],
   "source": [
    "y_pred = np.array([1,1,0,0,1])\n",
    "y_true = np.array([0.3,0.7,1,0,0.5])"
   ]
  },
  {
   "cell_type": "code",
   "execution_count": 9,
   "id": "90a61949",
   "metadata": {},
   "outputs": [
    {
     "data": {
      "text/plain": [
       "0.366"
      ]
     },
     "execution_count": 9,
     "metadata": {},
     "output_type": "execute_result"
    }
   ],
   "source": [
    "mean_squared_error(y_true, y_pred)"
   ]
  },
  {
   "cell_type": "markdown",
   "id": "367d67f7",
   "metadata": {},
   "source": [
    "# binary_crossentropy"
   ]
  },
  {
   "cell_type": "markdown",
   "id": "59a87996-fcce-45c3-8d0d-a0a6b46936fd",
   "metadata": {},
   "source": [
    "#### KL Divergence: https://www.youtube.com/watch?v=q0AkK8aYbLY\n",
    "#### Connections between ...: https://www.youtube.com/watch?v=pH9xkCK4ATc"
   ]
  },
  {
   "cell_type": "code",
   "execution_count": 10,
   "id": "bf74361d",
   "metadata": {},
   "outputs": [],
   "source": [
    "def binary_crossentropy(y_true, y_pred):\n",
    "    epsilon = 1e-15\n",
    "    y_pred = np.maximum(y_pred, epsilon)\n",
    "    y_pred = np.minimum(y_pred, 1 - epsilon)\n",
    "\n",
    "    print(y_true)\n",
    "    print(y_pred)\n",
    "    \n",
    "    return - np.mean(y_true * np.log(y_pred) + (1 - y_true) * np.log(1 - y_pred))"
   ]
  },
  {
   "cell_type": "code",
   "execution_count": 11,
   "id": "36671957",
   "metadata": {},
   "outputs": [],
   "source": [
    "y_pred = np.array([1,1,0,0,1])\n",
    "y_true = np.array([0.3,0.7,1,0,0.5])"
   ]
  },
  {
   "cell_type": "code",
   "execution_count": 12,
   "id": "ff5b3677",
   "metadata": {},
   "outputs": [
    {
     "name": "stdout",
     "output_type": "stream",
     "text": [
      "[0.3 0.7 1.  0.  0.5]\n",
      "[1.e+00 1.e+00 1.e-15 1.e-15 1.e+00]\n"
     ]
    },
    {
     "data": {
      "text/plain": [
       "17.2696280766844"
      ]
     },
     "execution_count": 12,
     "metadata": {},
     "output_type": "execute_result"
    }
   ],
   "source": [
    "binary_crossentropy(y_true, y_pred)"
   ]
  },
  {
   "cell_type": "code",
   "execution_count": null,
   "id": "52b14bb1",
   "metadata": {},
   "outputs": [],
   "source": []
  }
 ],
 "metadata": {
  "kernelspec": {
   "display_name": "Python 3 (ipykernel)",
   "language": "python",
   "name": "python3"
  },
  "language_info": {
   "codemirror_mode": {
    "name": "ipython",
    "version": 3
   },
   "file_extension": ".py",
   "mimetype": "text/x-python",
   "name": "python",
   "nbconvert_exporter": "python",
   "pygments_lexer": "ipython3",
   "version": "3.11.7"
  }
 },
 "nbformat": 4,
 "nbformat_minor": 5
}
