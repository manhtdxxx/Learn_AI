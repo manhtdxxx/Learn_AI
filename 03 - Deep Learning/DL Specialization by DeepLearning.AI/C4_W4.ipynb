{
 "cells": [
  {
   "cell_type": "code",
   "execution_count": 1,
   "id": "bc81c6b4-e936-4a22-9f64-c371cb60a80e",
   "metadata": {},
   "outputs": [],
   "source": [
    "import tensorflow as tf\n",
    "from tensorflow import keras"
   ]
  },
  {
   "cell_type": "markdown",
   "id": "14661fa4-ad80-4798-823c-f3640bf1e914",
   "metadata": {},
   "source": [
    "# Triplet Loss"
   ]
  },
  {
   "cell_type": "markdown",
   "id": "bbb97759-7d57-4bc0-a8a2-ff24b512ffff",
   "metadata": {},
   "source": [
    "For an image $x$, its encoding is denoted as $f(x)$, where $f$ is the function computed by the neural network.\n",
    "\n",
    "<div style=\"text-align: center;\">\n",
    "    <img src=\"images/f_x.png\" style=\"width:400px;height:200px;\">\n",
    "</div>\n",
    "\n",
    "### Triplet Training:\n",
    "- Training will use **triplets of images** $(A, P, N)$, where:\n",
    "    - **A** is the \"Anchor\" image — a picture of a person.\n",
    "    - **P** is the \"Positive\" image — a picture of the same person as the Anchor.\n",
    "    - **N** is the \"Negative\" image — a picture of a different person than the Anchor.\n",
    "\n",
    "- These triplets are selected from the training dataset. Let $(A^{(i)}, P^{(i)}, N^{(i)})$ denote the $i$-th training example.\n",
    "\n",
    "- You aim to ensure that an image $A^{(i)}$ (Anchor) is **closer** to the Positive $P^{(i)}$ than to the Negative $N^{(i)}$, by at least a margin $\\alpha$:\n",
    "\n",
    "$$\n",
    "|| f\\left(A^{(i)}\\right)-f\\left(P^{(i)}\\right)||_{2}^{2}+\\alpha<|| f\\left(A^{(i)}\\right)-f\\left(N^{(i)}\\right)||_{2}^{2}\n",
    "$$\n",
    "\n",
    "### Triplet Loss:\n",
    "- We define the following **triplet loss** function:\n",
    "\n",
    "$$\n",
    "\\mathcal{J} = \\sum^{m}_{i=1} \\left[ \\underbrace{\\mid \\mid f(A^{(i)}) - f(P^{(i)}) \\mid \\mid_2^2}_\\text{(1)} - \\underbrace{\\mid \\mid f(A^{(i)}) - f(N^{(i)}) \\mid \\mid_2^2}_\\text{(2)} + \\alpha \\right]_+\n",
    "\\tag{3}\n",
    "$$\n",
    "\n",
    "> **Note**: The notation \"$[z]_+$\" denotes $\\max(z, 0)$.\n",
    "\n",
    "### Key Points:\n",
    "- Term (1): Squared distance between the **anchor** (A) and the **positive** (P) for a given triplet; you want this to be small.\n",
    "- Term (2): Squared distance between the **anchor** (A) and the **negative** (N) for a given triplet; you want this to be large\n",
    "- **$\\alpha$**: This is the margin—a manually chosen hyperparameter. Here, $\\alpha = 0.2$.\n",
    "\n",
    "> **Note**: In most implementations, the encoding vectors are rescaled to have an L2 norm equal to 1 (i.e., $\\mid \\mid f(img) \\mid \\mid_2 = 1$). You won’t need to handle this here.\n"
   ]
  },
  {
   "cell_type": "code",
   "execution_count": 2,
   "id": "cbee4412-c95e-4eb0-9eee-10fc8cafd6e9",
   "metadata": {},
   "outputs": [],
   "source": [
    "def triplet_loss(Y_true, Y_pred, alpha=0.2):\n",
    "    anchor, positive, negative = Y_pred[0], Y_pred[1], Y_pred[2]\n",
    "\n",
    "    pos_dist = tf.subtract(anchor, positive)  # (None, n_features)\n",
    "    pos_dist = tf.square(pos_dist)  # (None, n_features)\n",
    "    pos_dist = tf.reduce_sum(pos_dist, axis=-1)  # (None, )\n",
    "\n",
    "    neg_dist = tf.subtract(anchor, negative)  # (None, n_features)\n",
    "    neg_dist = tf.square(neg_dist)  # (None, n_features)\n",
    "    neg_dist = tf.reduce_sum(neg_dist, axis=-1)  #  (None, )\n",
    "\n",
    "    loss = tf.add(tf.subtract(pos_dist, neg_dist), alpha)  # (None, )\n",
    "    loss = tf.maximum(loss, 0)  # (None, )\n",
    "    loss = tf.reduce_sum(loss)\n",
    "    return loss"
   ]
  },
  {
   "cell_type": "code",
   "execution_count": null,
   "id": "02e16387-5b8e-4e62-ba22-564a0b4b67d7",
   "metadata": {},
   "outputs": [],
   "source": []
  }
 ],
 "metadata": {
  "kernelspec": {
   "display_name": "Python 3 (ipykernel)",
   "language": "python",
   "name": "python3"
  },
  "language_info": {
   "codemirror_mode": {
    "name": "ipython",
    "version": 3
   },
   "file_extension": ".py",
   "mimetype": "text/x-python",
   "name": "python",
   "nbconvert_exporter": "python",
   "pygments_lexer": "ipython3",
   "version": "3.11.7"
  }
 },
 "nbformat": 4,
 "nbformat_minor": 5
}
