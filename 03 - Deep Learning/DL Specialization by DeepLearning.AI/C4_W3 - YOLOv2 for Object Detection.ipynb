{
 "cells": [
  {
   "cell_type": "code",
   "execution_count": 8,
   "id": "6b94da80-7f23-4c3b-b07f-4c7a1c9617b2",
   "metadata": {},
   "outputs": [],
   "source": [
    "import tensorflow as tf\n",
    "import matplotlib.pyplot as plt\n",
    "from tensorflow import keras\n",
    "import numpy as np\n",
    "import h5py"
   ]
  },
  {
   "cell_type": "code",
   "execution_count": 2,
   "id": "0c1ee20f-1f0d-45b0-8d42-af4331f74638",
   "metadata": {},
   "outputs": [],
   "source": [
    "def filter_boxes(confidence, bbox_coordinates, class_probs, threshold=0.6):\n",
    "    \"\"\"\n",
    "    Filters bounding boxes based on class confidence and a threshold.\n",
    "    \n",
    "    Arguments:\n",
    "    confidence -- tensor of shape (19, 19, 5, 1), representing the probability that an object appears in each box.\n",
    "    bbox_coordinates -- tensor of shape (19, 19, 5, 4), containing each box's coordinates (x_center, y_center, width, height).\n",
    "    class_probs -- tensor of shape (19, 19, 5, 80), containing the class probabilities for each box.\n",
    "    threshold -- float, threshold for class scores (default is 0.6). Only boxes with a class score >= threshold are kept.\n",
    "    \n",
    "    Returns:\n",
    "    class_ -- tensor of shape (None,), containing the index of the class with the highest score for each selected box.\n",
    "    bbox_coords -- tensor of shape (None, 4), containing the coordinates (x_center, y_center, width, height) of the selected boxes.\n",
    "    class_score -- tensor of shape (None,), containing the class score for the selected boxes.\n",
    "    \"\"\"\n",
    "    \n",
    "    # scores of 80 classes of 5 boxes of 19x19 grid cells\n",
    "    class_scores = confidence * class_probs  # shape (19, 19, 5, 80)\n",
    "    \n",
    "    # index of the class having the max score for each box \n",
    "    class_ = tf.math.argmax(class_scores, axis=-1)  # shape (19, 19, 5)\n",
    "    # the score for that class\n",
    "    class_score = tf.math.reduce_max(class_scores, axis=-1)  # shape (19, 19, 5)\n",
    "\n",
    "    # True if the score of a box >= threshold\n",
    "    filtering_mask = class_score >= threshold  # shape (19, 19, 5)\n",
    "\n",
    "    # Pick boxes that have their class's scores >= threshold\n",
    "    class_ = tf.boolean_mask(class_, filtering_mask) \n",
    "    class_score = tf.boolean_mask(class_score, filtering_mask)\n",
    "    bbox_coords = tf.boolean_mask(bbox_coordinates, filtering_mask)\n",
    "\n",
    "    return class_, bbox_coords, class_score"
   ]
  },
  {
   "cell_type": "code",
   "execution_count": 3,
   "id": "456893a3-5ac2-44d1-909f-fa067a80e9c9",
   "metadata": {},
   "outputs": [
    {
     "name": "stdout",
     "output_type": "stream",
     "text": [
      "CLASSES:\n",
      " tf.Tensor(\n",
      "[[[55 73 20 57  1]\n",
      "  [14 19 13 20 33]]\n",
      "\n",
      " [[22 21 12 27 16]\n",
      "  [22 32 74 64 34]]], shape=(2, 2, 5), dtype=int32)\n",
      "CLASS_SCORES:\n",
      " tf.Tensor(\n",
      "[[[0.91 0.73 0.13 0.95 0.47]\n",
      "  [0.09 0.77 0.05 0.53 0.42]]\n",
      "\n",
      " [[0.03 0.84 0.21 0.71 0.25]\n",
      "  [0.29 0.31 0.31 0.42 0.63]]], shape=(2, 2, 5), dtype=float32)\n",
      "BBOX_COORDINATES:\n",
      " tf.Tensor(\n",
      "[[[[11.75 15.11  5.87  6.  ]\n",
      "   [ 5.69 17.48 10.87  8.05]\n",
      "   [ 6.31 13.12  7.43 13.34]\n",
      "   [10.2  10.95 12.48  8.3 ]\n",
      "   [18.48 12.42 17.74 13.17]]\n",
      "\n",
      "  [[16.3   3.77  4.47 12.15]\n",
      "   [11.91  2.1  17.17  2.06]\n",
      "   [ 5.52  0.05 10.27  5.57]\n",
      "   [12.6   3.45  8.1   0.22]\n",
      "   [ 8.65  0.13 16.86  3.44]]]\n",
      "\n",
      "\n",
      " [[[ 4.31  9.28 10.64 17.5 ]\n",
      "   [11.42  1.86  1.3   7.57]\n",
      "   [ 3.36  3.49 12.94 16.04]\n",
      "   [ 0.22  6.94  2.4   6.59]\n",
      "   [ 2.67  7.28  4.57 12.38]]\n",
      "\n",
      "  [[ 3.37  4.49  9.32  7.74]\n",
      "   [ 2.94  2.7  15.78 10.79]\n",
      "   [ 7.35 10.   12.8   6.86]\n",
      "   [12.86 15.31  4.48  3.51]\n",
      "   [ 5.53  4.36 10.93 15.92]]]], shape=(2, 2, 5, 4), dtype=float32)\n",
      "\n",
      "MASK:\n",
      " tf.Tensor(\n",
      "[[[ True False False  True False]\n",
      "  [False False False False False]]\n",
      "\n",
      " [[False  True False False False]\n",
      "  [False False False False False]]], shape=(2, 2, 5), dtype=bool)\n",
      "\n",
      "FILTERED CLASSES:\n",
      " tf.Tensor([55 57 21], shape=(3,), dtype=int32)\n",
      "FILTERED CLASS_SCORES:\n",
      " tf.Tensor([0.91 0.95 0.84], shape=(3,), dtype=float32)\n",
      "FILTERED BBOX_COORDINATES:\n",
      " tf.Tensor(\n",
      "[[11.75 15.11  5.87  6.  ]\n",
      " [10.2  10.95 12.48  8.3 ]\n",
      " [11.42  1.86  1.3   7.57]], shape=(3, 4), dtype=float32)\n"
     ]
    }
   ],
   "source": [
    "# Example\n",
    "class_ = tf.random.uniform(shape=(2, 2, 5,), minval=0, maxval=80, dtype=tf.int32)\n",
    "class_score = tf.random.uniform(shape=(2, 2, 5,), minval=0, maxval=1)\n",
    "bbox_coords = tf.random.uniform(shape=(2, 2, 5, 4), minval=0, maxval=19)\n",
    "threshold = 0.8\n",
    "\n",
    "# Round tensors to 2 decimal places\n",
    "class_score = tf.round(class_score * 100) / 100\n",
    "bbox_coords = tf.round(bbox_coords * 100) / 100\n",
    "\n",
    "# Create a filtering mask based on the threshold\n",
    "filtering_mask = class_score >= threshold\n",
    "\n",
    "# Apply the mask\n",
    "filtered_class_ = tf.boolean_mask(class_, filtering_mask)\n",
    "filtered_class_score = tf.boolean_mask(class_score, filtering_mask)\n",
    "filtered_bbox_coords = tf.boolean_mask(bbox_coords, filtering_mask)\n",
    "\n",
    "# Print results\n",
    "print(\"CLASSES:\\n\", class_)\n",
    "print(\"CLASS_SCORES:\\n\", class_score)\n",
    "print(\"BBOX_COORDINATES:\\n\", bbox_coords)\n",
    "print()\n",
    "print(\"MASK:\\n\", filtering_mask)\n",
    "print()\n",
    "print(\"FILTERED CLASSES:\\n\", filtered_class_)\n",
    "print(\"FILTERED CLASS_SCORES:\\n\", filtered_class_score)\n",
    "print(\"FILTERED BBOX_COORDINATES:\\n\", filtered_bbox_coords)"
   ]
  },
  {
   "cell_type": "markdown",
   "id": "67d8b0fc-c148-4405-bcc5-9f47705e9853",
   "metadata": {},
   "source": [
    "# Intersection over Union"
   ]
  },
  {
   "cell_type": "code",
   "execution_count": 4,
   "id": "8d588ee6-f41f-49f9-bef9-a7be61ccca04",
   "metadata": {},
   "outputs": [],
   "source": [
    "def compute_IoU(box_1, box_2):\n",
    "    x1_1, y1_1, x2_1, y2_1 = box_1\n",
    "    x1_2, y1_2, x2_2, y2_2 = box_2\n",
    "\n",
    "    area_1 = (x2_1 - x1_1) * (y2_1 - y1_1)\n",
    "    area_2 = (x2_2 - x1_2) * (y2_2 - y1_2)\n",
    "\n",
    "    x1_inner = max(x1_1, x1_2)\n",
    "    y1_inner = max(y1_1, y1_2)\n",
    "    x2_inner = min(x2_1, x2_2)\n",
    "    y2_inner = min(y2_1, y2_2)\n",
    "\n",
    "    inner_width = max(0, x2_inner - x1_inner)  # to check if there is an intersection between 2 boxes\n",
    "    inner_height = max(0, y2_inner - y1_inner)\n",
    "    \n",
    "    inner_area = inner_width * inner_height\n",
    "    outer_area = area_1 + area_2 - inner_area\n",
    "\n",
    "    iou = inner_area / outer_area\n",
    "    return iou"
   ]
  },
  {
   "cell_type": "code",
   "execution_count": null,
   "id": "85ae81f6-4cee-45ac-89f8-0aa74eff7738",
   "metadata": {},
   "outputs": [],
   "source": [
    "def suppress_nonMax(boxes, scores, classes, max_boxes=10, iou_threshold=0.5):\n",
    "    "
   ]
  },
  {
   "cell_type": "code",
   "execution_count": 17,
   "id": "1db07db9-4365-4392-907e-7d978c884898",
   "metadata": {},
   "outputs": [
    {
     "name": "stdout",
     "output_type": "stream",
     "text": [
      "Selected Boxes:\n",
      " tf.Tensor(\n",
      "[[0.1 0.1 0.5 0.5]\n",
      " [0.7 0.7 1.  1. ]], shape=(2, 4), dtype=float32)\n",
      "Selected Scores:\n",
      " tf.Tensor([0.9 0.8], shape=(2,), dtype=float32)\n"
     ]
    }
   ],
   "source": [
    "import tensorflow as tf\n",
    "\n",
    "# Example bounding boxes: [y_min, x_min, y_max, x_max]\n",
    "boxes = tf.constant([[0.1, 0.1, 0.5, 0.5],    # Box 1\n",
    "                     [0.2, 0.2, 0.6, 0.6],    # Box 2 (overlaps with Box 1)\n",
    "                     [0.7, 0.7, 1.0, 1.0]],   # Box 3 (no overlap)\n",
    "                    dtype=tf.float32)\n",
    "\n",
    "# Confidence scores for each box\n",
    "scores = tf.constant([0.9, 0.75, 0.8], dtype=tf.float32)\n",
    "\n",
    "# Max number of boxes to keep after NMS\n",
    "max_boxes = 2\n",
    "\n",
    "# Intersection over Union (IoU) threshold\n",
    "iou_threshold = 0.5\n",
    "\n",
    "# Apply Non-Max Suppression\n",
    "nms_indices = tf.image.non_max_suppression(boxes, scores, max_boxes, iou_threshold)\n",
    "\n",
    "# Gather the boxes that passed NMS\n",
    "selected_boxes = tf.gather(boxes, nms_indices)\n",
    "selected_scores = tf.gather(scores, nms_indices)\n",
    "\n",
    "# Print the selected boxes and their scores\n",
    "print(\"Selected Boxes:\\n\", selected_boxes)\n",
    "print(\"Selected Scores:\\n\", selected_scores)\n"
   ]
  },
  {
   "cell_type": "code",
   "execution_count": 18,
   "id": "7cd85f30-4418-4c13-a577-5fce04492be1",
   "metadata": {},
   "outputs": [
    {
     "data": {
      "text/plain": [
       "<tf.Variable 'Variable:0' shape=() dtype=int32, numpy=2>"
      ]
     },
     "execution_count": 18,
     "metadata": {},
     "output_type": "execute_result"
    }
   ],
   "source": [
    "tf.Variable(max_boxes)"
   ]
  },
  {
   "cell_type": "code",
   "execution_count": null,
   "id": "181d392e-a6ad-4385-8718-302da2daf7dd",
   "metadata": {},
   "outputs": [],
   "source": []
  }
 ],
 "metadata": {
  "kernelspec": {
   "display_name": "Python 3 (ipykernel)",
   "language": "python",
   "name": "python3"
  },
  "language_info": {
   "codemirror_mode": {
    "name": "ipython",
    "version": 3
   },
   "file_extension": ".py",
   "mimetype": "text/x-python",
   "name": "python",
   "nbconvert_exporter": "python",
   "pygments_lexer": "ipython3",
   "version": "3.11.7"
  }
 },
 "nbformat": 4,
 "nbformat_minor": 5
}
