{
 "cells": [
  {
   "cell_type": "code",
   "execution_count": 1,
   "id": "7a50128e",
   "metadata": {},
   "outputs": [],
   "source": [
    "import numpy as np\n",
    "import pandas as pd\n",
    "import matplotlib.pyplot as plt\n",
    "from sklearn.linear_model import LinearRegression, LogisticRegression\n",
    "from sklearn.model_selection import train_test_split\n",
    "from sklearn.metrics import confusion_matrix, classification_report, f1_score, fbeta_score, precision_score, recall_score, accuracy_score,auc,roc_curve"
   ]
  },
  {
   "cell_type": "markdown",
   "id": "eac5d2fb",
   "metadata": {},
   "source": [
    "### PREPARE DATA"
   ]
  },
  {
   "cell_type": "code",
   "execution_count": 2,
   "id": "62bbf555",
   "metadata": {},
   "outputs": [
    {
     "name": "stdout",
     "output_type": "stream",
     "text": [
      "18\n",
      "9\n"
     ]
    }
   ],
   "source": [
    "X = np.arange(2,29)\n",
    "X = X.reshape(-1,1)\n",
    "Y = np.array([0,0,0,0,0,1,1,1,1,0,1,0,1,0,0,0,1,1,1,0,0,1,0,0,1,1,1])\n",
    "X_train, X_test, Y_train, Y_test = train_test_split(X,Y,train_size=0.7,random_state=42)\n",
    "print(len(X_train))\n",
    "print(len(X_test))"
   ]
  },
  {
   "cell_type": "markdown",
   "id": "dc9910ba",
   "metadata": {},
   "source": [
    "### SELECT & TRAIN MODEL"
   ]
  },
  {
   "cell_type": "code",
   "execution_count": 3,
   "id": "75d4df16",
   "metadata": {},
   "outputs": [
    {
     "data": {
      "text/html": [
       "<style>#sk-container-id-1 {color: black;}#sk-container-id-1 pre{padding: 0;}#sk-container-id-1 div.sk-toggleable {background-color: white;}#sk-container-id-1 label.sk-toggleable__label {cursor: pointer;display: block;width: 100%;margin-bottom: 0;padding: 0.3em;box-sizing: border-box;text-align: center;}#sk-container-id-1 label.sk-toggleable__label-arrow:before {content: \"▸\";float: left;margin-right: 0.25em;color: #696969;}#sk-container-id-1 label.sk-toggleable__label-arrow:hover:before {color: black;}#sk-container-id-1 div.sk-estimator:hover label.sk-toggleable__label-arrow:before {color: black;}#sk-container-id-1 div.sk-toggleable__content {max-height: 0;max-width: 0;overflow: hidden;text-align: left;background-color: #f0f8ff;}#sk-container-id-1 div.sk-toggleable__content pre {margin: 0.2em;color: black;border-radius: 0.25em;background-color: #f0f8ff;}#sk-container-id-1 input.sk-toggleable__control:checked~div.sk-toggleable__content {max-height: 200px;max-width: 100%;overflow: auto;}#sk-container-id-1 input.sk-toggleable__control:checked~label.sk-toggleable__label-arrow:before {content: \"▾\";}#sk-container-id-1 div.sk-estimator input.sk-toggleable__control:checked~label.sk-toggleable__label {background-color: #d4ebff;}#sk-container-id-1 div.sk-label input.sk-toggleable__control:checked~label.sk-toggleable__label {background-color: #d4ebff;}#sk-container-id-1 input.sk-hidden--visually {border: 0;clip: rect(1px 1px 1px 1px);clip: rect(1px, 1px, 1px, 1px);height: 1px;margin: -1px;overflow: hidden;padding: 0;position: absolute;width: 1px;}#sk-container-id-1 div.sk-estimator {font-family: monospace;background-color: #f0f8ff;border: 1px dotted black;border-radius: 0.25em;box-sizing: border-box;margin-bottom: 0.5em;}#sk-container-id-1 div.sk-estimator:hover {background-color: #d4ebff;}#sk-container-id-1 div.sk-parallel-item::after {content: \"\";width: 100%;border-bottom: 1px solid gray;flex-grow: 1;}#sk-container-id-1 div.sk-label:hover label.sk-toggleable__label {background-color: #d4ebff;}#sk-container-id-1 div.sk-serial::before {content: \"\";position: absolute;border-left: 1px solid gray;box-sizing: border-box;top: 0;bottom: 0;left: 50%;z-index: 0;}#sk-container-id-1 div.sk-serial {display: flex;flex-direction: column;align-items: center;background-color: white;padding-right: 0.2em;padding-left: 0.2em;position: relative;}#sk-container-id-1 div.sk-item {position: relative;z-index: 1;}#sk-container-id-1 div.sk-parallel {display: flex;align-items: stretch;justify-content: center;background-color: white;position: relative;}#sk-container-id-1 div.sk-item::before, #sk-container-id-1 div.sk-parallel-item::before {content: \"\";position: absolute;border-left: 1px solid gray;box-sizing: border-box;top: 0;bottom: 0;left: 50%;z-index: -1;}#sk-container-id-1 div.sk-parallel-item {display: flex;flex-direction: column;z-index: 1;position: relative;background-color: white;}#sk-container-id-1 div.sk-parallel-item:first-child::after {align-self: flex-end;width: 50%;}#sk-container-id-1 div.sk-parallel-item:last-child::after {align-self: flex-start;width: 50%;}#sk-container-id-1 div.sk-parallel-item:only-child::after {width: 0;}#sk-container-id-1 div.sk-dashed-wrapped {border: 1px dashed gray;margin: 0 0.4em 0.5em 0.4em;box-sizing: border-box;padding-bottom: 0.4em;background-color: white;}#sk-container-id-1 div.sk-label label {font-family: monospace;font-weight: bold;display: inline-block;line-height: 1.2em;}#sk-container-id-1 div.sk-label-container {text-align: center;}#sk-container-id-1 div.sk-container {/* jupyter's `normalize.less` sets `[hidden] { display: none; }` but bootstrap.min.css set `[hidden] { display: none !important; }` so we also need the `!important` here to be able to override the default hidden behavior on the sphinx rendered scikit-learn.org. See: https://github.com/scikit-learn/scikit-learn/issues/21755 */display: inline-block !important;position: relative;}#sk-container-id-1 div.sk-text-repr-fallback {display: none;}</style><div id=\"sk-container-id-1\" class=\"sk-top-container\"><div class=\"sk-text-repr-fallback\"><pre>LogisticRegression()</pre><b>In a Jupyter environment, please rerun this cell to show the HTML representation or trust the notebook. <br />On GitHub, the HTML representation is unable to render, please try loading this page with nbviewer.org.</b></div><div class=\"sk-container\" hidden><div class=\"sk-item\"><div class=\"sk-estimator sk-toggleable\"><input class=\"sk-toggleable__control sk-hidden--visually\" id=\"sk-estimator-id-1\" type=\"checkbox\" checked><label for=\"sk-estimator-id-1\" class=\"sk-toggleable__label sk-toggleable__label-arrow\">LogisticRegression</label><div class=\"sk-toggleable__content\"><pre>LogisticRegression()</pre></div></div></div></div></div>"
      ],
      "text/plain": [
       "LogisticRegression()"
      ]
     },
     "execution_count": 3,
     "metadata": {},
     "output_type": "execute_result"
    }
   ],
   "source": [
    "LoR = LogisticRegression()\n",
    "LoR.fit(X_train,Y_train)"
   ]
  },
  {
   "cell_type": "markdown",
   "id": "a9100dd5",
   "metadata": {},
   "source": [
    "### TEST MODEL"
   ]
  },
  {
   "cell_type": "code",
   "execution_count": 4,
   "id": "a2a0839f",
   "metadata": {},
   "outputs": [
    {
     "name": "stdout",
     "output_type": "stream",
     "text": [
      "[[0.45639784 0.54360216]\n",
      " [0.67158466 0.32841534]\n",
      " [0.64548382 0.35451618]\n",
      " [0.63657775 0.36342225]\n",
      " [0.66299195 0.33700805]\n",
      " [0.54326447 0.45673553]\n",
      " [0.47565854 0.52434146]\n",
      " [0.65429016 0.34570984]\n",
      " [0.44681256 0.55318744]\n",
      " [0.46601553 0.53398447]\n",
      " [0.51434029 0.48565971]\n",
      " [0.43726666 0.56273334]\n",
      " [0.49499192 0.50500808]\n",
      " [0.61848702 0.38151298]\n",
      " [0.59073786 0.40926214]\n",
      " [0.55285101 0.44714899]\n",
      " [0.50466786 0.49533214]\n",
      " [0.62757704 0.37242296]]\n",
      "[1 0 0 0 0 0 1 0 1 1 0 1 1 0 0 0 0 0]\n",
      "[1 0 0 1 0 0 0 0 1 0 1 1 0 1 1 0 0 1]\n",
      "\n",
      "[[0.60931324 0.39068676]\n",
      " [0.56239841 0.43760159]\n",
      " [0.60006151 0.39993849]\n",
      " [0.48531974 0.51468026]\n",
      " [0.680064   0.319936  ]\n",
      " [0.58134849 0.41865151]\n",
      " [0.53364578 0.46635422]\n",
      " [0.524002   0.475998  ]\n",
      " [0.57189982 0.42810018]]\n",
      "[0 0 0 1 0 0 0 0 0]\n",
      "[1 0 0 1 0 0 1 1 1]\n"
     ]
    }
   ],
   "source": [
    "Yp_train = LoR.predict(X_train)\n",
    "Yp_train_pro = LoR.predict_proba(X_train)\n",
    "print(Yp_train_pro)\n",
    "print(Yp_train)\n",
    "print(Y_train)\n",
    "print()\n",
    "Yp_test = LoR.predict(X_test)\n",
    "Yp_test_pro = LoR.predict_proba(X_test)\n",
    "print(Yp_test_pro)\n",
    "print(Yp_test)\n",
    "print(Y_test)"
   ]
  },
  {
   "cell_type": "code",
   "execution_count": 5,
   "id": "2394c079",
   "metadata": {},
   "outputs": [
    {
     "data": {
      "text/plain": [
       "<matplotlib.legend.Legend at 0x1f5b484dd90>"
      ]
     },
     "execution_count": 5,
     "metadata": {},
     "output_type": "execute_result"
    },
    {
     "data": {
      "image/png": "[encoded data removed]",
      "text/plain": [
       "<Figure size 1000x400 with 2 Axes>"
      ]
     },
     "metadata": {},
     "output_type": "display_data"
    }
   ],
   "source": [
    "fig1, (sub1,sub2) = plt.subplots(ncols=2,figsize=(10,4))\n",
    "sub1.plot(X_train,Y_train,'r*',label='Actual Training Y')\n",
    "sub1.plot(X_train,Yp_train,'b+',label='Predicted Training Y')\n",
    "sub1.legend(loc=0)\n",
    "\n",
    "sub2.plot(X_test,Y_test,'r*',label='Actual Testing Y')\n",
    "sub2.plot(X_test,Yp_test,'b+',label='Predicted Testing Y')\n",
    "sub2.legend(loc=5)"
   ]
  },
  {
   "cell_type": "markdown",
   "id": "9ef2b446",
   "metadata": {},
   "source": [
    "### EVALUATE MODEL"
   ]
  },
  {
   "cell_type": "markdown",
   "id": "078ec2a0",
   "metadata": {},
   "source": [
    "##### Confusion Matrix"
   ]
  },
  {
   "cell_type": "code",
   "execution_count": 6,
   "id": "5b3f99d3",
   "metadata": {
    "scrolled": true
   },
   "outputs": [
    {
     "name": "stdout",
     "output_type": "stream",
     "text": [
      "[[4 0]\n",
      " [4 1]]\n",
      "TRUE NEGATIVES: 4\n",
      "FALSE POSITIVES: 0\n",
      "FALSE NEGATIVES 4\n",
      "TRUE POSITIVES: 1\n"
     ]
    }
   ],
   "source": [
    "cm = confusion_matrix(Y_test,Yp_test)\n",
    "print(cm)\n",
    "print('TRUE NEGATIVES:',cm[0,0])\n",
    "print('FALSE POSITIVES:',cm[0,1])\n",
    "print('FALSE NEGATIVES',cm[1,0])\n",
    "print('TRUE POSITIVES:',cm[1,1])\n",
    "\n",
    "# hàng ngang bên trên là predicted values\n",
    "# hàng dọc bên trái là actual values "
   ]
  },
  {
   "cell_type": "code",
   "execution_count": 7,
   "id": "90d3340d",
   "metadata": {},
   "outputs": [
    {
     "name": "stdout",
     "output_type": "stream",
     "text": [
      "TRAINING ACCURACY_SCORE: 0.5555555555555556\n",
      "[1 0 0 0 0 0 1 0 1 1 0 1 1 0 0 0 0 0]\n",
      "[1 0 0 1 0 0 0 0 1 0 1 1 0 1 1 0 0 1]\n",
      "\n",
      "TESTING ACCURACY_SCORE: 0.5555555555555556\n",
      "[0 0 0 1 0 0 0 0 0]\n",
      "[1 0 0 1 0 0 1 1 1]\n"
     ]
    }
   ],
   "source": [
    "acc1 = accuracy_score(Y_train,Yp_train)\n",
    "acc2 = accuracy_score(Y_test,Yp_test)\n",
    "print('TRAINING ACCURACY_SCORE:',acc1)\n",
    "print(Yp_train)\n",
    "print(Y_train)\n",
    "print()\n",
    "print('TESTING ACCURACY_SCORE:',acc2)\n",
    "print(Yp_test)\n",
    "print(Y_test)\n",
    "\n",
    "# accuracy_score = (TN + TP) / (TN + TP + FP + FN)"
   ]
  },
  {
   "cell_type": "code",
   "execution_count": 8,
   "id": "50c91864",
   "metadata": {
    "scrolled": true
   },
   "outputs": [
    {
     "name": "stdout",
     "output_type": "stream",
     "text": [
      "              precision    recall  f1-score   support\n",
      "\n",
      "           0       0.50      1.00      0.67         4\n",
      "           1       1.00      0.20      0.33         5\n",
      "\n",
      "    accuracy                           0.56         9\n",
      "   macro avg       0.75      0.60      0.50         9\n",
      "weighted avg       0.78      0.56      0.48         9\n",
      "\n"
     ]
    }
   ],
   "source": [
    "report = classification_report(Y_test,Yp_test)\n",
    "print(report)\n",
    "\n",
    "# precision : true positives compared to predicted positives  -- precision = TP / (TP + FP)\n",
    "#           => liệu prediction of positives có chuẩn không?\n",
    "\n",
    "# recall/sensitivity/TPR : true positives compared to actual positives -- recall/sensitivity/TPR = TP / (TP + FN)\n",
    "#           => liệu prediction of positives có đúng nhiều không khi so với actual positives?\n",
    "\n",
    "# specificity : true negatives compared to actual negatives -- specificity = TN / (TN + FP)\n",
    "#           => liệu prediction of negatives có đúng nhiều không khi so với actual negatives?\n",
    "\n",
    "# FPR : false positives compared to actual negatives -- FPR = FP / (TN + FP) = 1 - specificity\n",
    "#           liệu prediction of negatives có sai nhiều không khi so với actual negatives?"
   ]
  },
  {
   "cell_type": "code",
   "execution_count": 9,
   "id": "7fe69906",
   "metadata": {},
   "outputs": [],
   "source": [
    "# f1_score : khó mà để cả precision & recall cao khi 2 metrics này ngược chiều -> sinh ra 1 metric mới để đánh giá\n",
    "\n",
    "# f1_score = 2.(precision.recall) / (precision + recall) nằm trong khoảng [0,1]\n",
    "\n",
    "# f_beta = (1 + b**2).(precision.recall) / (b**2.precision + recall)\n",
    "    # coi trọng precision -> chọn b < 1\n",
    "    # coi trọng recall -> chọn b > 1\n",
    "    # coi trọng ngang nhau -> b = 1 (chính là f1_score)"
   ]
  },
  {
   "cell_type": "markdown",
   "id": "b20c69bf",
   "metadata": {},
   "source": [
    "##### ROC curve &  AUC"
   ]
  },
  {
   "cell_type": "code",
   "execution_count": 10,
   "id": "102cfa75",
   "metadata": {},
   "outputs": [
    {
     "data": {
      "text/plain": [
       "Text(0, 0.5, 'True Positive Rate')"
      ]
     },
     "execution_count": 10,
     "metadata": {},
     "output_type": "execute_result"
    },
    {
     "data": {
      "image/png": "[encoded data removed]",
      "text/plain": [
       "<Figure size 640x480 with 1 Axes>"
      ]
     },
     "metadata": {},
     "output_type": "display_data"
    }
   ],
   "source": [
    "fpr, tpr, _ = roc_curve(Y_test,Yp_test)\n",
    "auc = auc(fpr,tpr)\n",
    "plt.plot(fpr,tpr,label='ROC(AUC={})'.format(auc))\n",
    "plt.legend(loc='lower right')\n",
    "plt.xlabel('False Positive Rate')\n",
    "plt.ylabel('True Positive Rate')"
   ]
  },
  {
   "cell_type": "code",
   "execution_count": null,
   "id": "3574e5ea",
   "metadata": {},
   "outputs": [],
   "source": []
  }
 ],
 "metadata": {
  "kernelspec": {
   "display_name": "Python 3 (ipykernel)",
   "language": "python",
   "name": "python3"
  },
  "language_info": {
   "codemirror_mode": {
    "name": "ipython",
    "version": 3
   },
   "file_extension": ".py",
   "mimetype": "text/x-python",
   "name": "python",
   "nbconvert_exporter": "python",
   "pygments_lexer": "ipython3",
   "version": "3.11.7"
  }
 },
 "nbformat": 4,
 "nbformat_minor": 5
}
