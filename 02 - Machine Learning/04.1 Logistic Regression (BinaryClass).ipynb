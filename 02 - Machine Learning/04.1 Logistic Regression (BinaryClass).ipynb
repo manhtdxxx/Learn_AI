{
 "cells": [
  {
   "cell_type": "code",
   "execution_count": 1,
   "id": "7a50128e",
   "metadata": {},
   "outputs": [],
   "source": [
    "import numpy as np\n",
    "import pandas as pd\n",
    "import matplotlib.pyplot as plt\n",
    "from sklearn.linear_model import LinearRegression, LogisticRegression\n",
    "from sklearn.preprocessing import MinMaxScaler\n",
    "from sklearn.model_selection import train_test_split\n",
    "from sklearn.metrics import confusion_matrix, classification_report, f1_score, fbeta_score, precision_score, recall_score, accuracy_score, auc, roc_curve"
   ]
  },
  {
   "cell_type": "markdown",
   "id": "eac5d2fb",
   "metadata": {},
   "source": [
    "### Data Preprocessing"
   ]
  },
  {
   "cell_type": "code",
   "execution_count": 2,
   "id": "50232a0a-ced4-44ed-b761-6ed27add63a8",
   "metadata": {},
   "outputs": [],
   "source": [
    "# Set the seed for reproducibility\n",
    "np.random.seed(1)"
   ]
  },
  {
   "cell_type": "code",
   "execution_count": 3,
   "id": "62bbf555",
   "metadata": {},
   "outputs": [
    {
     "data": {
      "text/plain": [
       "array([[141.70220047],\n",
       "       [172.03244934],\n",
       "       [100.01143748],\n",
       "       [130.23325726],\n",
       "       [114.67558908],\n",
       "       [109.23385948],\n",
       "       [118.62602114],\n",
       "       [134.5560727 ],\n",
       "       [139.67674742],\n",
       "       [153.8816734 ]])"
      ]
     },
     "execution_count": 3,
     "metadata": {},
     "output_type": "execute_result"
    }
   ],
   "source": [
    "X = np.random.uniform(100, 200, size=(1000, 1))  # create a dataset having uniform distribution\n",
    "X[:10]"
   ]
  },
  {
   "cell_type": "code",
   "execution_count": 4,
   "id": "da037641-9bf8-4b71-866c-e61a27117407",
   "metadata": {},
   "outputs": [
    {
     "data": {
      "text/plain": [
       "(1000, 1)"
      ]
     },
     "execution_count": 4,
     "metadata": {},
     "output_type": "execute_result"
    }
   ],
   "source": [
    "X_scaled = MinMaxScaler().fit_transform(X)\n",
    "X.shape"
   ]
  },
  {
   "cell_type": "code",
   "execution_count": 5,
   "id": "f716f8bd-6cc9-4860-a229-253087b1c214",
   "metadata": {},
   "outputs": [
    {
     "data": {
      "text/plain": [
       "(1000,)"
      ]
     },
     "execution_count": 5,
     "metadata": {},
     "output_type": "execute_result"
    }
   ],
   "source": [
    "Y = np.array([0] * 500 + [1] * 500)\n",
    "np.random.shuffle(Y)\n",
    "Y.shape"
   ]
  },
  {
   "cell_type": "code",
   "execution_count": 6,
   "id": "87d72ac1-4132-4cc9-b81e-c7518aa7c12a",
   "metadata": {},
   "outputs": [
    {
     "data": {
      "text/plain": [
       "((950, 1), (50, 1))"
      ]
     },
     "execution_count": 6,
     "metadata": {},
     "output_type": "execute_result"
    }
   ],
   "source": [
    "X_train, X_test, Y_train, Y_test = train_test_split(X_scaled, Y, train_size=0.95, random_state=42, stratify=Y)\n",
    "X_train.shape, X_test.shape"
   ]
  },
  {
   "cell_type": "code",
   "execution_count": 7,
   "id": "4d84ab51-9753-4db0-9bf3-bf1f17554db0",
   "metadata": {},
   "outputs": [
    {
     "data": {
      "text/plain": [
       "(array([0, 1]), array([475, 475], dtype=int64))"
      ]
     },
     "execution_count": 7,
     "metadata": {},
     "output_type": "execute_result"
    }
   ],
   "source": [
    "np.unique(Y_train, return_counts=True)"
   ]
  },
  {
   "cell_type": "markdown",
   "id": "dc9910ba",
   "metadata": {},
   "source": [
    "### Training"
   ]
  },
  {
   "cell_type": "code",
   "execution_count": 8,
   "id": "75d4df16",
   "metadata": {},
   "outputs": [
    {
     "data": {
      "text/html": [
       "<style>#sk-container-id-1 {color: black;background-color: white;}#sk-container-id-1 pre{padding: 0;}#sk-container-id-1 div.sk-toggleable {background-color: white;}#sk-container-id-1 label.sk-toggleable__label {cursor: pointer;display: block;width: 100%;margin-bottom: 0;padding: 0.3em;box-sizing: border-box;text-align: center;}#sk-container-id-1 label.sk-toggleable__label-arrow:before {content: \"▸\";float: left;margin-right: 0.25em;color: #696969;}#sk-container-id-1 label.sk-toggleable__label-arrow:hover:before {color: black;}#sk-container-id-1 div.sk-estimator:hover label.sk-toggleable__label-arrow:before {color: black;}#sk-container-id-1 div.sk-toggleable__content {max-height: 0;max-width: 0;overflow: hidden;text-align: left;background-color: #f0f8ff;}#sk-container-id-1 div.sk-toggleable__content pre {margin: 0.2em;color: black;border-radius: 0.25em;background-color: #f0f8ff;}#sk-container-id-1 input.sk-toggleable__control:checked~div.sk-toggleable__content {max-height: 200px;max-width: 100%;overflow: auto;}#sk-container-id-1 input.sk-toggleable__control:checked~label.sk-toggleable__label-arrow:before {content: \"▾\";}#sk-container-id-1 div.sk-estimator input.sk-toggleable__control:checked~label.sk-toggleable__label {background-color: #d4ebff;}#sk-container-id-1 div.sk-label input.sk-toggleable__control:checked~label.sk-toggleable__label {background-color: #d4ebff;}#sk-container-id-1 input.sk-hidden--visually {border: 0;clip: rect(1px 1px 1px 1px);clip: rect(1px, 1px, 1px, 1px);height: 1px;margin: -1px;overflow: hidden;padding: 0;position: absolute;width: 1px;}#sk-container-id-1 div.sk-estimator {font-family: monospace;background-color: #f0f8ff;border: 1px dotted black;border-radius: 0.25em;box-sizing: border-box;margin-bottom: 0.5em;}#sk-container-id-1 div.sk-estimator:hover {background-color: #d4ebff;}#sk-container-id-1 div.sk-parallel-item::after {content: \"\";width: 100%;border-bottom: 1px solid gray;flex-grow: 1;}#sk-container-id-1 div.sk-label:hover label.sk-toggleable__label {background-color: #d4ebff;}#sk-container-id-1 div.sk-serial::before {content: \"\";position: absolute;border-left: 1px solid gray;box-sizing: border-box;top: 0;bottom: 0;left: 50%;z-index: 0;}#sk-container-id-1 div.sk-serial {display: flex;flex-direction: column;align-items: center;background-color: white;padding-right: 0.2em;padding-left: 0.2em;position: relative;}#sk-container-id-1 div.sk-item {position: relative;z-index: 1;}#sk-container-id-1 div.sk-parallel {display: flex;align-items: stretch;justify-content: center;background-color: white;position: relative;}#sk-container-id-1 div.sk-item::before, #sk-container-id-1 div.sk-parallel-item::before {content: \"\";position: absolute;border-left: 1px solid gray;box-sizing: border-box;top: 0;bottom: 0;left: 50%;z-index: -1;}#sk-container-id-1 div.sk-parallel-item {display: flex;flex-direction: column;z-index: 1;position: relative;background-color: white;}#sk-container-id-1 div.sk-parallel-item:first-child::after {align-self: flex-end;width: 50%;}#sk-container-id-1 div.sk-parallel-item:last-child::after {align-self: flex-start;width: 50%;}#sk-container-id-1 div.sk-parallel-item:only-child::after {width: 0;}#sk-container-id-1 div.sk-dashed-wrapped {border: 1px dashed gray;margin: 0 0.4em 0.5em 0.4em;box-sizing: border-box;padding-bottom: 0.4em;background-color: white;}#sk-container-id-1 div.sk-label label {font-family: monospace;font-weight: bold;display: inline-block;line-height: 1.2em;}#sk-container-id-1 div.sk-label-container {text-align: center;}#sk-container-id-1 div.sk-container {/* jupyter's `normalize.less` sets `[hidden] { display: none; }` but bootstrap.min.css set `[hidden] { display: none !important; }` so we also need the `!important` here to be able to override the default hidden behavior on the sphinx rendered scikit-learn.org. See: https://github.com/scikit-learn/scikit-learn/issues/21755 */display: inline-block !important;position: relative;}#sk-container-id-1 div.sk-text-repr-fallback {display: none;}</style><div id=\"sk-container-id-1\" class=\"sk-top-container\"><div class=\"sk-text-repr-fallback\"><pre>LogisticRegression()</pre><b>In a Jupyter environment, please rerun this cell to show the HTML representation or trust the notebook. <br />On GitHub, the HTML representation is unable to render, please try loading this page with nbviewer.org.</b></div><div class=\"sk-container\" hidden><div class=\"sk-item\"><div class=\"sk-estimator sk-toggleable\"><input class=\"sk-toggleable__control sk-hidden--visually\" id=\"sk-estimator-id-1\" type=\"checkbox\" checked><label for=\"sk-estimator-id-1\" class=\"sk-toggleable__label sk-toggleable__label-arrow\">LogisticRegression</label><div class=\"sk-toggleable__content\"><pre>LogisticRegression()</pre></div></div></div></div></div>"
      ],
      "text/plain": [
       "LogisticRegression()"
      ]
     },
     "execution_count": 8,
     "metadata": {},
     "output_type": "execute_result"
    }
   ],
   "source": [
    "LoR = LogisticRegression()\n",
    "LoR.fit(X_train,Y_train)"
   ]
  },
  {
   "cell_type": "markdown",
   "id": "a9100dd5",
   "metadata": {},
   "source": [
    "### Predicting"
   ]
  },
  {
   "cell_type": "code",
   "execution_count": 9,
   "id": "a2a0839f",
   "metadata": {},
   "outputs": [
    {
     "name": "stdout",
     "output_type": "stream",
     "text": [
      "[[0.49642793 0.50357207]\n",
      " [0.49881006 0.50118994]\n",
      " [0.50003531 0.49996469]\n",
      " [0.50670881 0.49329119]\n",
      " [0.49499137 0.50500863]]\n",
      "[1 1 0 0 1]\n"
     ]
    }
   ],
   "source": [
    "Yp_train = LoR.predict(X_train)\n",
    "proba_train = LoR.predict_proba(X_train)\n",
    "print(proba_train[:5])\n",
    "print(Yp_train[:5])"
   ]
  },
  {
   "cell_type": "code",
   "execution_count": 10,
   "id": "3c267498-8bda-4c98-9a6f-395b3dfd3875",
   "metadata": {},
   "outputs": [
    {
     "name": "stdout",
     "output_type": "stream",
     "text": [
      "[[0.50163388 0.49836612]\n",
      " [0.49445808 0.50554192]\n",
      " [0.49564165 0.50435835]\n",
      " [0.49421227 0.50578773]\n",
      " [0.49468308 0.50531692]]\n",
      "[0 1 1 1 1]\n"
     ]
    }
   ],
   "source": [
    "Yp_test = LoR.predict(X_test)\n",
    "proba_test = LoR.predict_proba(X_test)\n",
    "print(proba_test[:5])\n",
    "print(Yp_test[:5])"
   ]
  },
  {
   "cell_type": "code",
   "execution_count": 11,
   "id": "2394c079",
   "metadata": {},
   "outputs": [
    {
     "data": {
      "text/plain": [
       "<matplotlib.legend.Legend at 0x270cdb44850>"
      ]
     },
     "execution_count": 11,
     "metadata": {},
     "output_type": "execute_result"
    },
    {
     "data": {
      "image/png": "[encoded data removed]",
      "text/plain": [
       "<Figure size 1000x400 with 2 Axes>"
      ]
     },
     "metadata": {},
     "output_type": "display_data"
    }
   ],
   "source": [
    "fig1, (sub1,sub2) = plt.subplots(ncols=2,figsize=(10,4))\n",
    "sub1.plot(X_train,Y_train,'b+',label='Actual Training Y')\n",
    "sub1.plot(X_train,Yp_train,'r*',label='Predicted Training Y')\n",
    "sub1.legend(loc=0)\n",
    "\n",
    "sub2.plot(X_test,Y_test,'b+',label='Actual Testing Y')\n",
    "sub2.plot(X_test,Yp_test,'r*',label='Predicted Testing Y')\n",
    "sub2.legend(loc=5)"
   ]
  },
  {
   "cell_type": "markdown",
   "id": "9ef2b446",
   "metadata": {},
   "source": [
    "### Evaluating"
   ]
  },
  {
   "cell_type": "code",
   "execution_count": 12,
   "id": "5b3f99d3",
   "metadata": {
    "scrolled": true
   },
   "outputs": [
    {
     "name": "stdout",
     "output_type": "stream",
     "text": [
      "[[13 12]\n",
      " [13 12]]\n",
      "TRUE NEGATIVES: 13\n",
      "FALSE POSITIVES: 12\n",
      "FALSE NEGATIVES 13\n",
      "TRUE POSITIVES: 12\n"
     ]
    }
   ],
   "source": [
    "cm = confusion_matrix(Y_test, Yp_test)\n",
    "print(cm)\n",
    "print('TRUE NEGATIVES:', cm[0,0])\n",
    "print('FALSE POSITIVES:', cm[0,1])\n",
    "print('FALSE NEGATIVES', cm[1,0])\n",
    "print('TRUE POSITIVES:', cm[1,1])\n",
    "\n",
    "# hàng ngang bên trên là predicted values\n",
    "# hàng dọc bên trái là actual values "
   ]
  },
  {
   "cell_type": "code",
   "execution_count": 13,
   "id": "50c91864",
   "metadata": {
    "scrolled": true
   },
   "outputs": [
    {
     "name": "stdout",
     "output_type": "stream",
     "text": [
      "              precision    recall  f1-score   support\n",
      "\n",
      "           0       0.50      0.52      0.51        25\n",
      "           1       0.50      0.48      0.49        25\n",
      "\n",
      "    accuracy                           0.50        50\n",
      "   macro avg       0.50      0.50      0.50        50\n",
      "weighted avg       0.50      0.50      0.50        50\n",
      "\n"
     ]
    }
   ],
   "source": [
    "report = classification_report(Y_test,Yp_test)\n",
    "print(report)"
   ]
  },
  {
   "cell_type": "code",
   "execution_count": 14,
   "id": "c29fb783-d786-41c3-9508-e14607100426",
   "metadata": {},
   "outputs": [],
   "source": [
    "# accuracy_score = (TN + TP) / (TN + TP + FP + FN)\n",
    "\n",
    "# precision : true positives compared to predicted positives  -- precision = TP / (TP + FP)\n",
    "#           => liệu prediction of positives có chuẩn không?\n",
    "\n",
    "# recall/sensitivity/TPR : true positives compared to actual positives -- recall/sensitivity/TPR = TP / (TP + FN)\n",
    "#           => liệu prediction of positives có đúng nhiều không khi so với actual positives?\n",
    "\n",
    "# specificity : true negatives compared to actual negatives -- specificity = TN / (TN + FP)\n",
    "#           => liệu prediction of negatives có đúng nhiều không khi so với actual negatives?\n",
    "\n",
    "# FPR : false positives compared to actual negatives -- FPR = FP / (TN + FP) = 1 - specificity\n",
    "#           liệu prediction of negatives có sai nhiều không khi so với actual negatives?"
   ]
  },
  {
   "cell_type": "code",
   "execution_count": 15,
   "id": "7fe69906",
   "metadata": {},
   "outputs": [],
   "source": [
    "# f1_score : khó mà để cả precision & recall cao khi 2 metrics này ngược chiều -> sinh ra 1 metric mới để đánh giá\n",
    "\n",
    "# f1_score = 2.(precision.recall) / (precision + recall) nằm trong khoảng [0,1]\n",
    "\n",
    "# f_beta = (1 + b**2).(precision.recall) / (b**2.precision + recall)\n",
    "    # coi trọng precision -> chọn b < 1\n",
    "    # coi trọng recall -> chọn b > 1\n",
    "    # coi trọng ngang nhau -> b = 1 (chính là f1_score)"
   ]
  },
  {
   "cell_type": "code",
   "execution_count": 16,
   "id": "102cfa75",
   "metadata": {},
   "outputs": [
    {
     "data": {
      "text/plain": [
       "Text(0, 0.5, 'True Positive Rate')"
      ]
     },
     "execution_count": 16,
     "metadata": {},
     "output_type": "execute_result"
    },
    {
     "data": {
      "image/png": "[encoded data removed]",
      "text/plain": [
       "<Figure size 640x480 with 1 Axes>"
      ]
     },
     "metadata": {},
     "output_type": "display_data"
    }
   ],
   "source": [
    "fpr, tpr, _ = roc_curve(Y_test,Yp_test)\n",
    "auc = auc(fpr, tpr)\n",
    "\n",
    "plt.plot(fpr, tpr, label='ROC(AUC={})'.format(auc))\n",
    "plt.legend(loc='lower right')\n",
    "plt.xlabel('False Positive Rate')\n",
    "plt.ylabel('True Positive Rate')"
   ]
  },
  {
   "cell_type": "code",
   "execution_count": null,
   "id": "3574e5ea",
   "metadata": {},
   "outputs": [],
   "source": []
  },
  {
   "cell_type": "code",
   "execution_count": null,
   "id": "83b280fb-e9c4-46c6-9e47-b9ee00947eab",
   "metadata": {},
   "outputs": [],
   "source": []
  }
 ],
 "metadata": {
  "kernelspec": {
   "display_name": "Python 3 (ipykernel)",
   "language": "python",
   "name": "python3"
  },
  "language_info": {
   "codemirror_mode": {
    "name": "ipython",
    "version": 3
   },
   "file_extension": ".py",
   "mimetype": "text/x-python",
   "name": "python",
   "nbconvert_exporter": "python",
   "pygments_lexer": "ipython3",
   "version": "3.11.7"
  }
 },
 "nbformat": 4,
 "nbformat_minor": 5
}
