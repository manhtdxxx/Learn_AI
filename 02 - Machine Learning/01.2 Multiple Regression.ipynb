{
 "cells": [
  {
   "cell_type": "code",
   "execution_count": 1,
   "id": "93adaaf6",
   "metadata": {},
   "outputs": [],
   "source": [
    "import numpy as np\n",
    "import pandas as pd\n",
    "import matplotlib.pyplot as plt\n",
    "import sklearn.linear_model as lm\n",
    "from sklearn.model_selection import train_test_split\n",
    "from sklearn.metrics import r2_score, mean_absolute_error, mean_squared_error"
   ]
  },
  {
   "cell_type": "markdown",
   "id": "13b6bd61",
   "metadata": {},
   "source": [
    "### PREPARE DATA"
   ]
  },
  {
   "cell_type": "code",
   "execution_count": 2,
   "id": "9e010022",
   "metadata": {},
   "outputs": [
    {
     "name": "stdout",
     "output_type": "stream",
     "text": [
      "   so_gio_hoc  do_tap_trung  pp_hoc  tuoi  diem\n",
      "0           2             5       1    20    30\n",
      "1           3             4       2    25    35\n",
      "2           4             2       4    40    40\n",
      "3           5             4       3    30    44\n",
      "4           6             2       2    20    48\n",
      "5           7             3       2    30    60\n",
      "6           8             5       1    30    66\n",
      "7           9             2       3    50    70\n",
      "8          10             1       2    15    75\n",
      "----------------------------------------------------------------------------------------------------\n",
      "[[10  1  2 15]\n",
      " [ 4  2  4 40]\n",
      " [ 6  2  2 20]\n",
      " [ 5  4  3 30]\n",
      " [ 8  5  1 30]]\n",
      "\n",
      "[[ 9  2  3 50]\n",
      " [ 3  4  2 25]\n",
      " [ 7  3  2 30]\n",
      " [ 2  5  1 20]]\n",
      "----------------------------------------------------------------------------------------------------\n",
      "[75 40 48 44 66]\n",
      "\n",
      "[70 35 60 30]\n"
     ]
    }
   ],
   "source": [
    "df = pd.read_excel('score.xlsx',sheet_name='Sheet2')\n",
    "print(df)\n",
    "print('-'*100)\n",
    "\n",
    "# đầu vào\n",
    "X = df[['so_gio_hoc', 'do_tap_trung', 'pp_hoc', 'tuoi']].values\n",
    "\n",
    "# đầu ra\n",
    "Y = df.diem.values\n",
    "\n",
    "# Chia X,Y thành 2 bộ training & testing\n",
    "X_train, X_test, Y_train, Y_test = train_test_split(X,Y,train_size = 0.6, random_state=42)\n",
    "print(X_train)\n",
    "print()\n",
    "print(X_test)\n",
    "print('-'*100)\n",
    "print(Y_train)\n",
    "print()\n",
    "print(Y_test)"
   ]
  },
  {
   "cell_type": "markdown",
   "id": "fb11fd18",
   "metadata": {},
   "source": [
    "### SELECT & TRAIN MODEL"
   ]
  },
  {
   "cell_type": "code",
   "execution_count": 3,
   "id": "82b7c850",
   "metadata": {},
   "outputs": [
    {
     "name": "stdout",
     "output_type": "stream",
     "text": [
      "coefficients: [ 7.17647059e+00  2.35780287e-15 -2.35294118e-01  3.41176471e-01]\n",
      "intercept: -1.4117647058823835\n"
     ]
    }
   ],
   "source": [
    "# SELECT\n",
    "LR = lm.LinearRegression()\n",
    "\n",
    "# TRAIN\n",
    "LR.fit(X_train,Y_train)\n",
    "\n",
    "# CHECK QUY TẮC: y = a.x + b.y + c.z + d.e + f\n",
    "a = LR.coef_\n",
    "b = LR.intercept_\n",
    "print('coefficients:',a)\n",
    "print('intercept:',b)"
   ]
  },
  {
   "cell_type": "markdown",
   "id": "d490848e",
   "metadata": {},
   "source": [
    "### TEST"
   ]
  },
  {
   "cell_type": "code",
   "execution_count": 4,
   "id": "99a9602b",
   "metadata": {},
   "outputs": [],
   "source": [
    "Yp_train = LR.predict(X_train)"
   ]
  },
  {
   "cell_type": "code",
   "execution_count": 5,
   "id": "40873371",
   "metadata": {},
   "outputs": [],
   "source": [
    "Yp_test = LR.predict(X_test)"
   ]
  },
  {
   "cell_type": "markdown",
   "id": "edb10af6",
   "metadata": {},
   "source": [
    "### EVALUATE MODEL"
   ]
  },
  {
   "cell_type": "code",
   "execution_count": 6,
   "id": "3458d7aa",
   "metadata": {},
   "outputs": [
    {
     "name": "stdout",
     "output_type": "stream",
     "text": [
      "MSE OF TESTING DATA: 62.24913494809691\n",
      "MSE OF TRAINING DATA: 1.8175355256292112e-28\n",
      "----------------------------------------------------------------------------------------------------\n",
      "R2 OF TESTING DATA: 0.7774332605207708\n",
      "R2 OF TRAINING DATA: 1.0\n",
      "----------------------------------------------------------------------------------------------------\n",
      "==> OVERFIT\n"
     ]
    }
   ],
   "source": [
    "MSE1 = mean_squared_error(Y_test,Yp_test) # hay variance\n",
    "MSE2 = mean_squared_error(Y_train,Yp_train)\n",
    "print('MSE OF TESTING DATA:',MSE1)\n",
    "print('MSE OF TRAINING DATA:',MSE2)\n",
    "print('-'*100)\n",
    "\n",
    "R2_1 = r2_score(Y_test,Yp_test) # R_squared\n",
    "R2_2 = r2_score(Y_train,Yp_train)\n",
    "print('R2 OF TESTING DATA:',R2_1)\n",
    "print('R2 OF TRAINING DATA:',R2_2)\n",
    "print('-'*100)\n",
    "\n",
    "# KẾT LUẬN\n",
    "print('==> OVERFIT')\n",
    "\n",
    "\n",
    "# MAE,MSE,RMSE gần về 0 càng tốt\n",
    "# R2 gần về 1 càng tốt"
   ]
  },
  {
   "cell_type": "markdown",
   "id": "dad18db2",
   "metadata": {},
   "source": [
    "### IMPLEMENT"
   ]
  },
  {
   "cell_type": "code",
   "execution_count": 7,
   "id": "c6194e96",
   "metadata": {},
   "outputs": [
    {
     "name": "stdout",
     "output_type": "stream",
     "text": [
      "[122.82352941]\n"
     ]
    }
   ],
   "source": [
    "Y_moi = LR.predict([[15,3,2,50]])\n",
    "print(Y_moi)"
   ]
  },
  {
   "cell_type": "code",
   "execution_count": null,
   "id": "1d100b26",
   "metadata": {},
   "outputs": [],
   "source": []
  }
 ],
 "metadata": {
  "kernelspec": {
   "display_name": "Python 3 (ipykernel)",
   "language": "python",
   "name": "python3"
  },
  "language_info": {
   "codemirror_mode": {
    "name": "ipython",
    "version": 3
   },
   "file_extension": ".py",
   "mimetype": "text/x-python",
   "name": "python",
   "nbconvert_exporter": "python",
   "pygments_lexer": "ipython3",
   "version": "3.11.5"
  }
 },
 "nbformat": 4,
 "nbformat_minor": 5
}
