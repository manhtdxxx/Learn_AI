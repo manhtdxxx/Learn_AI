{
 "cells": [
  {
   "cell_type": "code",
   "execution_count": 1,
   "id": "d8c1f79c",
   "metadata": {},
   "outputs": [],
   "source": [
    "import pandas as pd\n",
    "import numpy as np\n",
    "import matplotlib.pyplot as plt\n",
    "from sklearn.linear_model import LinearRegression\n",
    "from sklearn.model_selection import train_test_split\n",
    "from sklearn.metrics import mean_squared_error, r2_score\n",
    "from sklearn.preprocessing import LabelEncoder, OneHotEncoder\n",
    "from sklearn.compose import ColumnTransformer"
   ]
  },
  {
   "cell_type": "markdown",
   "id": "075f8b57",
   "metadata": {},
   "source": [
    "# Cách 1: Using Dummies from Pandas"
   ]
  },
  {
   "cell_type": "markdown",
   "id": "10d4f82c",
   "metadata": {},
   "source": [
    "### Prepare Data"
   ]
  },
  {
   "cell_type": "code",
   "execution_count": 2,
   "id": "ade1210b",
   "metadata": {},
   "outputs": [
    {
     "name": "stdout",
     "output_type": "stream",
     "text": [
      "               town  area   price\n",
      "0   monroe township  2600  550000\n",
      "1   monroe township  3000  565000\n",
      "2   monroe township  3200  610000\n",
      "3   monroe township  3600  680000\n",
      "4   monroe township  4000  725000\n",
      "5      west windsor  2600  585000\n",
      "6      west windsor  2800  615000\n",
      "7      west windsor  3300  650000\n",
      "8      west windsor  3600  710000\n",
      "9       robinsville  2600  575000\n",
      "10      robinsville  2900  600000\n",
      "11      robinsville  3100  620000\n",
      "12      robinsville  3600  695000\n"
     ]
    }
   ],
   "source": [
    "df = pd.read_csv('homeprices.csv')\n",
    "print(df)"
   ]
  },
  {
   "cell_type": "code",
   "execution_count": 3,
   "id": "d5fd9ee4",
   "metadata": {
    "scrolled": true
   },
   "outputs": [
    {
     "name": "stdout",
     "output_type": "stream",
     "text": [
      "    monroe township  robinsville  west windsor\n",
      "0                 1            0             0\n",
      "1                 1            0             0\n",
      "2                 1            0             0\n",
      "3                 1            0             0\n",
      "4                 1            0             0\n",
      "5                 0            0             1\n",
      "6                 0            0             1\n",
      "7                 0            0             1\n",
      "8                 0            0             1\n",
      "9                 0            1             0\n",
      "10                0            1             0\n",
      "11                0            1             0\n",
      "12                0            1             0\n"
     ]
    }
   ],
   "source": [
    "dummies = pd.get_dummies(df.town,dtype='int16')\n",
    "print(dummies)"
   ]
  },
  {
   "cell_type": "code",
   "execution_count": 4,
   "id": "0cd015d4",
   "metadata": {},
   "outputs": [
    {
     "name": "stdout",
     "output_type": "stream",
     "text": [
      "    monroe township  robinsville  west windsor             town  area   price\n",
      "0                 1            0             0  monroe township  2600  550000\n",
      "1                 1            0             0  monroe township  3000  565000\n",
      "2                 1            0             0  monroe township  3200  610000\n",
      "3                 1            0             0  monroe township  3600  680000\n",
      "4                 1            0             0  monroe township  4000  725000\n",
      "5                 0            0             1     west windsor  2600  585000\n",
      "6                 0            0             1     west windsor  2800  615000\n",
      "7                 0            0             1     west windsor  3300  650000\n",
      "8                 0            0             1     west windsor  3600  710000\n",
      "9                 0            1             0      robinsville  2600  575000\n",
      "10                0            1             0      robinsville  2900  600000\n",
      "11                0            1             0      robinsville  3100  620000\n",
      "12                0            1             0      robinsville  3600  695000\n"
     ]
    }
   ],
   "source": [
    "df_dummies = pd.concat([dummies,df],axis='columns')\n",
    "print(df_dummies)"
   ]
  },
  {
   "cell_type": "code",
   "execution_count": 5,
   "id": "b0602d29",
   "metadata": {},
   "outputs": [
    {
     "name": "stdout",
     "output_type": "stream",
     "text": [
      "    robinsville  west windsor  area   price\n",
      "0             0             0  2600  550000\n",
      "1             0             0  3000  565000\n",
      "2             0             0  3200  610000\n",
      "3             0             0  3600  680000\n",
      "4             0             0  4000  725000\n",
      "5             0             1  2600  585000\n",
      "6             0             1  2800  615000\n",
      "7             0             1  3300  650000\n",
      "8             0             1  3600  710000\n",
      "9             1             0  2600  575000\n",
      "10            1             0  2900  600000\n",
      "11            1             0  3100  620000\n",
      "12            1             0  3600  695000\n"
     ]
    }
   ],
   "source": [
    "final_df = df_dummies.drop(['town','monroe township'],axis='columns')\n",
    "print(final_df)"
   ]
  },
  {
   "cell_type": "code",
   "execution_count": 6,
   "id": "d8b72414",
   "metadata": {},
   "outputs": [],
   "source": [
    "X = final_df.drop('price',axis=1).values\n",
    "Y = final_df.price.values\n",
    "X_train, X_test, Y_train, Y_test = train_test_split(X,Y,train_size=0.6,random_state=29)"
   ]
  },
  {
   "cell_type": "markdown",
   "id": "b7ac9c82",
   "metadata": {},
   "source": [
    "### Select & Train Model"
   ]
  },
  {
   "cell_type": "code",
   "execution_count": 7,
   "id": "18389c63",
   "metadata": {},
   "outputs": [
    {
     "name": "stdout",
     "output_type": "stream",
     "text": [
      "[    0.         38654.45859873   126.43312102]\n",
      "209307.32484075235\n"
     ]
    }
   ],
   "source": [
    "LR = LinearRegression()\n",
    "LR.fit(X_train, Y_train)\n",
    "a = LR.coef_\n",
    "b = LR.intercept_\n",
    "print(a)\n",
    "print(b)"
   ]
  },
  {
   "cell_type": "markdown",
   "id": "124c9dd1",
   "metadata": {},
   "source": [
    "### Test"
   ]
  },
  {
   "cell_type": "code",
   "execution_count": 8,
   "id": "e763c8e6",
   "metadata": {},
   "outputs": [
    {
     "name": "stdout",
     "output_type": "stream",
     "text": [
      "Yp_train: [665191 588606 538033 703121 613893 664466 576687]\n",
      "Y_train:  [650000 565000 550000 710000 610000 680000 585000]\n",
      "\n",
      "MSE: 186300045.4959052\n",
      "RMSE: 13649.177465909996\n",
      "R2: 0.9402767273189444\n"
     ]
    }
   ],
   "source": [
    "Yp_train = LR.predict(X_train)\n",
    "print('Yp_train:',np.int64(Yp_train))\n",
    "print('Y_train: ',Y_train)\n",
    "print()\n",
    "print('MSE:',mean_squared_error(Y_train,Yp_train))\n",
    "print('RMSE:',np.sqrt(mean_squared_error(Y_train,Yp_train)))\n",
    "print('R2:',r2_score(Y_train,Yp_train))"
   ]
  },
  {
   "cell_type": "code",
   "execution_count": 9,
   "id": "2f5248ad",
   "metadata": {},
   "outputs": [
    {
     "name": "stdout",
     "output_type": "stream",
     "text": [
      "Yp_test: [715039 664466 575963 601974 601249 538033]\n",
      "Y_test:  [725000 695000 600000 615000 620000 575000]\n",
      "\n",
      "MSE: 582834633.6734504\n",
      "RMSE: 24141.96830570056\n",
      "R2: 0.7952971042707881\n"
     ]
    }
   ],
   "source": [
    "Yp_test = LR.predict(X_test)\n",
    "print('Yp_test:',np.int64(Yp_test))\n",
    "print('Y_test: ',Y_test)\n",
    "print()\n",
    "print('MSE:',mean_squared_error(Y_test,Yp_test))\n",
    "print('RMSE:',np.sqrt(mean_squared_error(Y_test,Yp_test)))\n",
    "print('R2:',r2_score(Y_test,Yp_test))"
   ]
  },
  {
   "cell_type": "markdown",
   "id": "ba963570",
   "metadata": {},
   "source": [
    "# CÁCH 2: "
   ]
  },
  {
   "cell_type": "markdown",
   "id": "b77c60e2",
   "metadata": {},
   "source": [
    "### Prepare Data"
   ]
  },
  {
   "cell_type": "code",
   "execution_count": 10,
   "id": "d05fb8f9",
   "metadata": {},
   "outputs": [
    {
     "data": {
      "text/html": [
       "<div>\n",
       "<style scoped>\n",
       "    .dataframe tbody tr th:only-of-type {\n",
       "        vertical-align: middle;\n",
       "    }\n",
       "\n",
       "    .dataframe tbody tr th {\n",
       "        vertical-align: top;\n",
       "    }\n",
       "\n",
       "    .dataframe thead th {\n",
       "        text-align: right;\n",
       "    }\n",
       "</style>\n",
       "<table border=\"1\" class=\"dataframe\">\n",
       "  <thead>\n",
       "    <tr style=\"text-align: right;\">\n",
       "      <th></th>\n",
       "      <th>town</th>\n",
       "      <th>area</th>\n",
       "      <th>price</th>\n",
       "    </tr>\n",
       "  </thead>\n",
       "  <tbody>\n",
       "    <tr>\n",
       "      <th>0</th>\n",
       "      <td>monroe township</td>\n",
       "      <td>2600</td>\n",
       "      <td>550000</td>\n",
       "    </tr>\n",
       "    <tr>\n",
       "      <th>1</th>\n",
       "      <td>monroe township</td>\n",
       "      <td>3000</td>\n",
       "      <td>565000</td>\n",
       "    </tr>\n",
       "    <tr>\n",
       "      <th>2</th>\n",
       "      <td>monroe township</td>\n",
       "      <td>3200</td>\n",
       "      <td>610000</td>\n",
       "    </tr>\n",
       "    <tr>\n",
       "      <th>3</th>\n",
       "      <td>monroe township</td>\n",
       "      <td>3600</td>\n",
       "      <td>680000</td>\n",
       "    </tr>\n",
       "    <tr>\n",
       "      <th>4</th>\n",
       "      <td>monroe township</td>\n",
       "      <td>4000</td>\n",
       "      <td>725000</td>\n",
       "    </tr>\n",
       "    <tr>\n",
       "      <th>5</th>\n",
       "      <td>west windsor</td>\n",
       "      <td>2600</td>\n",
       "      <td>585000</td>\n",
       "    </tr>\n",
       "    <tr>\n",
       "      <th>6</th>\n",
       "      <td>west windsor</td>\n",
       "      <td>2800</td>\n",
       "      <td>615000</td>\n",
       "    </tr>\n",
       "    <tr>\n",
       "      <th>7</th>\n",
       "      <td>west windsor</td>\n",
       "      <td>3300</td>\n",
       "      <td>650000</td>\n",
       "    </tr>\n",
       "    <tr>\n",
       "      <th>8</th>\n",
       "      <td>west windsor</td>\n",
       "      <td>3600</td>\n",
       "      <td>710000</td>\n",
       "    </tr>\n",
       "    <tr>\n",
       "      <th>9</th>\n",
       "      <td>robinsville</td>\n",
       "      <td>2600</td>\n",
       "      <td>575000</td>\n",
       "    </tr>\n",
       "    <tr>\n",
       "      <th>10</th>\n",
       "      <td>robinsville</td>\n",
       "      <td>2900</td>\n",
       "      <td>600000</td>\n",
       "    </tr>\n",
       "    <tr>\n",
       "      <th>11</th>\n",
       "      <td>robinsville</td>\n",
       "      <td>3100</td>\n",
       "      <td>620000</td>\n",
       "    </tr>\n",
       "    <tr>\n",
       "      <th>12</th>\n",
       "      <td>robinsville</td>\n",
       "      <td>3600</td>\n",
       "      <td>695000</td>\n",
       "    </tr>\n",
       "  </tbody>\n",
       "</table>\n",
       "</div>"
      ],
      "text/plain": [
       "               town  area   price\n",
       "0   monroe township  2600  550000\n",
       "1   monroe township  3000  565000\n",
       "2   monroe township  3200  610000\n",
       "3   monroe township  3600  680000\n",
       "4   monroe township  4000  725000\n",
       "5      west windsor  2600  585000\n",
       "6      west windsor  2800  615000\n",
       "7      west windsor  3300  650000\n",
       "8      west windsor  3600  710000\n",
       "9       robinsville  2600  575000\n",
       "10      robinsville  2900  600000\n",
       "11      robinsville  3100  620000\n",
       "12      robinsville  3600  695000"
      ]
     },
     "execution_count": 10,
     "metadata": {},
     "output_type": "execute_result"
    }
   ],
   "source": [
    "df2 = df\n",
    "df2"
   ]
  },
  {
   "cell_type": "code",
   "execution_count": 11,
   "id": "f645257a",
   "metadata": {},
   "outputs": [],
   "source": [
    "X = df2.iloc[:,:-1].values\n",
    "Y = df2.iloc[:,-1].values"
   ]
  },
  {
   "cell_type": "code",
   "execution_count": 12,
   "id": "7452dffb",
   "metadata": {},
   "outputs": [
    {
     "data": {
      "text/plain": [
       "array([[0.0, 0.0, 2600],\n",
       "       [0.0, 0.0, 3000],\n",
       "       [0.0, 0.0, 3200],\n",
       "       [0.0, 0.0, 3600],\n",
       "       [0.0, 0.0, 4000],\n",
       "       [0.0, 1.0, 2600],\n",
       "       [0.0, 1.0, 2800],\n",
       "       [0.0, 1.0, 3300],\n",
       "       [0.0, 1.0, 3600],\n",
       "       [1.0, 0.0, 2600],\n",
       "       [1.0, 0.0, 2900],\n",
       "       [1.0, 0.0, 3100],\n",
       "       [1.0, 0.0, 3600]], dtype=object)"
      ]
     },
     "execution_count": 12,
     "metadata": {},
     "output_type": "execute_result"
    }
   ],
   "source": [
    "ct = ColumnTransformer(transformers=[('encoder',OneHotEncoder(),[0])],remainder='passthrough')\n",
    "X = ct.fit_transform(X)\n",
    "X = X[:,1:]\n",
    "X"
   ]
  },
  {
   "cell_type": "code",
   "execution_count": 13,
   "id": "c96e6f25",
   "metadata": {},
   "outputs": [],
   "source": [
    "X_train, X_test, Y_train, Y_test = train_test_split(X,Y,train_size=0.6,random_state=29)"
   ]
  },
  {
   "cell_type": "markdown",
   "id": "9d4a45ea",
   "metadata": {},
   "source": [
    "### Select & Train Model"
   ]
  },
  {
   "cell_type": "code",
   "execution_count": 14,
   "id": "6c873871",
   "metadata": {},
   "outputs": [
    {
     "name": "stdout",
     "output_type": "stream",
     "text": [
      "[    0.         38654.45859873   126.43312102]\n",
      "209307.32484075235\n"
     ]
    }
   ],
   "source": [
    "LR2 = LinearRegression()\n",
    "LR2.fit(X_train, Y_train)\n",
    "a = LR2.coef_\n",
    "b = LR2.intercept_\n",
    "print(a)\n",
    "print(b)"
   ]
  },
  {
   "cell_type": "markdown",
   "id": "2e77b851",
   "metadata": {},
   "source": [
    "### Test"
   ]
  },
  {
   "cell_type": "code",
   "execution_count": 15,
   "id": "7ff4d1f6",
   "metadata": {},
   "outputs": [
    {
     "name": "stdout",
     "output_type": "stream",
     "text": [
      "Yp_train: [665191 588606 538033 703121 613893 664466 576687]\n",
      "Y_train : [650000 565000 550000 710000 610000 680000 585000]\n",
      "\n",
      "MSE: 186300045.4959052\n",
      "RMSE: 13649.177465909996\n",
      "R2: 0.9402767273189444\n"
     ]
    }
   ],
   "source": [
    "Yp_train = LR2.predict(X_train)\n",
    "print('Yp_train:',np.int64(Yp_train))\n",
    "print('Y_train :',Y_train)\n",
    "print()\n",
    "print('MSE:',mean_squared_error(Y_train,Yp_train))\n",
    "print('RMSE:',np.sqrt(mean_squared_error(Y_train,Yp_train)))\n",
    "print('R2:',r2_score(Y_train,Yp_train))"
   ]
  },
  {
   "cell_type": "code",
   "execution_count": 16,
   "id": "6128c673",
   "metadata": {},
   "outputs": [
    {
     "name": "stdout",
     "output_type": "stream",
     "text": [
      "Yp_test: [715039 664466 575963 601974 601249 538033]\n",
      "Y_test : [725000 695000 600000 615000 620000 575000]\n",
      "\n",
      "MSE: 582834633.6734504\n",
      "RMSE: 24141.96830570056\n",
      "R2: 0.7952971042707881\n"
     ]
    }
   ],
   "source": [
    "Yp_test = LR2.predict(X_test)\n",
    "print('Yp_test:',np.int64(Yp_test))\n",
    "print('Y_test :',Y_test)\n",
    "print()\n",
    "print('MSE:',mean_squared_error(Y_test,Yp_test))\n",
    "print('RMSE:',np.sqrt(mean_squared_error(Y_test,Yp_test)))\n",
    "print('R2:',r2_score(Y_test,Yp_test))"
   ]
  },
  {
   "cell_type": "code",
   "execution_count": null,
   "id": "c1ec82ad",
   "metadata": {},
   "outputs": [],
   "source": []
  }
 ],
 "metadata": {
  "kernelspec": {
   "display_name": "Python 3 (ipykernel)",
   "language": "python",
   "name": "python3"
  },
  "language_info": {
   "codemirror_mode": {
    "name": "ipython",
    "version": 3
   },
   "file_extension": ".py",
   "mimetype": "text/x-python",
   "name": "python",
   "nbconvert_exporter": "python",
   "pygments_lexer": "ipython3",
   "version": "3.11.5"
  }
 },
 "nbformat": 4,
 "nbformat_minor": 5
}
