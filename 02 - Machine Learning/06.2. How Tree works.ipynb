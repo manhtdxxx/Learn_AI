{
 "cells": [
  {
   "cell_type": "code",
   "execution_count": 1,
   "id": "01a5b98d-980b-4c51-bff5-5076ee29f8c6",
   "metadata": {},
   "outputs": [],
   "source": [
    "import pandas as pd\n",
    "import numpy as np\n",
    "import matplotlib.pyplot as plt\n",
    "from sklearn.tree import DecisionTreeClassifier, export_graphviz"
   ]
  },
  {
   "cell_type": "markdown",
   "id": "65b79b28-6de5-4c2b-8136-57bd2fca549c",
   "metadata": {},
   "source": [
    "| Index | Ear Shape | Face Shape | Whiskers | Cat |\n",
    "|:-----:|:---------:|:----------:|:--------:|:---:|\n",
    "|   0   |   Pointy  |   Round    | Present  |  1  |\n",
    "|   1   |   Floppy  | Not Round  | Present  |  1  |\n",
    "|   2   |   Floppy  |   Round    | Absent   |  0  |\n",
    "|   3   |   Pointy  | Not Round  | Present  |  0  |\n",
    "|   4   |   Pointy  |   Round    | Present  |  1  |\n",
    "|   5   |   Pointy  |   Round    | Absent   |  1  |\n",
    "|   6   |   Floppy  | Not Round  | Absent   |  0  |\n",
    "|   7   |   Pointy  |   Round    | Absent   |  1  |\n",
    "|   8   |   Floppy  |   Round    | Absent   |  0  |\n",
    "|   9   |   Floppy  |   Round    | Absent   |  0  |\n",
    "\n",
    "\n",
    "We will use **one-hot encoding** to encode the categorical features. They will be as follows:\n",
    "\n",
    "- Ear Shape: Pointy = 1, Floppy = 0\n",
    "- Face Shape: Round = 1, Not Round = 0\n",
    "- Whiskers: Present = 1, Absent = 0\n",
    "\n",
    "Therefore, we have two sets:\n",
    "\n",
    "- `X_train`: for each example, contains 3 features:\n",
    "            - Ear Shape (1 if pointy, 0 otherwise)\n",
    "            - Face Shape (1 if round, 0 otherwise)\n",
    "            - Whiskers (1 if present, 0 otherwise)\n",
    "            \n",
    "- `y_train`: whether the animal is a cat\n",
    "            - 1 if the animal is a cat\n",
    "            - 0 otherwise"
   ]
  },
  {
   "cell_type": "code",
   "execution_count": 2,
   "id": "7db6bed0-7b19-4184-9628-13bb82ce8974",
   "metadata": {},
   "outputs": [],
   "source": [
    "X_train = np.array([\n",
    "    [1, 1, 1],\n",
    "    [0, 0, 1],\n",
    "    [0, 1, 0],\n",
    "    [1, 0, 1],\n",
    "    [1, 1, 1],\n",
    "    [1, 1, 0],\n",
    "    [0, 0, 0],\n",
    "    [1, 1, 0],\n",
    "    [0, 1, 0],\n",
    "    [0, 1, 0]\n",
    "])\n",
    "\n",
    "Y_train = np.array([1, 1, 0, 0, 1, 1, 0, 1, 0, 0])"
   ]
  },
  {
   "cell_type": "markdown",
   "id": "df8d76ba-ad00-4c84-8324-440b8b45e34c",
   "metadata": {},
   "source": [
    "# 1. Caculate Information Gain as a measure of Impurity"
   ]
  },
  {
   "cell_type": "code",
   "execution_count": 3,
   "id": "6cc04a6c-6630-4258-ba98-73e76ec267a6",
   "metadata": {},
   "outputs": [],
   "source": [
    "def entropy(p):\n",
    "    if p == 0 or p == 1:\n",
    "        return 0\n",
    "    else:\n",
    "        return - p * np.log2(p) - (1 - p) * np.log2(1 - p)"
   ]
  },
  {
   "cell_type": "code",
   "execution_count": 4,
   "id": "7a6a9906-754a-4b90-be1b-7e54243f6e68",
   "metadata": {},
   "outputs": [
    {
     "data": {
      "text/plain": [
       "[<matplotlib.lines.Line2D at 0x267c8241d90>]"
      ]
     },
     "execution_count": 4,
     "metadata": {},
     "output_type": "execute_result"
    },
    {
     "data": {
      "image/png": "[encoded data removed]",
      "text/plain": [
       "<Figure size 640x480 with 1 Axes>"
      ]
     },
     "metadata": {},
     "output_type": "display_data"
    }
   ],
   "source": [
    "p = np.linspace(1e-15, 1, 50)\n",
    "entropy_p = np.array([entropy(i) for i in p]) \n",
    "plt.plot(p, entropy_p, 'r')"
   ]
  },
  {
   "cell_type": "code",
   "execution_count": 5,
   "id": "705d92cb-a6aa-41ac-8f16-1e1b93b5c077",
   "metadata": {},
   "outputs": [],
   "source": [
    "def split_indices(X, feature_index):\n",
    "    \"\"\" Given a dataset and an index feature, return two lists for the two split nodes, \n",
    "    the left node has the animals that have that feature = 1 and the right node those that have the feature = 0\n",
    "    X is an array containing all samples, each sample has 3 features\n",
    "        feature_index = 0 => ear shape\n",
    "        feature_index = 1 => face shape\n",
    "        feature_index = 2 => whiskers\n",
    "    \"\"\"\n",
    "    left_indices = []\n",
    "    right_indices = []\n",
    "    for sample_idx, sample_features in enumerate(X):\n",
    "        if sample_features[feature_index] == 1:\n",
    "            left_indices.append(sample_idx)\n",
    "        else:\n",
    "            right_indices.append(sample_idx)\n",
    "            \n",
    "    return left_indices, right_indices"
   ]
  },
  {
   "cell_type": "code",
   "execution_count": 6,
   "id": "cf72a918-86b9-4d39-9d95-0b2cb1b7d180",
   "metadata": {},
   "outputs": [],
   "source": [
    "def split_indices_if_numerical(X, feature_index, split_value):\n",
    "    left_indices = []\n",
    "    right_indices = []\n",
    "    for sample_idx, sample_features in enumerate(X):\n",
    "        if sample_features[feature_index] <= split_value:\n",
    "            left_indices.append(sample_idx)\n",
    "        else:\n",
    "            right_indices.append(sample_idx)\n",
    "    return left_indices, right_indices"
   ]
  },
  {
   "cell_type": "code",
   "execution_count": 7,
   "id": "bd42544c-cf6e-4f9f-8fe5-d9f3a2262aab",
   "metadata": {},
   "outputs": [],
   "source": [
    "def weighted_sum_of_entropy(X, Y, left_indices, right_indices):\n",
    "    \"\"\"\n",
    "    This function takes the split dataset, and the indices we chose to split, and returns the weighted sum of entropy.\n",
    "    \"\"\"\n",
    "    w_left = len(left_indices) / len(X)\n",
    "    w_right = len(right_indices) / len(X)\n",
    "\n",
    "    cats_in_left = sum(Y[left_indices])\n",
    "    animals_in_left = len(left_indices)\n",
    "    p_left = 0  # UnboundLocalError: cannot access local variable 'p_right' where it is not associated with a value\n",
    "    if animals_in_left > 0:\n",
    "        p_left = cats_in_left / animals_in_left\n",
    "\n",
    "    cats_in_right = sum(Y[right_indices])\n",
    "    animals_in_right = len(right_indices)\n",
    "    p_right = 0\n",
    "    if animals_in_right > 0:\n",
    "        p_right = cats_in_right / animals_in_right\n",
    "    \n",
    "    weighted_sum = w_left * entropy(p_left) + w_right * entropy(p_right)\n",
    "    return weighted_sum"
   ]
  },
  {
   "cell_type": "code",
   "execution_count": 8,
   "id": "30f60f94-2f41-436a-8182-9585cfdb6d78",
   "metadata": {},
   "outputs": [],
   "source": [
    "def information_gain(X, Y, left_indices, right_indices):\n",
    "    \"\"\"\n",
    "    Here, X has the elements in the node and y is their respective classes\n",
    "    \"\"\"\n",
    "    cats_before_split = sum(Y)\n",
    "    animals_before_split = len(Y)\n",
    "    p_before_split = cats_before_split / animals_before_split\n",
    "    \n",
    "    entropy_before_split = entropy(p_before_split)\n",
    "    entropy_after_split = weighted_sum_of_entropy(X, Y, left_indices, right_indices)\n",
    "\n",
    "    return entropy_before_split - entropy_after_split"
   ]
  },
  {
   "cell_type": "markdown",
   "id": "83905762-1583-4f2d-b5fd-238b13a22d2e",
   "metadata": {},
   "source": [
    "# 2. Find the Feature of Root Node"
   ]
  },
  {
   "cell_type": "code",
   "execution_count": 9,
   "id": "d2d33fd7-4b36-4633-93a7-a4213751f8d2",
   "metadata": {},
   "outputs": [
    {
     "name": "stdout",
     "output_type": "stream",
     "text": [
      "Feature: Ear Shape , Information Gain if we split the root node using This Feature: 0.28\n",
      "Feature: Face Shape, Information Gain if we split the root node using This Feature: 0.03\n",
      "Feature: Whiskers  , Information Gain if we split the root node using This Feature: 0.12\n"
     ]
    }
   ],
   "source": [
    "for feature_index, feature_name in enumerate(['Ear Shape', 'Face Shape', 'Whiskers']):\n",
    "    left_indices, right_indices = split_indices(X_train, feature_index)\n",
    "    info_gain = information_gain(X_train, Y_train, left_indices, right_indices)\n",
    "    \n",
    "    print(f\"Feature: {feature_name:<10}, Information Gain if we split the root node using This Feature: {info_gain:.2f}\")"
   ]
  },
  {
   "cell_type": "markdown",
   "id": "8214392b-1a48-4e98-a009-b0a9e9c3ff21",
   "metadata": {},
   "source": [
    "##### ==> Pick Feature for the Root Node: Ear Shape"
   ]
  },
  {
   "cell_type": "code",
   "execution_count": 10,
   "id": "a9d12b9d-6269-4316-a323-895d1683c121",
   "metadata": {},
   "outputs": [
    {
     "data": {
      "text/plain": [
       "([0, 3, 4, 5, 7], [1, 2, 6, 8, 9])"
      ]
     },
     "execution_count": 10,
     "metadata": {},
     "output_type": "execute_result"
    }
   ],
   "source": [
    "left_indices, right_indices = split_indices(X_train, 0)\n",
    "left_indices, right_indices"
   ]
  },
  {
   "cell_type": "code",
   "execution_count": 11,
   "id": "2f53702e-22b3-4d22-9581-7c42b7d592be",
   "metadata": {},
   "outputs": [],
   "source": [
    "def find_best_split(X, Y):\n",
    "    best_feature = -1\n",
    "    best_info_gain = -float('inf')\n",
    "    best_split_value_if_numerical = float('inf')\n",
    "    best_split_indices = None\n",
    "\n",
    "    for feature_index in range(X.shape[1]):\n",
    "        unique_values = np.unique(X[:, feature_index])\n",
    "        \n",
    "        if set(unique_values).issubset({0, 1}):\n",
    "            left_indices, right_indices = split_indices(X, feature_index)\n",
    "            info_gain = information_gain(X, Y, left_indices, right_indices)\n",
    "            if info_gain > best_info_gain:\n",
    "                best_info_gain = info_gain\n",
    "                best_feature = feature_index\n",
    "                best_split_indices = (left_indices, right_indices)\n",
    "\n",
    "        else:\n",
    "            sorted_indices = np.argsort(X[:, feature_index])\n",
    "            sorted_X = X[sorted_indices]\n",
    "            sorted_Y = Y[sorted_indices]\n",
    "            for idx in range(0, len(sorted_X)-1):\n",
    "                if sorted_X[idx, feature_index] != sorted_X[idx+1, feature_index]:\n",
    "                    split_value = (sorted_X[idx, feature_index] + sorted_X[idx+1, feature_index]) / 2\n",
    "                    left_indices, right_indices = split_indices_if_numerical(X, feature_index, split_value)\n",
    "                    info_gain = information_gain(X, Y, left_indices, right_indices)\n",
    "    \n",
    "                    if info_gain > best_info_gain:\n",
    "                        best_info_gain = info_gain\n",
    "                        best_feature = feature_index\n",
    "                        best_split_value_if_numerical = split_value\n",
    "                        best_split_indices = (left_indices, right_indices)\n",
    "\n",
    "    if best_split_indices is None:\n",
    "        return best_feature, 0, ([], []), best_split_value_if_numerical\n",
    "        \n",
    "    return best_feature, best_info_gain, best_split_indices, best_split_value_if_numerical"
   ]
  },
  {
   "cell_type": "code",
   "execution_count": 12,
   "id": "8d2fdb48-2c6b-4a30-8d8e-ded61432d771",
   "metadata": {},
   "outputs": [],
   "source": [
    "def samples_after_split(X, Y, split_indices):\n",
    "    left_indices = split_indices[0]\n",
    "    right_indices = split_indices[1]\n",
    "    \n",
    "    X_left = X[left_indices]\n",
    "    X_right = X[right_indices]\n",
    "    Y_left = Y[left_indices]\n",
    "    Y_right = Y[right_indices]\n",
    "\n",
    "    return X_left, Y_left, X_right, Y_right"
   ]
  },
  {
   "cell_type": "code",
   "execution_count": 13,
   "id": "a490214c-1dfa-4494-9188-3362166a1da6",
   "metadata": {},
   "outputs": [
    {
     "data": {
      "text/plain": [
       "(0, 0.2780719051126377, ([0, 3, 4, 5, 7], [1, 2, 6, 8, 9]))"
      ]
     },
     "execution_count": 13,
     "metadata": {},
     "output_type": "execute_result"
    }
   ],
   "source": [
    "best_feature, best_info_gain, best_split_indices, _ = find_best_split(X_train, Y_train)\n",
    "best_feature, best_info_gain, best_split_indices"
   ]
  },
  {
   "cell_type": "code",
   "execution_count": 14,
   "id": "503a4ae8-83ca-4240-8c5b-04cf9ae664ff",
   "metadata": {},
   "outputs": [
    {
     "data": {
      "text/plain": [
       "(array([1, 0, 1, 1, 1]), array([1, 0, 0, 0, 0]))"
      ]
     },
     "execution_count": 14,
     "metadata": {},
     "output_type": "execute_result"
    }
   ],
   "source": [
    "X_left, Y_left, X_right, Y_right = samples_after_split(X_train, Y_train, best_split_indices)\n",
    "Y_left, Y_right"
   ]
  },
  {
   "cell_type": "markdown",
   "id": "bb2de4d4-9479-4386-8269-6db0a7044a7c",
   "metadata": {},
   "source": [
    "# 3. Build Next Nodes"
   ]
  },
  {
   "cell_type": "code",
   "execution_count": 15,
   "id": "af32db7e-6406-4b17-b1e4-cde138257147",
   "metadata": {},
   "outputs": [],
   "source": [
    "def build_tree_recursive(X, Y, branch_name, max_depth, current_depth=0):\n",
    "\n",
    "    if current_depth == max_depth:\n",
    "        print(f\"{branch_name}: Tree has reached its maximum depth at depth {current_depth}\")\n",
    "        print('~'*100)\n",
    "        return None\n",
    "\n",
    "    if len(Y) == 0:\n",
    "        print(f\"{branch_name}: No samples left to split at depth {current_depth}\")\n",
    "        print('~'*100)\n",
    "        return None\n",
    "\n",
    "    best_feature, best_info_gain, best_split_indices, best_split_value_if_numerical = find_best_split(X, Y)\n",
    "\n",
    "    if best_info_gain <= 0:\n",
    "        print(f\"{branch_name}: Tree has been optimized fully at depth {current_depth}\")\n",
    "        print('~'*100)\n",
    "        return None\n",
    "\n",
    "    left_indices, right_indices = best_split_indices\n",
    "    if left_indices == [] or right_indices == []:\n",
    "        print(f\"{branch_name}: Empty split encountered at depth {current_depth}\")\n",
    "        print('~'*100)\n",
    "        return None\n",
    "\n",
    "    X_left, Y_left, X_right, Y_right = samples_after_split(X, Y, best_split_indices)\n",
    "\n",
    "    if best_split_value_if_numerical == float('inf'):\n",
    "        print(f\"Depth {current_depth} -- {branch_name}: Split on Feature {best_feature} with Infomation Gain = {best_info_gain}\")\n",
    "    else:\n",
    "        print(f\"Depth {current_depth} -- {branch_name}: Split on Feature {best_feature} with Split Value = {best_split_value_if_numerical}, and with Infomation Gain = {best_info_gain}\")\n",
    "        \n",
    "    print(f\"Y_left: {Y_left}\")\n",
    "    print(f\"Y_right: {Y_right}\")\n",
    "    print('~'*100)\n",
    "\n",
    "    build_tree_recursive(X_left, Y_left, \"Left Node\", max_depth, current_depth + 1)\n",
    "    build_tree_recursive(X_right, Y_right, \"Right Node\", max_depth, current_depth + 1)"
   ]
  },
  {
   "cell_type": "code",
   "execution_count": 16,
   "id": "a78f0e75-6171-44ca-ab52-c89eceab6387",
   "metadata": {},
   "outputs": [
    {
     "name": "stdout",
     "output_type": "stream",
     "text": [
      "Depth 0 -- Root Node: Split on Feature 0 with Infomation Gain = 0.2780719051126377\n",
      "Y_left: [1 0 1 1 1]\n",
      "Y_right: [1 0 0 0 0]\n",
      "~~~~~~~~~~~~~~~~~~~~~~~~~~~~~~~~~~~~~~~~~~~~~~~~~~~~~~~~~~~~~~~~~~~~~~~~~~~~~~~~~~~~~~~~~~~~~~~~~~~~\n",
      "Depth 1 -- Left Node: Split on Feature 1 with Infomation Gain = 0.7219280948873623\n",
      "Y_left: [1 1 1 1]\n",
      "Y_right: [0]\n",
      "~~~~~~~~~~~~~~~~~~~~~~~~~~~~~~~~~~~~~~~~~~~~~~~~~~~~~~~~~~~~~~~~~~~~~~~~~~~~~~~~~~~~~~~~~~~~~~~~~~~~\n",
      "Left Node: Tree has been optimized fully at depth 2\n",
      "~~~~~~~~~~~~~~~~~~~~~~~~~~~~~~~~~~~~~~~~~~~~~~~~~~~~~~~~~~~~~~~~~~~~~~~~~~~~~~~~~~~~~~~~~~~~~~~~~~~~\n",
      "Right Node: Tree has been optimized fully at depth 2\n",
      "~~~~~~~~~~~~~~~~~~~~~~~~~~~~~~~~~~~~~~~~~~~~~~~~~~~~~~~~~~~~~~~~~~~~~~~~~~~~~~~~~~~~~~~~~~~~~~~~~~~~\n",
      "Depth 1 -- Right Node: Split on Feature 2 with Infomation Gain = 0.7219280948873623\n",
      "Y_left: [1]\n",
      "Y_right: [0 0 0 0]\n",
      "~~~~~~~~~~~~~~~~~~~~~~~~~~~~~~~~~~~~~~~~~~~~~~~~~~~~~~~~~~~~~~~~~~~~~~~~~~~~~~~~~~~~~~~~~~~~~~~~~~~~\n",
      "Left Node: Tree has been optimized fully at depth 2\n",
      "~~~~~~~~~~~~~~~~~~~~~~~~~~~~~~~~~~~~~~~~~~~~~~~~~~~~~~~~~~~~~~~~~~~~~~~~~~~~~~~~~~~~~~~~~~~~~~~~~~~~\n",
      "Right Node: Tree has been optimized fully at depth 2\n",
      "~~~~~~~~~~~~~~~~~~~~~~~~~~~~~~~~~~~~~~~~~~~~~~~~~~~~~~~~~~~~~~~~~~~~~~~~~~~~~~~~~~~~~~~~~~~~~~~~~~~~\n"
     ]
    }
   ],
   "source": [
    "build_tree_recursive(X_train, Y_train, 'Root Node', max_depth=3)"
   ]
  },
  {
   "cell_type": "markdown",
   "id": "cf98703a-192f-42b5-96b7-69a528e4d009",
   "metadata": {},
   "source": [
    "# 4. Using sklearn"
   ]
  },
  {
   "cell_type": "code",
   "execution_count": 17,
   "id": "9a2581e1-04ab-4ce0-8741-847aa44a958b",
   "metadata": {},
   "outputs": [
    {
     "data": {
      "text/html": [
       "<style>#sk-container-id-1 {color: black;background-color: white;}#sk-container-id-1 pre{padding: 0;}#sk-container-id-1 div.sk-toggleable {background-color: white;}#sk-container-id-1 label.sk-toggleable__label {cursor: pointer;display: block;width: 100%;margin-bottom: 0;padding: 0.3em;box-sizing: border-box;text-align: center;}#sk-container-id-1 label.sk-toggleable__label-arrow:before {content: \"▸\";float: left;margin-right: 0.25em;color: #696969;}#sk-container-id-1 label.sk-toggleable__label-arrow:hover:before {color: black;}#sk-container-id-1 div.sk-estimator:hover label.sk-toggleable__label-arrow:before {color: black;}#sk-container-id-1 div.sk-toggleable__content {max-height: 0;max-width: 0;overflow: hidden;text-align: left;background-color: #f0f8ff;}#sk-container-id-1 div.sk-toggleable__content pre {margin: 0.2em;color: black;border-radius: 0.25em;background-color: #f0f8ff;}#sk-container-id-1 input.sk-toggleable__control:checked~div.sk-toggleable__content {max-height: 200px;max-width: 100%;overflow: auto;}#sk-container-id-1 input.sk-toggleable__control:checked~label.sk-toggleable__label-arrow:before {content: \"▾\";}#sk-container-id-1 div.sk-estimator input.sk-toggleable__control:checked~label.sk-toggleable__label {background-color: #d4ebff;}#sk-container-id-1 div.sk-label input.sk-toggleable__control:checked~label.sk-toggleable__label {background-color: #d4ebff;}#sk-container-id-1 input.sk-hidden--visually {border: 0;clip: rect(1px 1px 1px 1px);clip: rect(1px, 1px, 1px, 1px);height: 1px;margin: -1px;overflow: hidden;padding: 0;position: absolute;width: 1px;}#sk-container-id-1 div.sk-estimator {font-family: monospace;background-color: #f0f8ff;border: 1px dotted black;border-radius: 0.25em;box-sizing: border-box;margin-bottom: 0.5em;}#sk-container-id-1 div.sk-estimator:hover {background-color: #d4ebff;}#sk-container-id-1 div.sk-parallel-item::after {content: \"\";width: 100%;border-bottom: 1px solid gray;flex-grow: 1;}#sk-container-id-1 div.sk-label:hover label.sk-toggleable__label {background-color: #d4ebff;}#sk-container-id-1 div.sk-serial::before {content: \"\";position: absolute;border-left: 1px solid gray;box-sizing: border-box;top: 0;bottom: 0;left: 50%;z-index: 0;}#sk-container-id-1 div.sk-serial {display: flex;flex-direction: column;align-items: center;background-color: white;padding-right: 0.2em;padding-left: 0.2em;position: relative;}#sk-container-id-1 div.sk-item {position: relative;z-index: 1;}#sk-container-id-1 div.sk-parallel {display: flex;align-items: stretch;justify-content: center;background-color: white;position: relative;}#sk-container-id-1 div.sk-item::before, #sk-container-id-1 div.sk-parallel-item::before {content: \"\";position: absolute;border-left: 1px solid gray;box-sizing: border-box;top: 0;bottom: 0;left: 50%;z-index: -1;}#sk-container-id-1 div.sk-parallel-item {display: flex;flex-direction: column;z-index: 1;position: relative;background-color: white;}#sk-container-id-1 div.sk-parallel-item:first-child::after {align-self: flex-end;width: 50%;}#sk-container-id-1 div.sk-parallel-item:last-child::after {align-self: flex-start;width: 50%;}#sk-container-id-1 div.sk-parallel-item:only-child::after {width: 0;}#sk-container-id-1 div.sk-dashed-wrapped {border: 1px dashed gray;margin: 0 0.4em 0.5em 0.4em;box-sizing: border-box;padding-bottom: 0.4em;background-color: white;}#sk-container-id-1 div.sk-label label {font-family: monospace;font-weight: bold;display: inline-block;line-height: 1.2em;}#sk-container-id-1 div.sk-label-container {text-align: center;}#sk-container-id-1 div.sk-container {/* jupyter's `normalize.less` sets `[hidden] { display: none; }` but bootstrap.min.css set `[hidden] { display: none !important; }` so we also need the `!important` here to be able to override the default hidden behavior on the sphinx rendered scikit-learn.org. See: https://github.com/scikit-learn/scikit-learn/issues/21755 */display: inline-block !important;position: relative;}#sk-container-id-1 div.sk-text-repr-fallback {display: none;}</style><div id=\"sk-container-id-1\" class=\"sk-top-container\"><div class=\"sk-text-repr-fallback\"><pre>DecisionTreeClassifier(criterion=&#x27;entropy&#x27;)</pre><b>In a Jupyter environment, please rerun this cell to show the HTML representation or trust the notebook. <br />On GitHub, the HTML representation is unable to render, please try loading this page with nbviewer.org.</b></div><div class=\"sk-container\" hidden><div class=\"sk-item\"><div class=\"sk-estimator sk-toggleable\"><input class=\"sk-toggleable__control sk-hidden--visually\" id=\"sk-estimator-id-1\" type=\"checkbox\" checked><label for=\"sk-estimator-id-1\" class=\"sk-toggleable__label sk-toggleable__label-arrow\">DecisionTreeClassifier</label><div class=\"sk-toggleable__content\"><pre>DecisionTreeClassifier(criterion=&#x27;entropy&#x27;)</pre></div></div></div></div></div>"
      ],
      "text/plain": [
       "DecisionTreeClassifier(criterion='entropy')"
      ]
     },
     "execution_count": 17,
     "metadata": {},
     "output_type": "execute_result"
    }
   ],
   "source": [
    "dtc = DecisionTreeClassifier(criterion='entropy')\n",
    "dtc.fit(X_train, Y_train)"
   ]
  },
  {
   "cell_type": "code",
   "execution_count": 18,
   "id": "cc03861d-9f88-4e75-b55d-62eac0063c08",
   "metadata": {},
   "outputs": [
    {
     "data": {
      "image/svg+xml": [
       "<?xml version=\"1.0\" encoding=\"UTF-8\" standalone=\"no\"?>\n",
       "<!DOCTYPE svg PUBLIC \"-//W3C//DTD SVG 1.1//EN\"\n",
       " \"http://www.w3.org/Graphics/SVG/1.1/DTD/svg11.dtd\">\n",
       "<!-- Generated by graphviz version 2.50.0 (0)\n",
       " -->\n",
       "<!-- Title: Tree Pages: 1 -->\n",
       "<svg width=\"498pt\" height=\"314pt\"\n",
       " viewBox=\"0.00 0.00 498.00 314.00\" xmlns=\"http://www.w3.org/2000/svg\" xmlns:xlink=\"http://www.w3.org/1999/xlink\">\n",
       "<g id=\"graph0\" class=\"graph\" transform=\"scale(1 1) rotate(0) translate(4 310)\">\n",
       "<title>Tree</title>\n",
       "<polygon fill=\"white\" stroke=\"transparent\" points=\"-4,4 -4,-310 494,-310 494,4 -4,4\"/>\n",
       "<!-- 0 -->\n",
       "<g id=\"node1\" class=\"node\">\n",
       "<title>0</title>\n",
       "<path fill=\"#ffffff\" stroke=\"black\" d=\"M283,-306C283,-306 193,-306 193,-306 187,-306 181,-300 181,-294 181,-294 181,-235 181,-235 181,-229 187,-223 193,-223 193,-223 283,-223 283,-223 289,-223 295,-229 295,-235 295,-235 295,-294 295,-294 295,-300 289,-306 283,-306\"/>\n",
       "<text text-anchor=\"start\" x=\"189\" y=\"-290.8\" font-family=\"Helvetica,sans-Serif\" font-size=\"14.00\">Ear Shape ≤ 0.5</text>\n",
       "<text text-anchor=\"start\" x=\"198\" y=\"-275.8\" font-family=\"Helvetica,sans-Serif\" font-size=\"14.00\">entropy = 1.0</text>\n",
       "<text text-anchor=\"start\" x=\"197\" y=\"-260.8\" font-family=\"Helvetica,sans-Serif\" font-size=\"14.00\">samples = 10</text>\n",
       "<text text-anchor=\"start\" x=\"198.5\" y=\"-245.8\" font-family=\"Helvetica,sans-Serif\" font-size=\"14.00\">value = [5, 5]</text>\n",
       "<text text-anchor=\"start\" x=\"204\" y=\"-230.8\" font-family=\"Helvetica,sans-Serif\" font-size=\"14.00\">class = Cat</text>\n",
       "</g>\n",
       "<!-- 1 -->\n",
       "<g id=\"node2\" class=\"node\">\n",
       "<title>1</title>\n",
       "<path fill=\"#eca06a\" stroke=\"black\" d=\"M214.5,-187C214.5,-187 127.5,-187 127.5,-187 121.5,-187 115.5,-181 115.5,-175 115.5,-175 115.5,-116 115.5,-116 115.5,-110 121.5,-104 127.5,-104 127.5,-104 214.5,-104 214.5,-104 220.5,-104 226.5,-110 226.5,-116 226.5,-116 226.5,-175 226.5,-175 226.5,-181 220.5,-187 214.5,-187\"/>\n",
       "<text text-anchor=\"start\" x=\"125.5\" y=\"-171.8\" font-family=\"Helvetica,sans-Serif\" font-size=\"14.00\">Whiskers ≤ 0.5</text>\n",
       "<text text-anchor=\"start\" x=\"123.5\" y=\"-156.8\" font-family=\"Helvetica,sans-Serif\" font-size=\"14.00\">entropy = 0.722</text>\n",
       "<text text-anchor=\"start\" x=\"133.5\" y=\"-141.8\" font-family=\"Helvetica,sans-Serif\" font-size=\"14.00\">samples = 5</text>\n",
       "<text text-anchor=\"start\" x=\"131.5\" y=\"-126.8\" font-family=\"Helvetica,sans-Serif\" font-size=\"14.00\">value = [4, 1]</text>\n",
       "<text text-anchor=\"start\" x=\"137\" y=\"-111.8\" font-family=\"Helvetica,sans-Serif\" font-size=\"14.00\">class = Cat</text>\n",
       "</g>\n",
       "<!-- 0&#45;&gt;1 -->\n",
       "<g id=\"edge1\" class=\"edge\">\n",
       "<title>0&#45;&gt;1</title>\n",
       "<path fill=\"none\" stroke=\"black\" d=\"M214.75,-222.91C209.77,-214.2 204.44,-204.9 199.29,-195.89\"/>\n",
       "<polygon fill=\"black\" stroke=\"black\" points=\"202.21,-193.96 194.2,-187.02 196.14,-197.44 202.21,-193.96\"/>\n",
       "<text text-anchor=\"middle\" x=\"187.65\" y=\"-207.45\" font-family=\"Helvetica,sans-Serif\" font-size=\"14.00\">True</text>\n",
       "</g>\n",
       "<!-- 4 -->\n",
       "<g id=\"node5\" class=\"node\">\n",
       "<title>4</title>\n",
       "<path fill=\"#6ab6ec\" stroke=\"black\" d=\"M355.5,-187C355.5,-187 256.5,-187 256.5,-187 250.5,-187 244.5,-181 244.5,-175 244.5,-175 244.5,-116 244.5,-116 244.5,-110 250.5,-104 256.5,-104 256.5,-104 355.5,-104 355.5,-104 361.5,-104 367.5,-110 367.5,-116 367.5,-116 367.5,-175 367.5,-175 367.5,-181 361.5,-187 355.5,-187\"/>\n",
       "<text text-anchor=\"start\" x=\"252.5\" y=\"-171.8\" font-family=\"Helvetica,sans-Serif\" font-size=\"14.00\">Face Shape ≤ 0.5</text>\n",
       "<text text-anchor=\"start\" x=\"258.5\" y=\"-156.8\" font-family=\"Helvetica,sans-Serif\" font-size=\"14.00\">entropy = 0.722</text>\n",
       "<text text-anchor=\"start\" x=\"268.5\" y=\"-141.8\" font-family=\"Helvetica,sans-Serif\" font-size=\"14.00\">samples = 5</text>\n",
       "<text text-anchor=\"start\" x=\"266.5\" y=\"-126.8\" font-family=\"Helvetica,sans-Serif\" font-size=\"14.00\">value = [1, 4]</text>\n",
       "<text text-anchor=\"start\" x=\"254\" y=\"-111.8\" font-family=\"Helvetica,sans-Serif\" font-size=\"14.00\">class = Not a Cat</text>\n",
       "</g>\n",
       "<!-- 0&#45;&gt;4 -->\n",
       "<g id=\"edge4\" class=\"edge\">\n",
       "<title>0&#45;&gt;4</title>\n",
       "<path fill=\"none\" stroke=\"black\" d=\"M261.59,-222.91C266.66,-214.2 272.06,-204.9 277.29,-195.89\"/>\n",
       "<polygon fill=\"black\" stroke=\"black\" points=\"280.45,-197.43 282.45,-187.02 274.4,-193.91 280.45,-197.43\"/>\n",
       "<text text-anchor=\"middle\" x=\"288.85\" y=\"-207.49\" font-family=\"Helvetica,sans-Serif\" font-size=\"14.00\">False</text>\n",
       "</g>\n",
       "<!-- 2 -->\n",
       "<g id=\"node3\" class=\"node\">\n",
       "<title>2</title>\n",
       "<path fill=\"#e58139\" stroke=\"black\" d=\"M84,-68C84,-68 12,-68 12,-68 6,-68 0,-62 0,-56 0,-56 0,-12 0,-12 0,-6 6,0 12,0 12,0 84,0 84,0 90,0 96,-6 96,-12 96,-12 96,-56 96,-56 96,-62 90,-68 84,-68\"/>\n",
       "<text text-anchor=\"start\" x=\"8\" y=\"-52.8\" font-family=\"Helvetica,sans-Serif\" font-size=\"14.00\">entropy = 0.0</text>\n",
       "<text text-anchor=\"start\" x=\"10.5\" y=\"-37.8\" font-family=\"Helvetica,sans-Serif\" font-size=\"14.00\">samples = 4</text>\n",
       "<text text-anchor=\"start\" x=\"8.5\" y=\"-22.8\" font-family=\"Helvetica,sans-Serif\" font-size=\"14.00\">value = [4, 0]</text>\n",
       "<text text-anchor=\"start\" x=\"14\" y=\"-7.8\" font-family=\"Helvetica,sans-Serif\" font-size=\"14.00\">class = Cat</text>\n",
       "</g>\n",
       "<!-- 1&#45;&gt;2 -->\n",
       "<g id=\"edge2\" class=\"edge\">\n",
       "<title>1&#45;&gt;2</title>\n",
       "<path fill=\"none\" stroke=\"black\" d=\"M125.2,-103.73C114.65,-94.33 103.43,-84.35 92.92,-74.99\"/>\n",
       "<polygon fill=\"black\" stroke=\"black\" points=\"95.2,-72.33 85.41,-68.3 90.55,-77.56 95.2,-72.33\"/>\n",
       "</g>\n",
       "<!-- 3 -->\n",
       "<g id=\"node4\" class=\"node\">\n",
       "<title>3</title>\n",
       "<path fill=\"#399de5\" stroke=\"black\" d=\"M222,-68C222,-68 126,-68 126,-68 120,-68 114,-62 114,-56 114,-56 114,-12 114,-12 114,-6 120,0 126,0 126,0 222,0 222,0 228,0 234,-6 234,-12 234,-12 234,-56 234,-56 234,-62 228,-68 222,-68\"/>\n",
       "<text text-anchor=\"start\" x=\"134\" y=\"-52.8\" font-family=\"Helvetica,sans-Serif\" font-size=\"14.00\">entropy = 0.0</text>\n",
       "<text text-anchor=\"start\" x=\"136.5\" y=\"-37.8\" font-family=\"Helvetica,sans-Serif\" font-size=\"14.00\">samples = 1</text>\n",
       "<text text-anchor=\"start\" x=\"134.5\" y=\"-22.8\" font-family=\"Helvetica,sans-Serif\" font-size=\"14.00\">value = [0, 1]</text>\n",
       "<text text-anchor=\"start\" x=\"122\" y=\"-7.8\" font-family=\"Helvetica,sans-Serif\" font-size=\"14.00\">class = Not a Cat</text>\n",
       "</g>\n",
       "<!-- 1&#45;&gt;3 -->\n",
       "<g id=\"edge3\" class=\"edge\">\n",
       "<title>1&#45;&gt;3</title>\n",
       "<path fill=\"none\" stroke=\"black\" d=\"M172.12,-103.73C172.34,-95.52 172.58,-86.86 172.81,-78.56\"/>\n",
       "<polygon fill=\"black\" stroke=\"black\" points=\"176.31,-78.39 173.09,-68.3 169.32,-78.2 176.31,-78.39\"/>\n",
       "</g>\n",
       "<!-- 5 -->\n",
       "<g id=\"node6\" class=\"node\">\n",
       "<title>5</title>\n",
       "<path fill=\"#e58139\" stroke=\"black\" d=\"M340,-68C340,-68 268,-68 268,-68 262,-68 256,-62 256,-56 256,-56 256,-12 256,-12 256,-6 262,0 268,0 268,0 340,0 340,0 346,0 352,-6 352,-12 352,-12 352,-56 352,-56 352,-62 346,-68 340,-68\"/>\n",
       "<text text-anchor=\"start\" x=\"264\" y=\"-52.8\" font-family=\"Helvetica,sans-Serif\" font-size=\"14.00\">entropy = 0.0</text>\n",
       "<text text-anchor=\"start\" x=\"266.5\" y=\"-37.8\" font-family=\"Helvetica,sans-Serif\" font-size=\"14.00\">samples = 1</text>\n",
       "<text text-anchor=\"start\" x=\"264.5\" y=\"-22.8\" font-family=\"Helvetica,sans-Serif\" font-size=\"14.00\">value = [1, 0]</text>\n",
       "<text text-anchor=\"start\" x=\"270\" y=\"-7.8\" font-family=\"Helvetica,sans-Serif\" font-size=\"14.00\">class = Cat</text>\n",
       "</g>\n",
       "<!-- 4&#45;&gt;5 -->\n",
       "<g id=\"edge5\" class=\"edge\">\n",
       "<title>4&#45;&gt;5</title>\n",
       "<path fill=\"none\" stroke=\"black\" d=\"M305.26,-103.73C305.11,-95.52 304.95,-86.86 304.8,-78.56\"/>\n",
       "<polygon fill=\"black\" stroke=\"black\" points=\"308.29,-78.23 304.61,-68.3 301.29,-78.36 308.29,-78.23\"/>\n",
       "</g>\n",
       "<!-- 6 -->\n",
       "<g id=\"node7\" class=\"node\">\n",
       "<title>6</title>\n",
       "<path fill=\"#399de5\" stroke=\"black\" d=\"M478,-68C478,-68 382,-68 382,-68 376,-68 370,-62 370,-56 370,-56 370,-12 370,-12 370,-6 376,0 382,0 382,0 478,0 478,0 484,0 490,-6 490,-12 490,-12 490,-56 490,-56 490,-62 484,-68 478,-68\"/>\n",
       "<text text-anchor=\"start\" x=\"390\" y=\"-52.8\" font-family=\"Helvetica,sans-Serif\" font-size=\"14.00\">entropy = 0.0</text>\n",
       "<text text-anchor=\"start\" x=\"392.5\" y=\"-37.8\" font-family=\"Helvetica,sans-Serif\" font-size=\"14.00\">samples = 4</text>\n",
       "<text text-anchor=\"start\" x=\"390.5\" y=\"-22.8\" font-family=\"Helvetica,sans-Serif\" font-size=\"14.00\">value = [0, 4]</text>\n",
       "<text text-anchor=\"start\" x=\"378\" y=\"-7.8\" font-family=\"Helvetica,sans-Serif\" font-size=\"14.00\">class = Not a Cat</text>\n",
       "</g>\n",
       "<!-- 4&#45;&gt;6 -->\n",
       "<g id=\"edge6\" class=\"edge\">\n",
       "<title>4&#45;&gt;6</title>\n",
       "<path fill=\"none\" stroke=\"black\" d=\"M352.17,-103.73C362.81,-94.33 374.12,-84.35 384.72,-74.99\"/>\n",
       "<polygon fill=\"black\" stroke=\"black\" points=\"387.11,-77.54 392.29,-68.3 382.48,-72.3 387.11,-77.54\"/>\n",
       "</g>\n",
       "</g>\n",
       "</svg>\n"
      ],
      "text/plain": [
       "<graphviz.sources.Source at 0x267c7ac1010>"
      ]
     },
     "execution_count": 18,
     "metadata": {},
     "output_type": "execute_result"
    },
    {
     "data": {
      "text/plain": [
       "<Figure size 100x100 with 0 Axes>"
      ]
     },
     "metadata": {},
     "output_type": "display_data"
    }
   ],
   "source": [
    "import graphviz\n",
    "dot = export_graphviz(dtc, feature_names=['Ear Shape', 'Face Shape', 'Whiskers'], class_names=['Cat', 'Not a Cat'], \n",
    "                      impurity=True, filled=True, rounded=True, special_characters=True)\n",
    "\n",
    "plt.figure(figsize=(1,1))\n",
    "graph = graphviz.Source(dot)\n",
    "graph"
   ]
  },
  {
   "cell_type": "markdown",
   "id": "bac69901-12ac-45f0-b87e-c132df240cc0",
   "metadata": {},
   "source": [
    "# In case there is a column containing numerical value"
   ]
  },
  {
   "cell_type": "code",
   "execution_count": 19,
   "id": "2db2cc65-0bb9-4e4a-b30e-bfb5709afa6e",
   "metadata": {},
   "outputs": [],
   "source": [
    "X = np.array([\n",
    "    [2.5, 1], [1.5, 2], [3.5, 2], [1.5, 1], [3.5, 1],\n",
    "    [2.0, 1], [1.0, 2], [2.0, 2], [1.0, 1], [3.0, 1],\n",
    "    [2.5, 1], [1.5, 2], [3.5, 2], [1.5, 1], [3.5, 1],\n",
    "    [2.0, 1], [1.0, 2], [2.0, 2], [1.0, 1], [3.0, 1]\n",
    "])\n",
    "\n",
    "Y = np.array([\n",
    "    0, 0, 1, 1, 0,\n",
    "    0, 0, 1, 1, 0,\n",
    "    0, 0, 1, 1, 0,\n",
    "    0, 0, 1, 1, 0\n",
    "])"
   ]
  },
  {
   "cell_type": "code",
   "execution_count": 20,
   "id": "4da9c8e8-f582-4ac1-b5a0-e6f02ab0fa50",
   "metadata": {},
   "outputs": [
    {
     "name": "stdout",
     "output_type": "stream",
     "text": [
      "Depth 0 -- Root Node: Split on Feature 0 with Split Value = 2.25, and with Infomation Gain = 0.0464393446710154\n",
      "Y_left: [0 1 0 0 1 1 0 1 0 0 1 1]\n",
      "Y_right: [0 1 0 0 0 1 0 0]\n",
      "~~~~~~~~~~~~~~~~~~~~~~~~~~~~~~~~~~~~~~~~~~~~~~~~~~~~~~~~~~~~~~~~~~~~~~~~~~~~~~~~~~~~~~~~~~~~~~~~~~~~\n",
      "Depth 1 -- Left Node: Split on Feature 1 with Split Value = 1.5, and with Infomation Gain = 0.08170416594551044\n",
      "Y_left: [1 0 1 1 0 1]\n",
      "Y_right: [0 0 1 0 0 1]\n",
      "~~~~~~~~~~~~~~~~~~~~~~~~~~~~~~~~~~~~~~~~~~~~~~~~~~~~~~~~~~~~~~~~~~~~~~~~~~~~~~~~~~~~~~~~~~~~~~~~~~~~\n",
      "Depth 2 -- Left Node: Split on Feature 0 with Split Value = 1.75, and with Infomation Gain = 0.9182958340544896\n",
      "Y_left: [1 1 1 1]\n",
      "Y_right: [0 0]\n",
      "~~~~~~~~~~~~~~~~~~~~~~~~~~~~~~~~~~~~~~~~~~~~~~~~~~~~~~~~~~~~~~~~~~~~~~~~~~~~~~~~~~~~~~~~~~~~~~~~~~~~\n",
      "Left Node: Tree has been optimized fully at depth 3\n",
      "~~~~~~~~~~~~~~~~~~~~~~~~~~~~~~~~~~~~~~~~~~~~~~~~~~~~~~~~~~~~~~~~~~~~~~~~~~~~~~~~~~~~~~~~~~~~~~~~~~~~\n",
      "Right Node: Tree has been optimized fully at depth 3\n",
      "~~~~~~~~~~~~~~~~~~~~~~~~~~~~~~~~~~~~~~~~~~~~~~~~~~~~~~~~~~~~~~~~~~~~~~~~~~~~~~~~~~~~~~~~~~~~~~~~~~~~\n",
      "Depth 2 -- Right Node: Split on Feature 0 with Split Value = 1.75, and with Infomation Gain = 0.9182958340544896\n",
      "Y_left: [0 0 0 0]\n",
      "Y_right: [1 1]\n",
      "~~~~~~~~~~~~~~~~~~~~~~~~~~~~~~~~~~~~~~~~~~~~~~~~~~~~~~~~~~~~~~~~~~~~~~~~~~~~~~~~~~~~~~~~~~~~~~~~~~~~\n",
      "Left Node: Tree has been optimized fully at depth 3\n",
      "~~~~~~~~~~~~~~~~~~~~~~~~~~~~~~~~~~~~~~~~~~~~~~~~~~~~~~~~~~~~~~~~~~~~~~~~~~~~~~~~~~~~~~~~~~~~~~~~~~~~\n",
      "Right Node: Tree has been optimized fully at depth 3\n",
      "~~~~~~~~~~~~~~~~~~~~~~~~~~~~~~~~~~~~~~~~~~~~~~~~~~~~~~~~~~~~~~~~~~~~~~~~~~~~~~~~~~~~~~~~~~~~~~~~~~~~\n",
      "Depth 1 -- Right Node: Split on Feature 1 with Split Value = 1.5, and with Infomation Gain = 0.8112781244591328\n",
      "Y_left: [0 0 0 0 0 0]\n",
      "Y_right: [1 1]\n",
      "~~~~~~~~~~~~~~~~~~~~~~~~~~~~~~~~~~~~~~~~~~~~~~~~~~~~~~~~~~~~~~~~~~~~~~~~~~~~~~~~~~~~~~~~~~~~~~~~~~~~\n",
      "Left Node: Tree has been optimized fully at depth 2\n",
      "~~~~~~~~~~~~~~~~~~~~~~~~~~~~~~~~~~~~~~~~~~~~~~~~~~~~~~~~~~~~~~~~~~~~~~~~~~~~~~~~~~~~~~~~~~~~~~~~~~~~\n",
      "Right Node: Tree has been optimized fully at depth 2\n",
      "~~~~~~~~~~~~~~~~~~~~~~~~~~~~~~~~~~~~~~~~~~~~~~~~~~~~~~~~~~~~~~~~~~~~~~~~~~~~~~~~~~~~~~~~~~~~~~~~~~~~\n"
     ]
    }
   ],
   "source": [
    "build_tree_recursive(X, Y, 'Root Node', max_depth=4)"
   ]
  },
  {
   "cell_type": "code",
   "execution_count": 21,
   "id": "97f2ad31-c287-45f8-9989-9ca6fecb7156",
   "metadata": {},
   "outputs": [
    {
     "data": {
      "text/html": [
       "<style>#sk-container-id-2 {color: black;background-color: white;}#sk-container-id-2 pre{padding: 0;}#sk-container-id-2 div.sk-toggleable {background-color: white;}#sk-container-id-2 label.sk-toggleable__label {cursor: pointer;display: block;width: 100%;margin-bottom: 0;padding: 0.3em;box-sizing: border-box;text-align: center;}#sk-container-id-2 label.sk-toggleable__label-arrow:before {content: \"▸\";float: left;margin-right: 0.25em;color: #696969;}#sk-container-id-2 label.sk-toggleable__label-arrow:hover:before {color: black;}#sk-container-id-2 div.sk-estimator:hover label.sk-toggleable__label-arrow:before {color: black;}#sk-container-id-2 div.sk-toggleable__content {max-height: 0;max-width: 0;overflow: hidden;text-align: left;background-color: #f0f8ff;}#sk-container-id-2 div.sk-toggleable__content pre {margin: 0.2em;color: black;border-radius: 0.25em;background-color: #f0f8ff;}#sk-container-id-2 input.sk-toggleable__control:checked~div.sk-toggleable__content {max-height: 200px;max-width: 100%;overflow: auto;}#sk-container-id-2 input.sk-toggleable__control:checked~label.sk-toggleable__label-arrow:before {content: \"▾\";}#sk-container-id-2 div.sk-estimator input.sk-toggleable__control:checked~label.sk-toggleable__label {background-color: #d4ebff;}#sk-container-id-2 div.sk-label input.sk-toggleable__control:checked~label.sk-toggleable__label {background-color: #d4ebff;}#sk-container-id-2 input.sk-hidden--visually {border: 0;clip: rect(1px 1px 1px 1px);clip: rect(1px, 1px, 1px, 1px);height: 1px;margin: -1px;overflow: hidden;padding: 0;position: absolute;width: 1px;}#sk-container-id-2 div.sk-estimator {font-family: monospace;background-color: #f0f8ff;border: 1px dotted black;border-radius: 0.25em;box-sizing: border-box;margin-bottom: 0.5em;}#sk-container-id-2 div.sk-estimator:hover {background-color: #d4ebff;}#sk-container-id-2 div.sk-parallel-item::after {content: \"\";width: 100%;border-bottom: 1px solid gray;flex-grow: 1;}#sk-container-id-2 div.sk-label:hover label.sk-toggleable__label {background-color: #d4ebff;}#sk-container-id-2 div.sk-serial::before {content: \"\";position: absolute;border-left: 1px solid gray;box-sizing: border-box;top: 0;bottom: 0;left: 50%;z-index: 0;}#sk-container-id-2 div.sk-serial {display: flex;flex-direction: column;align-items: center;background-color: white;padding-right: 0.2em;padding-left: 0.2em;position: relative;}#sk-container-id-2 div.sk-item {position: relative;z-index: 1;}#sk-container-id-2 div.sk-parallel {display: flex;align-items: stretch;justify-content: center;background-color: white;position: relative;}#sk-container-id-2 div.sk-item::before, #sk-container-id-2 div.sk-parallel-item::before {content: \"\";position: absolute;border-left: 1px solid gray;box-sizing: border-box;top: 0;bottom: 0;left: 50%;z-index: -1;}#sk-container-id-2 div.sk-parallel-item {display: flex;flex-direction: column;z-index: 1;position: relative;background-color: white;}#sk-container-id-2 div.sk-parallel-item:first-child::after {align-self: flex-end;width: 50%;}#sk-container-id-2 div.sk-parallel-item:last-child::after {align-self: flex-start;width: 50%;}#sk-container-id-2 div.sk-parallel-item:only-child::after {width: 0;}#sk-container-id-2 div.sk-dashed-wrapped {border: 1px dashed gray;margin: 0 0.4em 0.5em 0.4em;box-sizing: border-box;padding-bottom: 0.4em;background-color: white;}#sk-container-id-2 div.sk-label label {font-family: monospace;font-weight: bold;display: inline-block;line-height: 1.2em;}#sk-container-id-2 div.sk-label-container {text-align: center;}#sk-container-id-2 div.sk-container {/* jupyter's `normalize.less` sets `[hidden] { display: none; }` but bootstrap.min.css set `[hidden] { display: none !important; }` so we also need the `!important` here to be able to override the default hidden behavior on the sphinx rendered scikit-learn.org. See: https://github.com/scikit-learn/scikit-learn/issues/21755 */display: inline-block !important;position: relative;}#sk-container-id-2 div.sk-text-repr-fallback {display: none;}</style><div id=\"sk-container-id-2\" class=\"sk-top-container\"><div class=\"sk-text-repr-fallback\"><pre>DecisionTreeClassifier(criterion=&#x27;entropy&#x27;, random_state=42)</pre><b>In a Jupyter environment, please rerun this cell to show the HTML representation or trust the notebook. <br />On GitHub, the HTML representation is unable to render, please try loading this page with nbviewer.org.</b></div><div class=\"sk-container\" hidden><div class=\"sk-item\"><div class=\"sk-estimator sk-toggleable\"><input class=\"sk-toggleable__control sk-hidden--visually\" id=\"sk-estimator-id-2\" type=\"checkbox\" checked><label for=\"sk-estimator-id-2\" class=\"sk-toggleable__label sk-toggleable__label-arrow\">DecisionTreeClassifier</label><div class=\"sk-toggleable__content\"><pre>DecisionTreeClassifier(criterion=&#x27;entropy&#x27;, random_state=42)</pre></div></div></div></div></div>"
      ],
      "text/plain": [
       "DecisionTreeClassifier(criterion='entropy', random_state=42)"
      ]
     },
     "execution_count": 21,
     "metadata": {},
     "output_type": "execute_result"
    }
   ],
   "source": [
    "dtc_if_numerical = DecisionTreeClassifier(criterion='entropy', random_state=42)\n",
    "dtc_if_numerical.fit(X, Y)"
   ]
  },
  {
   "cell_type": "code",
   "execution_count": 22,
   "id": "e3608ad3-4d67-4a91-a63f-326bb84c052e",
   "metadata": {},
   "outputs": [
    {
     "data": {
      "image/svg+xml": [
       "<?xml version=\"1.0\" encoding=\"UTF-8\" standalone=\"no\"?>\n",
       "<!DOCTYPE svg PUBLIC \"-//W3C//DTD SVG 1.1//EN\"\n",
       " \"http://www.w3.org/Graphics/SVG/1.1/DTD/svg11.dtd\">\n",
       "<!-- Generated by graphviz version 2.50.0 (0)\n",
       " -->\n",
       "<!-- Title: Tree Pages: 1 -->\n",
       "<svg width=\"579pt\" height=\"433pt\"\n",
       " viewBox=\"0.00 0.00 579.00 433.00\" xmlns=\"http://www.w3.org/2000/svg\" xmlns:xlink=\"http://www.w3.org/1999/xlink\">\n",
       "<g id=\"graph0\" class=\"graph\" transform=\"scale(1 1) rotate(0) translate(4 429)\">\n",
       "<title>Tree</title>\n",
       "<polygon fill=\"white\" stroke=\"transparent\" points=\"-4,4 -4,-429 575,-429 575,4 -4,4\"/>\n",
       "<!-- 0 -->\n",
       "<g id=\"node1\" class=\"node\">\n",
       "<title>0</title>\n",
       "<path fill=\"#f6d5bd\" stroke=\"black\" d=\"M391.5,-425C391.5,-425 304.5,-425 304.5,-425 298.5,-425 292.5,-419 292.5,-413 292.5,-413 292.5,-354 292.5,-354 292.5,-348 298.5,-342 304.5,-342 304.5,-342 391.5,-342 391.5,-342 397.5,-342 403.5,-348 403.5,-354 403.5,-354 403.5,-413 403.5,-413 403.5,-419 397.5,-425 391.5,-425\"/>\n",
       "<text text-anchor=\"start\" x=\"319\" y=\"-409.8\" font-family=\"Helvetica,sans-Serif\" font-size=\"14.00\">X0 ≤ 2.25</text>\n",
       "<text text-anchor=\"start\" x=\"300.5\" y=\"-394.8\" font-family=\"Helvetica,sans-Serif\" font-size=\"14.00\">entropy = 0.971</text>\n",
       "<text text-anchor=\"start\" x=\"307\" y=\"-379.8\" font-family=\"Helvetica,sans-Serif\" font-size=\"14.00\">samples = 20</text>\n",
       "<text text-anchor=\"start\" x=\"305\" y=\"-364.8\" font-family=\"Helvetica,sans-Serif\" font-size=\"14.00\">value = [12, 8]</text>\n",
       "<text text-anchor=\"start\" x=\"320.5\" y=\"-349.8\" font-family=\"Helvetica,sans-Serif\" font-size=\"14.00\">class = 0</text>\n",
       "</g>\n",
       "<!-- 1 -->\n",
       "<g id=\"node2\" class=\"node\">\n",
       "<title>1</title>\n",
       "<path fill=\"#ffffff\" stroke=\"black\" d=\"M324,-306C324,-306 250,-306 250,-306 244,-306 238,-300 238,-294 238,-294 238,-235 238,-235 238,-229 244,-223 250,-223 250,-223 324,-223 324,-223 330,-223 336,-229 336,-235 336,-235 336,-294 336,-294 336,-300 330,-306 324,-306\"/>\n",
       "<text text-anchor=\"start\" x=\"261.5\" y=\"-290.8\" font-family=\"Helvetica,sans-Serif\" font-size=\"14.00\">X1 ≤ 1.5</text>\n",
       "<text text-anchor=\"start\" x=\"247\" y=\"-275.8\" font-family=\"Helvetica,sans-Serif\" font-size=\"14.00\">entropy = 1.0</text>\n",
       "<text text-anchor=\"start\" x=\"246\" y=\"-260.8\" font-family=\"Helvetica,sans-Serif\" font-size=\"14.00\">samples = 12</text>\n",
       "<text text-anchor=\"start\" x=\"247.5\" y=\"-245.8\" font-family=\"Helvetica,sans-Serif\" font-size=\"14.00\">value = [6, 6]</text>\n",
       "<text text-anchor=\"start\" x=\"259.5\" y=\"-230.8\" font-family=\"Helvetica,sans-Serif\" font-size=\"14.00\">class = 0</text>\n",
       "</g>\n",
       "<!-- 0&#45;&gt;1 -->\n",
       "<g id=\"edge1\" class=\"edge\">\n",
       "<title>0&#45;&gt;1</title>\n",
       "<path fill=\"none\" stroke=\"black\" d=\"M326.84,-341.91C322.29,-333.2 317.45,-323.9 312.75,-314.89\"/>\n",
       "<polygon fill=\"black\" stroke=\"black\" points=\"315.85,-313.27 308.13,-306.02 309.65,-316.51 315.85,-313.27\"/>\n",
       "<text text-anchor=\"middle\" x=\"300.62\" y=\"-326.17\" font-family=\"Helvetica,sans-Serif\" font-size=\"14.00\">True</text>\n",
       "</g>\n",
       "<!-- 8 -->\n",
       "<g id=\"node9\" class=\"node\">\n",
       "<title>8</title>\n",
       "<path fill=\"#eeab7b\" stroke=\"black\" d=\"M452,-306C452,-306 366,-306 366,-306 360,-306 354,-300 354,-294 354,-294 354,-235 354,-235 354,-229 360,-223 366,-223 366,-223 452,-223 452,-223 458,-223 464,-229 464,-235 464,-235 464,-294 464,-294 464,-300 458,-306 452,-306\"/>\n",
       "<text text-anchor=\"start\" x=\"383.5\" y=\"-290.8\" font-family=\"Helvetica,sans-Serif\" font-size=\"14.00\">X1 ≤ 1.5</text>\n",
       "<text text-anchor=\"start\" x=\"362\" y=\"-275.8\" font-family=\"Helvetica,sans-Serif\" font-size=\"14.00\">entropy = 0.811</text>\n",
       "<text text-anchor=\"start\" x=\"371.5\" y=\"-260.8\" font-family=\"Helvetica,sans-Serif\" font-size=\"14.00\">samples = 8</text>\n",
       "<text text-anchor=\"start\" x=\"369.5\" y=\"-245.8\" font-family=\"Helvetica,sans-Serif\" font-size=\"14.00\">value = [6, 2]</text>\n",
       "<text text-anchor=\"start\" x=\"381.5\" y=\"-230.8\" font-family=\"Helvetica,sans-Serif\" font-size=\"14.00\">class = 0</text>\n",
       "</g>\n",
       "<!-- 0&#45;&gt;8 -->\n",
       "<g id=\"edge8\" class=\"edge\">\n",
       "<title>0&#45;&gt;8</title>\n",
       "<path fill=\"none\" stroke=\"black\" d=\"M369.16,-341.91C373.71,-333.2 378.55,-323.9 383.25,-314.89\"/>\n",
       "<polygon fill=\"black\" stroke=\"black\" points=\"386.35,-316.51 387.87,-306.02 380.15,-313.27 386.35,-316.51\"/>\n",
       "<text text-anchor=\"middle\" x=\"395.38\" y=\"-326.17\" font-family=\"Helvetica,sans-Serif\" font-size=\"14.00\">False</text>\n",
       "</g>\n",
       "<!-- 2 -->\n",
       "<g id=\"node3\" class=\"node\">\n",
       "<title>2</title>\n",
       "<path fill=\"#9ccef2\" stroke=\"black\" d=\"M201.5,-187C201.5,-187 114.5,-187 114.5,-187 108.5,-187 102.5,-181 102.5,-175 102.5,-175 102.5,-116 102.5,-116 102.5,-110 108.5,-104 114.5,-104 114.5,-104 201.5,-104 201.5,-104 207.5,-104 213.5,-110 213.5,-116 213.5,-116 213.5,-175 213.5,-175 213.5,-181 207.5,-187 201.5,-187\"/>\n",
       "<text text-anchor=\"start\" x=\"129\" y=\"-171.8\" font-family=\"Helvetica,sans-Serif\" font-size=\"14.00\">X0 ≤ 1.75</text>\n",
       "<text text-anchor=\"start\" x=\"110.5\" y=\"-156.8\" font-family=\"Helvetica,sans-Serif\" font-size=\"14.00\">entropy = 0.918</text>\n",
       "<text text-anchor=\"start\" x=\"120.5\" y=\"-141.8\" font-family=\"Helvetica,sans-Serif\" font-size=\"14.00\">samples = 6</text>\n",
       "<text text-anchor=\"start\" x=\"118.5\" y=\"-126.8\" font-family=\"Helvetica,sans-Serif\" font-size=\"14.00\">value = [2, 4]</text>\n",
       "<text text-anchor=\"start\" x=\"130.5\" y=\"-111.8\" font-family=\"Helvetica,sans-Serif\" font-size=\"14.00\">class = 1</text>\n",
       "</g>\n",
       "<!-- 1&#45;&gt;2 -->\n",
       "<g id=\"edge2\" class=\"edge\">\n",
       "<title>1&#45;&gt;2</title>\n",
       "<path fill=\"none\" stroke=\"black\" d=\"M242.24,-222.91C231.94,-213.56 220.89,-203.54 210.29,-193.93\"/>\n",
       "<polygon fill=\"black\" stroke=\"black\" points=\"212.44,-191.15 202.68,-187.02 207.73,-196.33 212.44,-191.15\"/>\n",
       "</g>\n",
       "<!-- 5 -->\n",
       "<g id=\"node6\" class=\"node\">\n",
       "<title>5</title>\n",
       "<path fill=\"#f2c09c\" stroke=\"black\" d=\"M330.5,-187C330.5,-187 243.5,-187 243.5,-187 237.5,-187 231.5,-181 231.5,-175 231.5,-175 231.5,-116 231.5,-116 231.5,-110 237.5,-104 243.5,-104 243.5,-104 330.5,-104 330.5,-104 336.5,-104 342.5,-110 342.5,-116 342.5,-116 342.5,-175 342.5,-175 342.5,-181 336.5,-187 330.5,-187\"/>\n",
       "<text text-anchor=\"start\" x=\"258\" y=\"-171.8\" font-family=\"Helvetica,sans-Serif\" font-size=\"14.00\">X0 ≤ 1.75</text>\n",
       "<text text-anchor=\"start\" x=\"239.5\" y=\"-156.8\" font-family=\"Helvetica,sans-Serif\" font-size=\"14.00\">entropy = 0.918</text>\n",
       "<text text-anchor=\"start\" x=\"249.5\" y=\"-141.8\" font-family=\"Helvetica,sans-Serif\" font-size=\"14.00\">samples = 6</text>\n",
       "<text text-anchor=\"start\" x=\"247.5\" y=\"-126.8\" font-family=\"Helvetica,sans-Serif\" font-size=\"14.00\">value = [4, 2]</text>\n",
       "<text text-anchor=\"start\" x=\"259.5\" y=\"-111.8\" font-family=\"Helvetica,sans-Serif\" font-size=\"14.00\">class = 0</text>\n",
       "</g>\n",
       "<!-- 1&#45;&gt;5 -->\n",
       "<g id=\"edge5\" class=\"edge\">\n",
       "<title>1&#45;&gt;5</title>\n",
       "<path fill=\"none\" stroke=\"black\" d=\"M287,-222.91C287,-214.65 287,-205.86 287,-197.3\"/>\n",
       "<polygon fill=\"black\" stroke=\"black\" points=\"290.5,-197.02 287,-187.02 283.5,-197.02 290.5,-197.02\"/>\n",
       "</g>\n",
       "<!-- 3 -->\n",
       "<g id=\"node4\" class=\"node\">\n",
       "<title>3</title>\n",
       "<path fill=\"#399de5\" stroke=\"black\" d=\"M84,-68C84,-68 12,-68 12,-68 6,-68 0,-62 0,-56 0,-56 0,-12 0,-12 0,-6 6,0 12,0 12,0 84,0 84,0 90,0 96,-6 96,-12 96,-12 96,-56 96,-56 96,-62 90,-68 84,-68\"/>\n",
       "<text text-anchor=\"start\" x=\"8\" y=\"-52.8\" font-family=\"Helvetica,sans-Serif\" font-size=\"14.00\">entropy = 0.0</text>\n",
       "<text text-anchor=\"start\" x=\"10.5\" y=\"-37.8\" font-family=\"Helvetica,sans-Serif\" font-size=\"14.00\">samples = 4</text>\n",
       "<text text-anchor=\"start\" x=\"8.5\" y=\"-22.8\" font-family=\"Helvetica,sans-Serif\" font-size=\"14.00\">value = [0, 4]</text>\n",
       "<text text-anchor=\"start\" x=\"20.5\" y=\"-7.8\" font-family=\"Helvetica,sans-Serif\" font-size=\"14.00\">class = 1</text>\n",
       "</g>\n",
       "<!-- 2&#45;&gt;3 -->\n",
       "<g id=\"edge3\" class=\"edge\">\n",
       "<title>2&#45;&gt;3</title>\n",
       "<path fill=\"none\" stroke=\"black\" d=\"M117.04,-103.73C107.79,-94.51 97.96,-84.74 88.72,-75.53\"/>\n",
       "<polygon fill=\"black\" stroke=\"black\" points=\"91.01,-72.87 81.45,-68.3 86.07,-77.84 91.01,-72.87\"/>\n",
       "</g>\n",
       "<!-- 4 -->\n",
       "<g id=\"node5\" class=\"node\">\n",
       "<title>4</title>\n",
       "<path fill=\"#e58139\" stroke=\"black\" d=\"M198,-68C198,-68 126,-68 126,-68 120,-68 114,-62 114,-56 114,-56 114,-12 114,-12 114,-6 120,0 126,0 126,0 198,0 198,0 204,0 210,-6 210,-12 210,-12 210,-56 210,-56 210,-62 204,-68 198,-68\"/>\n",
       "<text text-anchor=\"start\" x=\"122\" y=\"-52.8\" font-family=\"Helvetica,sans-Serif\" font-size=\"14.00\">entropy = 0.0</text>\n",
       "<text text-anchor=\"start\" x=\"124.5\" y=\"-37.8\" font-family=\"Helvetica,sans-Serif\" font-size=\"14.00\">samples = 2</text>\n",
       "<text text-anchor=\"start\" x=\"122.5\" y=\"-22.8\" font-family=\"Helvetica,sans-Serif\" font-size=\"14.00\">value = [2, 0]</text>\n",
       "<text text-anchor=\"start\" x=\"134.5\" y=\"-7.8\" font-family=\"Helvetica,sans-Serif\" font-size=\"14.00\">class = 0</text>\n",
       "</g>\n",
       "<!-- 2&#45;&gt;4 -->\n",
       "<g id=\"edge4\" class=\"edge\">\n",
       "<title>2&#45;&gt;4</title>\n",
       "<path fill=\"none\" stroke=\"black\" d=\"M159.49,-103.73C159.79,-95.52 160.11,-86.86 160.41,-78.56\"/>\n",
       "<polygon fill=\"black\" stroke=\"black\" points=\"163.92,-78.42 160.78,-68.3 156.92,-78.17 163.92,-78.42\"/>\n",
       "</g>\n",
       "<!-- 6 -->\n",
       "<g id=\"node7\" class=\"node\">\n",
       "<title>6</title>\n",
       "<path fill=\"#e58139\" stroke=\"black\" d=\"M319,-68C319,-68 247,-68 247,-68 241,-68 235,-62 235,-56 235,-56 235,-12 235,-12 235,-6 241,0 247,0 247,0 319,0 319,0 325,0 331,-6 331,-12 331,-12 331,-56 331,-56 331,-62 325,-68 319,-68\"/>\n",
       "<text text-anchor=\"start\" x=\"243\" y=\"-52.8\" font-family=\"Helvetica,sans-Serif\" font-size=\"14.00\">entropy = 0.0</text>\n",
       "<text text-anchor=\"start\" x=\"245.5\" y=\"-37.8\" font-family=\"Helvetica,sans-Serif\" font-size=\"14.00\">samples = 4</text>\n",
       "<text text-anchor=\"start\" x=\"243.5\" y=\"-22.8\" font-family=\"Helvetica,sans-Serif\" font-size=\"14.00\">value = [4, 0]</text>\n",
       "<text text-anchor=\"start\" x=\"255.5\" y=\"-7.8\" font-family=\"Helvetica,sans-Serif\" font-size=\"14.00\">class = 0</text>\n",
       "</g>\n",
       "<!-- 5&#45;&gt;6 -->\n",
       "<g id=\"edge6\" class=\"edge\">\n",
       "<title>5&#45;&gt;6</title>\n",
       "<path fill=\"none\" stroke=\"black\" d=\"M285.51,-103.73C285.21,-95.52 284.89,-86.86 284.59,-78.56\"/>\n",
       "<polygon fill=\"black\" stroke=\"black\" points=\"288.08,-78.17 284.22,-68.3 281.08,-78.42 288.08,-78.17\"/>\n",
       "</g>\n",
       "<!-- 7 -->\n",
       "<g id=\"node8\" class=\"node\">\n",
       "<title>7</title>\n",
       "<path fill=\"#399de5\" stroke=\"black\" d=\"M433,-68C433,-68 361,-68 361,-68 355,-68 349,-62 349,-56 349,-56 349,-12 349,-12 349,-6 355,0 361,0 361,0 433,0 433,0 439,0 445,-6 445,-12 445,-12 445,-56 445,-56 445,-62 439,-68 433,-68\"/>\n",
       "<text text-anchor=\"start\" x=\"357\" y=\"-52.8\" font-family=\"Helvetica,sans-Serif\" font-size=\"14.00\">entropy = 0.0</text>\n",
       "<text text-anchor=\"start\" x=\"359.5\" y=\"-37.8\" font-family=\"Helvetica,sans-Serif\" font-size=\"14.00\">samples = 2</text>\n",
       "<text text-anchor=\"start\" x=\"357.5\" y=\"-22.8\" font-family=\"Helvetica,sans-Serif\" font-size=\"14.00\">value = [0, 2]</text>\n",
       "<text text-anchor=\"start\" x=\"369.5\" y=\"-7.8\" font-family=\"Helvetica,sans-Serif\" font-size=\"14.00\">class = 1</text>\n",
       "</g>\n",
       "<!-- 5&#45;&gt;7 -->\n",
       "<g id=\"edge7\" class=\"edge\">\n",
       "<title>5&#45;&gt;7</title>\n",
       "<path fill=\"none\" stroke=\"black\" d=\"M327.96,-103.73C337.21,-94.51 347.04,-84.74 356.28,-75.53\"/>\n",
       "<polygon fill=\"black\" stroke=\"black\" points=\"358.93,-77.84 363.55,-68.3 353.99,-72.87 358.93,-77.84\"/>\n",
       "</g>\n",
       "<!-- 9 -->\n",
       "<g id=\"node10\" class=\"node\">\n",
       "<title>9</title>\n",
       "<path fill=\"#e58139\" stroke=\"black\" d=\"M445,-179.5C445,-179.5 373,-179.5 373,-179.5 367,-179.5 361,-173.5 361,-167.5 361,-167.5 361,-123.5 361,-123.5 361,-117.5 367,-111.5 373,-111.5 373,-111.5 445,-111.5 445,-111.5 451,-111.5 457,-117.5 457,-123.5 457,-123.5 457,-167.5 457,-167.5 457,-173.5 451,-179.5 445,-179.5\"/>\n",
       "<text text-anchor=\"start\" x=\"369\" y=\"-164.3\" font-family=\"Helvetica,sans-Serif\" font-size=\"14.00\">entropy = 0.0</text>\n",
       "<text text-anchor=\"start\" x=\"371.5\" y=\"-149.3\" font-family=\"Helvetica,sans-Serif\" font-size=\"14.00\">samples = 6</text>\n",
       "<text text-anchor=\"start\" x=\"369.5\" y=\"-134.3\" font-family=\"Helvetica,sans-Serif\" font-size=\"14.00\">value = [6, 0]</text>\n",
       "<text text-anchor=\"start\" x=\"381.5\" y=\"-119.3\" font-family=\"Helvetica,sans-Serif\" font-size=\"14.00\">class = 0</text>\n",
       "</g>\n",
       "<!-- 8&#45;&gt;9 -->\n",
       "<g id=\"edge9\" class=\"edge\">\n",
       "<title>8&#45;&gt;9</title>\n",
       "<path fill=\"none\" stroke=\"black\" d=\"M409,-222.91C409,-212.2 409,-200.62 409,-189.78\"/>\n",
       "<polygon fill=\"black\" stroke=\"black\" points=\"412.5,-189.67 409,-179.67 405.5,-189.67 412.5,-189.67\"/>\n",
       "</g>\n",
       "<!-- 10 -->\n",
       "<g id=\"node11\" class=\"node\">\n",
       "<title>10</title>\n",
       "<path fill=\"#399de5\" stroke=\"black\" d=\"M559,-179.5C559,-179.5 487,-179.5 487,-179.5 481,-179.5 475,-173.5 475,-167.5 475,-167.5 475,-123.5 475,-123.5 475,-117.5 481,-111.5 487,-111.5 487,-111.5 559,-111.5 559,-111.5 565,-111.5 571,-117.5 571,-123.5 571,-123.5 571,-167.5 571,-167.5 571,-173.5 565,-179.5 559,-179.5\"/>\n",
       "<text text-anchor=\"start\" x=\"483\" y=\"-164.3\" font-family=\"Helvetica,sans-Serif\" font-size=\"14.00\">entropy = 0.0</text>\n",
       "<text text-anchor=\"start\" x=\"485.5\" y=\"-149.3\" font-family=\"Helvetica,sans-Serif\" font-size=\"14.00\">samples = 2</text>\n",
       "<text text-anchor=\"start\" x=\"483.5\" y=\"-134.3\" font-family=\"Helvetica,sans-Serif\" font-size=\"14.00\">value = [0, 2]</text>\n",
       "<text text-anchor=\"start\" x=\"495.5\" y=\"-119.3\" font-family=\"Helvetica,sans-Serif\" font-size=\"14.00\">class = 1</text>\n",
       "</g>\n",
       "<!-- 8&#45;&gt;10 -->\n",
       "<g id=\"edge10\" class=\"edge\">\n",
       "<title>8&#45;&gt;10</title>\n",
       "<path fill=\"none\" stroke=\"black\" d=\"M448.55,-222.91C459.84,-211.32 472.14,-198.7 483.43,-187.11\"/>\n",
       "<polygon fill=\"black\" stroke=\"black\" points=\"486.21,-189.27 490.68,-179.67 481.2,-184.39 486.21,-189.27\"/>\n",
       "</g>\n",
       "</g>\n",
       "</svg>\n"
      ],
      "text/plain": [
       "<graphviz.sources.Source at 0x267c8249550>"
      ]
     },
     "execution_count": 22,
     "metadata": {},
     "output_type": "execute_result"
    },
    {
     "data": {
      "text/plain": [
       "<Figure size 100x100 with 0 Axes>"
      ]
     },
     "metadata": {},
     "output_type": "display_data"
    }
   ],
   "source": [
    "dot = export_graphviz(dtc_if_numerical, feature_names=['X0', 'X1'], class_names=['0', '1'], \n",
    "                      impurity=True, filled=True, rounded=True, special_characters=True)\n",
    "\n",
    "plt.figure(figsize=(1,1))\n",
    "graph = graphviz.Source(dot)\n",
    "graph"
   ]
  },
  {
   "cell_type": "code",
   "execution_count": null,
   "id": "9239b55d-dcfb-4184-8e7d-65457f36d4dc",
   "metadata": {},
   "outputs": [],
   "source": []
  }
 ],
 "metadata": {
  "kernelspec": {
   "display_name": "Python 3 (ipykernel)",
   "language": "python",
   "name": "python3"
  },
  "language_info": {
   "codemirror_mode": {
    "name": "ipython",
    "version": 3
   },
   "file_extension": ".py",
   "mimetype": "text/x-python",
   "name": "python",
   "nbconvert_exporter": "python",
   "pygments_lexer": "ipython3",
   "version": "3.11.7"
  }
 },
 "nbformat": 4,
 "nbformat_minor": 5
}
