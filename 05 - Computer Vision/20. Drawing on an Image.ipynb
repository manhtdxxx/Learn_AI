{
 "cells": [
  {
   "cell_type": "code",
   "execution_count": 1,
   "id": "a2461677-145f-4412-8574-01e9afb53aab",
   "metadata": {},
   "outputs": [],
   "source": [
    "import cv2\n",
    "from PIL import Image\n",
    "import numpy as np\n",
    "import matplotlib.pyplot as plt"
   ]
  },
  {
   "cell_type": "code",
   "execution_count": 2,
   "id": "500b2fab-513e-469b-a992-81f3912a36d2",
   "metadata": {},
   "outputs": [],
   "source": [
    "def display(title, arr):\n",
    "    cv2.imshow(title, arr)\n",
    "    cv2.waitKey(3000)\n",
    "    cv2.destroyWindow(title)"
   ]
  },
  {
   "cell_type": "code",
   "execution_count": 3,
   "id": "134b9de5-a5e6-4c5e-b8b7-ade72d6a8634",
   "metadata": {},
   "outputs": [],
   "source": [
    "# Tạo 1 ảnh\n",
    "arr = np.zeros((400, 400, 3), dtype='uint8')\n",
    "display('BLACK', arr)"
   ]
  },
  {
   "cell_type": "markdown",
   "id": "8259830d-17fd-4a14-8fc3-f30f166db38e",
   "metadata": {},
   "source": [
    "# VẼ HÌNH TRÊN ẢNH"
   ]
  },
  {
   "cell_type": "markdown",
   "id": "2e37f9df-b092-469e-b6c4-a297853b09ee",
   "metadata": {},
   "source": [
    "##### cv2.line(image, start_point, end_point, color, thickness)"
   ]
  },
  {
   "cell_type": "markdown",
   "id": "fe02a91c-9fc9-403c-83d5-63c8fbbfd456",
   "metadata": {},
   "source": [
    "##### cv2.rectangle(image, top_left_point, bottom_right_point, color, thickness)"
   ]
  },
  {
   "cell_type": "markdown",
   "id": "a13f418c-9011-4ddf-bdc1-77362f22b80d",
   "metadata": {},
   "source": [
    "##### cv2.circle(image, center, radius, color, thickness)"
   ]
  },
  {
   "cell_type": "markdown",
   "id": "2eb24b4d-a0c4-4228-ab77-4ed72b801912",
   "metadata": {},
   "source": [
    "##### cv2.ellipse(image, center, axes, angle, start_angle, end_angle, color, thickness)"
   ]
  },
  {
   "cell_type": "markdown",
   "id": "824d9199-1489-4999-8737-1de8107f0531",
   "metadata": {},
   "source": [
    "##### cv2.polylines(image, [array_of_points], is_closed, color, thickness)"
   ]
  },
  {
   "cell_type": "code",
   "execution_count": 4,
   "id": "c8ba8677-1bd2-4fbc-8167-669f393d41aa",
   "metadata": {},
   "outputs": [],
   "source": [
    "cv2.line(arr, (50, 50), (350, 50), (255, 0, 0), 5)\n",
    "display('LINE IN BLACK', arr)"
   ]
  },
  {
   "cell_type": "code",
   "execution_count": 5,
   "id": "6775f0b1-78eb-4a33-9759-b8b19cf05281",
   "metadata": {},
   "outputs": [],
   "source": [
    "cv2.circle(arr, (100, 100), 50, (0, 255, 0), -1)\n",
    "display('CIRCLE IN BLACK', arr)"
   ]
  },
  {
   "cell_type": "code",
   "execution_count": 6,
   "id": "71db8e1a-1986-4682-8f4e-e81feeb5d0e5",
   "metadata": {},
   "outputs": [],
   "source": [
    "cv2.rectangle(arr, (100, 100), (300, 300), (0, 0, 255), -1)\n",
    "display('RECTANGLE IN BLACK', arr)"
   ]
  },
  {
   "cell_type": "markdown",
   "id": "b3ccce6e-66f6-49ee-9439-9133563c314c",
   "metadata": {},
   "source": [
    "# GHI TEXT TRÊN ẢNH"
   ]
  },
  {
   "cell_type": "code",
   "execution_count": 7,
   "id": "ddb97c32-952b-4004-aeea-a0dbe52ae21d",
   "metadata": {},
   "outputs": [],
   "source": [
    "content = 'Trần Đức Mạnh'\n",
    "font = cv2.FONT_HERSHEY_SIMPLEX\n",
    "size = 0.5\n",
    "cv2.putText(arr, content, (10, 380), font, size, (255, 255, 255), 1)\n",
    "display('TEXT IN BLACK', arr)"
   ]
  },
  {
   "cell_type": "code",
   "execution_count": null,
   "id": "5117b4b1-807e-42a9-9b2d-4f6e5be41e4f",
   "metadata": {},
   "outputs": [],
   "source": []
  }
 ],
 "metadata": {
  "kernelspec": {
   "display_name": "Python 3 (ipykernel)",
   "language": "python",
   "name": "python3"
  },
  "language_info": {
   "codemirror_mode": {
    "name": "ipython",
    "version": 3
   },
   "file_extension": ".py",
   "mimetype": "text/x-python",
   "name": "python",
   "nbconvert_exporter": "python",
   "pygments_lexer": "ipython3",
   "version": "3.11.7"
  }
 },
 "nbformat": 4,
 "nbformat_minor": 5
}
