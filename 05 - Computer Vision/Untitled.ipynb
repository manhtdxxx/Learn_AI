{
 "cells": [
  {
   "cell_type": "markdown",
   "id": "a170903b-576c-455c-b984-e1f9705c794d",
   "metadata": {},
   "source": [
    "# Điểm đặc trưng - Feature"
   ]
  },
  {
   "cell_type": "raw",
   "id": "dcd2963c-5ff9-42e0-8fec-ef13dac398d9",
   "metadata": {},
   "source": [
    "• Là một điểm hoặc vùng trên hình ảnh mà có tính chất độc đáo hoặc quan trọng.\n",
    "    \n",
    "• Điều quan trọng là chúng thường được sử dụng để nhận biết hoặc theo dõi các đối tượng \n",
    "trong các ứng dụng như nhận diện khuôn mặt, nhận dạng biểu cảm, nhận dạng vật thể, \n",
    "và nhiều nhiệm vụ khác trong lĩnh vụ thị giác máy tính.."
   ]
  },
  {
   "cell_type": "markdown",
   "id": "62f618a0-1f7b-4e08-a4ac-4bc7785929e4",
   "metadata": {},
   "source": [
    "# Đặc trưng của khuôn mặt"
   ]
  },
  {
   "cell_type": "raw",
   "id": "fe035238-eebd-4339-8fe4-359677938d8e",
   "metadata": {},
   "source": [
    "• Khoảng cách giữa hai mắt.\n",
    "• Khoảng cách từ trán tới cẩm.\n",
    "• Khoảng cách giữa mũi và miệng.\n",
    "• Độ sâu của hốc mắt.\n",
    "• Hình dạng của xương gò má.\n",
    "• Đường viền của môi, tai và cằm."
   ]
  },
  {
   "cell_type": "code",
   "execution_count": null,
   "id": "4622014d-3e63-4de4-b7c8-03f5f19b200b",
   "metadata": {},
   "outputs": [],
   "source": []
  }
 ],
 "metadata": {
  "kernelspec": {
   "display_name": "Python 3 (ipykernel)",
   "language": "python",
   "name": "python3"
  },
  "language_info": {
   "codemirror_mode": {
    "name": "ipython",
    "version": 3
   },
   "file_extension": ".py",
   "mimetype": "text/x-python",
   "name": "python",
   "nbconvert_exporter": "python",
   "pygments_lexer": "ipython3",
   "version": "3.11.7"
  }
 },
 "nbformat": 4,
 "nbformat_minor": 5
}
