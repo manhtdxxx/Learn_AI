{
 "cells": [
  {
   "cell_type": "code",
   "execution_count": 3,
   "id": "67e6e6d6-2b85-4948-821e-50b3f93208f0",
   "metadata": {},
   "outputs": [],
   "source": [
    "from scipy import linalg, integrate\n",
    "import numpy as np"
   ]
  },
  {
   "cell_type": "markdown",
   "id": "9a1c9b76-8fb3-4336-ba31-7af993bd7b46",
   "metadata": {},
   "source": [
    "### Hệ phương trình tuyến tính"
   ]
  },
  {
   "cell_type": "code",
   "execution_count": 2,
   "id": "b27ba839-2b1e-46a6-bb4f-ba91640c823e",
   "metadata": {},
   "outputs": [
    {
     "name": "stdout",
     "output_type": "stream",
     "text": [
      "Kết quả:  [ 3. -1.]\n"
     ]
    }
   ],
   "source": [
    "# hệ phương trình tuyến tính : Ax = B\n",
    "A = np.array([[2, 1],[3, 2]])  # ma trận 2x2\n",
    "B = np.array([5,7])  # ma trận 1x2\n",
    "\n",
    "# giải\n",
    "x = linalg.solve(A, B)\n",
    "print(\"Kết quả: \", x)  # ma trận 2x1"
   ]
  },
  {
   "cell_type": "markdown",
   "id": "8496a695-5486-4ee6-a9cb-9ce205d66e57",
   "metadata": {},
   "source": [
    "### Tích phân"
   ]
  },
  {
   "cell_type": "code",
   "execution_count": 4,
   "id": "dda562ad-0778-4d3e-bea5-ac08ab41e2a9",
   "metadata": {},
   "outputs": [
    {
     "data": {
      "text/plain": [
       "(0.33333333333333337, 3.700743415417189e-15)"
      ]
     },
     "execution_count": 4,
     "metadata": {},
     "output_type": "execute_result"
    }
   ],
   "source": [
    "def f(x):\n",
    "    return x ** 2\n",
    "\n",
    "# tính tích phân của f(x) từ 0 đến 1\n",
    "integral = integrate.quad(f, 0, 1)\n",
    "integral"
   ]
  },
  {
   "cell_type": "raw",
   "id": "20f68d5d-77f8-4e62-b30d-1d197b1cd7f7",
   "metadata": {},
   "source": [
    "the first value is the result of the integration process\n",
    "the second value is an estimate of the absolute error in the numerical integration result"
   ]
  },
  {
   "cell_type": "markdown",
   "id": "c01f5799-7865-4bdc-974e-3f57c63a536a",
   "metadata": {},
   "source": [
    "### Giá trị riêng, Vector riêng"
   ]
  },
  {
   "cell_type": "code",
   "execution_count": null,
   "id": "2cf13c60-a57e-4810-ae67-1245e8adbfcf",
   "metadata": {},
   "outputs": [],
   "source": []
  }
 ],
 "metadata": {
  "kernelspec": {
   "display_name": "Python 3 (ipykernel)",
   "language": "python",
   "name": "python3"
  },
  "language_info": {
   "codemirror_mode": {
    "name": "ipython",
    "version": 3
   },
   "file_extension": ".py",
   "mimetype": "text/x-python",
   "name": "python",
   "nbconvert_exporter": "python",
   "pygments_lexer": "ipython3",
   "version": "3.11.7"
  }
 },
 "nbformat": 4,
 "nbformat_minor": 5
}
