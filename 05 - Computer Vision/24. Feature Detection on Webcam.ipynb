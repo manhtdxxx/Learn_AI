{
 "cells": [
  {
   "cell_type": "markdown",
   "id": "88c6d20a-c7af-4c5a-806b-eb7acc633f1d",
   "metadata": {},
   "source": [
    "# Haar Cascade: https://github.com/opencv/opencv/tree/master/data/haarcascades"
   ]
  },
  {
   "cell_type": "code",
   "execution_count": 1,
   "id": "a0bd887f-a3b1-44f2-9311-6f2bb689f124",
   "metadata": {
    "tags": []
   },
   "outputs": [],
   "source": [
    "import cv2\n",
    "import time"
   ]
  },
  {
   "cell_type": "code",
   "execution_count": 2,
   "id": "9f75cabd-3594-45e6-b2dd-bbc86ad49ef3",
   "metadata": {},
   "outputs": [],
   "source": [
    "def detect_FACE_EYE(arr):\n",
    "    gray_arr = cv2.cvtColor(arr, cv2.COLOR_BGR2GRAY)\n",
    "\n",
    "    \n",
    "    face_cascade_path = './haarcascade/haarcascade_frontalface_default.xml'\n",
    "    face_cascade = cv2.CascadeClassifier(face_cascade_path)\n",
    "    \n",
    "    eye_cascade_path = './haarcascade/haarcascade_eye_tree_eyeglasses.xml'\n",
    "    eye_cascade = cv2.CascadeClassifier(eye_cascade_path)\n",
    "\n",
    "    \n",
    "    face_box = face_cascade.detectMultiScale(gray_arr, scaleFactor= 1.1, minNeighbors = 5, minSize=(30, 30))\n",
    "    eye_box = eye_cascade.detectMultiScale(gray_arr, scaleFactor= 1.1, minNeighbors = 1, minSize=(5, 5))\n",
    "\n",
    "    \n",
    "    for x, y, height, width in face_box:\n",
    "        start_point = (x, y)\n",
    "        end_point = (x + width, y + height)\n",
    "        cv2.rectangle(arr, start_point, end_point, (0, 255, 0), 3)\n",
    "\n",
    "    for x, y, height, width in eye_box:\n",
    "        start_point = (x, y)\n",
    "        end_point = (x + width, y + height)\n",
    "        cv2.rectangle(arr, start_point, end_point, (255, 0, 0), 3)\n",
    "\n",
    "    \n",
    "    return arr"
   ]
  },
  {
   "cell_type": "code",
   "execution_count": 3,
   "id": "d73eea8c-0042-4c0f-9e00-30351bd928d5",
   "metadata": {},
   "outputs": [],
   "source": [
    "my_camera = cv2.VideoCapture(0)\n",
    "\n",
    "# Create a window named 'VIDEO PLAYER' to display the video\n",
    "cv2.namedWindow('MY CAMERA', cv2.WINDOW_NORMAL)\n",
    "\n",
    "\n",
    "# Loop frames to create a video\n",
    "while True:\n",
    "    # Record the start time\n",
    "    start_time = time.time()\n",
    "    \n",
    "    # Read a frame from the video\n",
    "    ret, frame = my_camera.read()\n",
    "    \n",
    "    # If the frame was not read successfully (end of the video), break the loop\n",
    "    if not ret:\n",
    "        break\n",
    "    \n",
    "    # Record the end time\n",
    "    end_time = time.time()\n",
    "\n",
    "    \n",
    "    # Detect\n",
    "    detected_frame = detect_FACE_EYE(frame)\n",
    "\n",
    "    \n",
    "    # Caculate FPS\n",
    "    fps = 1 / (end_time - start_time)\n",
    "    cv2.putText(detected_frame, '{:.2f}'.format(fps), (20, 80), cv2.FONT_HERSHEY_SIMPLEX, 2, (255, 255, 255), 5)\n",
    "\n",
    "    \n",
    "    # Display the frame in the 'VIDEO PLAYER' window\n",
    "    cv2.imshow('MY CAMERA', detected_frame)\n",
    "\n",
    "    # If the 'q' key is pressed, break the loop\n",
    "    if (cv2.waitKey(1) & 0xFF) == ord('q'):\n",
    "        break\n",
    "\n",
    "\n",
    "# Release the video capture object\n",
    "my_camera.release()\n",
    "# Close all OpenCV windows\n",
    "cv2.destroyAllWindows()"
   ]
  },
  {
   "cell_type": "code",
   "execution_count": null,
   "id": "13818387-57e5-4d18-84e6-76fac3965410",
   "metadata": {},
   "outputs": [],
   "source": []
  }
 ],
 "metadata": {
  "kernelspec": {
   "display_name": "Python 3 (ipykernel)",
   "language": "python",
   "name": "python3"
  },
  "language_info": {
   "codemirror_mode": {
    "name": "ipython",
    "version": 3
   },
   "file_extension": ".py",
   "mimetype": "text/x-python",
   "name": "python",
   "nbconvert_exporter": "python",
   "pygments_lexer": "ipython3",
   "version": "3.11.7"
  }
 },
 "nbformat": 4,
 "nbformat_minor": 5
}
