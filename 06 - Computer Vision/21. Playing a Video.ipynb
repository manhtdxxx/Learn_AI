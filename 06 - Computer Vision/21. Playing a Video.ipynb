{
 "cells": [
  {
   "cell_type": "code",
   "execution_count": 1,
   "id": "4007866b-3bed-4fa0-9de7-ccdfca82f65f",
   "metadata": {},
   "outputs": [],
   "source": [
    "import cv2\n",
    "from PIL import Image\n",
    "import numpy as np\n",
    "import matplotlib.pyplot as plt\n",
    "import time"
   ]
  },
  {
   "cell_type": "markdown",
   "id": "1d1b2da8-946f-4207-9463-aabc15d2dc27",
   "metadata": {},
   "source": [
    "# Video"
   ]
  },
  {
   "cell_type": "raw",
   "id": "cf8434a6-3320-4973-a44d-5858ec8f694b",
   "metadata": {},
   "source": [
    "• Video là một chuỗi các hình ảnh tĩnh được thể hiện theo một\n",
    "tốc độ cố định để tạo ra một dãy hình ảnh động.\n",
    "\n",
    "• Mỗi hình ảnh trong video được gọi là \"frame\" và được hiển thị liên tiếp \n",
    "với tốc độ nhất định để tạo ra hiệu ứng hình ảnh động.\n",
    "\n",
    "• Tốc độ này thường được đo bằng số lượng frame hiển thị mỗi giây \n",
    "và được đo bằng đơn vị \"khung hình trên giây\" (FPS - Frame per Second)."
   ]
  },
  {
   "cell_type": "code",
   "execution_count": 25,
   "id": "3cf76812-2d32-4d70-92c7-fc551b0c62af",
   "metadata": {},
   "outputs": [
    {
     "data": {
      "text/plain": [
       "< cv2.VideoCapture 0000017114A71670>"
      ]
     },
     "execution_count": 25,
     "metadata": {},
     "output_type": "execute_result"
    }
   ],
   "source": [
    "path = './img/video01.mp4'\n",
    "vid = cv2.VideoCapture(path)\n",
    "vid  # object"
   ]
  },
  {
   "cell_type": "code",
   "execution_count": 26,
   "id": "99ec661c-2f1b-44e0-9ac4-9cb85dc4db5b",
   "metadata": {},
   "outputs": [
    {
     "data": {
      "text/plain": [
       "(True, (2160, 3840, 3))"
      ]
     },
     "execution_count": 26,
     "metadata": {},
     "output_type": "execute_result"
    }
   ],
   "source": [
    "ret, frame = vid.read()  # ret trả về True nếu đọc được frame\n",
    "ret, frame.shape  # frame là array"
   ]
  },
  {
   "cell_type": "code",
   "execution_count": 27,
   "id": "c49d2144-1ebf-4c0f-82f0-f185de100b8d",
   "metadata": {},
   "outputs": [],
   "source": [
    "# Create a window named 'VIDEO PLAYER' to display the video\n",
    "cv2.namedWindow('VIDEO PLAYER', cv2.WINDOW_NORMAL)\n",
    "\n",
    "\n",
    "# Loop frames to create a video\n",
    "while True:\n",
    "    # Record the start time\n",
    "    start_time = time.time()\n",
    "    \n",
    "    # Read a frame from the video\n",
    "    ret, frame = vid.read()\n",
    "    \n",
    "    # If the frame was not read successfully (end of the video), break the loop\n",
    "    if not ret:\n",
    "        break\n",
    "\n",
    "    # Record the end time\n",
    "    end_time = time.time()\n",
    "\n",
    "    # Caculate FPS\n",
    "    fps = 1 / (end_time - start_time)\n",
    "    \n",
    "    #\n",
    "    cv2.putText(frame, '{:.2f}'.format(fps), (100, 500), cv2.FONT_HERSHEY_SIMPLEX, 5, (255, 255, 255), 5)\n",
    "    \n",
    "    # Display the frame in the 'VIDEO PLAYER' window\n",
    "    cv2.imshow('VIDEO PLAYER', frame)\n",
    "\n",
    "    # If the 'q' key is pressed, break the loop\n",
    "    if (cv2.waitKey(1) & 0xFF) == ord('q'):\n",
    "        break\n",
    "\n",
    "\n",
    "# Release the video capture object\n",
    "vid.release()\n",
    "# Close all OpenCV windows\n",
    "cv2.destroyAllWindows()"
   ]
  },
  {
   "cell_type": "code",
   "execution_count": null,
   "id": "95167859-c4c6-44a8-b640-c387fec70dca",
   "metadata": {},
   "outputs": [],
   "source": []
  }
 ],
 "metadata": {
  "kernelspec": {
   "display_name": "Python 3 (ipykernel)",
   "language": "python",
   "name": "python3"
  },
  "language_info": {
   "codemirror_mode": {
    "name": "ipython",
    "version": 3
   },
   "file_extension": ".py",
   "mimetype": "text/x-python",
   "name": "python",
   "nbconvert_exporter": "python",
   "pygments_lexer": "ipython3",
   "version": "3.11.7"
  }
 },
 "nbformat": 4,
 "nbformat_minor": 5
}
