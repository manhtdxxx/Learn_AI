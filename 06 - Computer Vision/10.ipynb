{
 "cells": [
  {
   "cell_type": "code",
   "execution_count": 1,
   "id": "206bd633-865f-4b16-b90d-78c262be7a29",
   "metadata": {},
   "outputs": [],
   "source": [
    "from PIL import Image\n",
    "import matplotlib.pyplot as plt\n",
    "import numpy as np"
   ]
  },
  {
   "cell_type": "markdown",
   "id": "730d5a46-9c79-4b45-846a-e65ffcba0428",
   "metadata": {},
   "source": [
    "# TƯƠNG TÁC VỚI ẢNH"
   ]
  },
  {
   "cell_type": "code",
   "execution_count": 2,
   "id": "e85a3b57-7e43-4c6f-868a-0cc18987ef4e",
   "metadata": {},
   "outputs": [],
   "source": [
    "path = '.\\\\img\\\\sunflower03.jpg'\n",
    "im = Image.open(path)"
   ]
  },
  {
   "cell_type": "code",
   "execution_count": 3,
   "id": "a81e33b3-60bf-4d46-8a5d-0189150032c9",
   "metadata": {},
   "outputs": [
    {
     "name": "stdout",
     "output_type": "stream",
     "text": [
      "[(229.6298701298702, 115.99350649350646), (167.94155844155847, 130.27922077922074), (166.64285714285717, 71.18831168831164)]\n"
     ]
    }
   ],
   "source": [
    "# chuyển đổi backend\n",
    "plt.switch_backend('tkagg')\n",
    "\n",
    "# hiện ảnh\n",
    "plt.imshow(im)\n",
    "plt.title('CLICK ON THE IMAGE TO SELECT POINTS')\n",
    "\n",
    "#\n",
    "points = plt.ginput(n=3, timeout=30)  # n is the number of points to select, timeout is in seconds\n",
    "print(points)\n",
    "\n",
    "# p có show() nhé vì chuyển đổi backend\n",
    "plt.show()"
   ]
  },
  {
   "cell_type": "code",
   "execution_count": 4,
   "id": "cb5f6e53-533a-43ad-97a3-d60c074e9b1e",
   "metadata": {},
   "outputs": [],
   "source": [
    "plt.close()\n",
    "\n",
    "plt.imshow(im)\n",
    "\n",
    "for i in points:\n",
    "    x, y = i\n",
    "    plt.plot(x, y, 'y+')\n",
    "\n",
    "plt.show()"
   ]
  }
 ],
 "metadata": {
  "kernelspec": {
   "display_name": "Python 3 (ipykernel)",
   "language": "python",
   "name": "python3"
  },
  "language_info": {
   "codemirror_mode": {
    "name": "ipython",
    "version": 3
   },
   "file_extension": ".py",
   "mimetype": "text/x-python",
   "name": "python",
   "nbconvert_exporter": "python",
   "pygments_lexer": "ipython3",
   "version": "3.11.7"
  }
 },
 "nbformat": 4,
 "nbformat_minor": 5
}
